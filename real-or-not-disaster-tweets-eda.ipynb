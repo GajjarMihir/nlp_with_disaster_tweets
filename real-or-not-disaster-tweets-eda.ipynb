{
 "cells": [
  {
   "cell_type": "code",
   "execution_count": 1,
   "metadata": {
    "_cell_guid": "b1076dfc-b9ad-4769-8c92-a6c4dae69d19",
    "_uuid": "8f2839f25d086af736a60e9eeb907d3b93b6e0e5",
    "execution": {
     "iopub.execute_input": "2020-12-11T22:15:09.711969Z",
     "iopub.status.busy": "2020-12-11T22:15:09.711192Z",
     "iopub.status.idle": "2020-12-11T22:15:09.715661Z",
     "shell.execute_reply": "2020-12-11T22:15:09.716520Z"
    },
    "papermill": {
     "duration": 0.060573,
     "end_time": "2020-12-11T22:15:09.716755",
     "exception": false,
     "start_time": "2020-12-11T22:15:09.656182",
     "status": "completed"
    },
    "tags": []
   },
   "outputs": [
    {
     "name": "stdout",
     "output_type": "stream",
     "text": [
      "/kaggle/input/nlp-getting-started/sample_submission.csv\n",
      "/kaggle/input/nlp-getting-started/train.csv\n",
      "/kaggle/input/nlp-getting-started/test.csv\n"
     ]
    }
   ],
   "source": [
    "# This Python 3 environment comes with many helpful analytics libraries installed\n",
    "# It is defined by the kaggle/python Docker image: https://github.com/kaggle/docker-python\n",
    "# For example, here's several helpful packages to load\n",
    "\n",
    "import numpy as np # linear algebra\n",
    "import pandas as pd # data processing, CSV file I/O (e.g. pd.read_csv)\n",
    "\n",
    "# Input data files are available in the read-only \"../input/\" directory\n",
    "# For example, running this (by clicking run or pressing Shift+Enter) will list all files under the input directory\n",
    "\n",
    "import os\n",
    "for dirname, _, filenames in os.walk('/kaggle/input'):\n",
    "    for filename in filenames:\n",
    "        print(os.path.join(dirname, filename))\n",
    "\n",
    "# You can write up to 20GB to the current directory (/kaggle/working/) that gets preserved as output when you create a version using \"Save & Run All\" \n",
    "# You can also write temporary files to /kaggle/temp/, but they won't be saved outside of the current session"
   ]
  },
  {
   "cell_type": "markdown",
   "metadata": {
    "papermill": {
     "duration": 0.046015,
     "end_time": "2020-12-11T22:15:09.810953",
     "exception": false,
     "start_time": "2020-12-11T22:15:09.764938",
     "status": "completed"
    },
    "tags": []
   },
   "source": [
    "# Imports"
   ]
  },
  {
   "cell_type": "code",
   "execution_count": 2,
   "metadata": {
    "execution": {
     "iopub.execute_input": "2020-12-11T22:15:09.906126Z",
     "iopub.status.busy": "2020-12-11T22:15:09.905383Z",
     "iopub.status.idle": "2020-12-11T22:15:09.907723Z",
     "shell.execute_reply": "2020-12-11T22:15:09.908345Z"
    },
    "papermill": {
     "duration": 0.052808,
     "end_time": "2020-12-11T22:15:09.908475",
     "exception": false,
     "start_time": "2020-12-11T22:15:09.855667",
     "status": "completed"
    },
    "tags": []
   },
   "outputs": [],
   "source": [
    "# ! pip install pycountry"
   ]
  },
  {
   "cell_type": "code",
   "execution_count": 3,
   "metadata": {
    "execution": {
     "iopub.execute_input": "2020-12-11T22:15:10.006566Z",
     "iopub.status.busy": "2020-12-11T22:15:10.005722Z",
     "iopub.status.idle": "2020-12-11T22:15:10.013608Z",
     "shell.execute_reply": "2020-12-11T22:15:10.012877Z"
    },
    "papermill": {
     "duration": 0.058183,
     "end_time": "2020-12-11T22:15:10.013731",
     "exception": false,
     "start_time": "2020-12-11T22:15:09.955548",
     "status": "completed"
    },
    "tags": []
   },
   "outputs": [],
   "source": [
    "import random\n",
    "\n",
    "from collections import Counter\n",
    "import pycountry    # To normalize the location field."
   ]
  },
  {
   "cell_type": "markdown",
   "metadata": {
    "papermill": {
     "duration": 0.046275,
     "end_time": "2020-12-11T22:15:10.105642",
     "exception": false,
     "start_time": "2020-12-11T22:15:10.059367",
     "status": "completed"
    },
    "tags": []
   },
   "source": [
    "# Reading the data"
   ]
  },
  {
   "cell_type": "code",
   "execution_count": 4,
   "metadata": {
    "_cell_guid": "79c7e3d0-c299-4dcb-8224-4455121ee9b0",
    "_uuid": "d629ff2d2480ee46fbb7e2d37f6b5fab8052498a",
    "execution": {
     "iopub.execute_input": "2020-12-11T22:15:10.204096Z",
     "iopub.status.busy": "2020-12-11T22:15:10.203425Z",
     "iopub.status.idle": "2020-12-11T22:15:10.271226Z",
     "shell.execute_reply": "2020-12-11T22:15:10.270603Z"
    },
    "papermill": {
     "duration": 0.11941,
     "end_time": "2020-12-11T22:15:10.271353",
     "exception": false,
     "start_time": "2020-12-11T22:15:10.151943",
     "status": "completed"
    },
    "tags": []
   },
   "outputs": [],
   "source": [
    "train_data = pd.read_csv(\"/kaggle/input/nlp-getting-started/train.csv\")\n",
    "test_data = pd.read_csv(\"/kaggle/input/nlp-getting-started/test.csv\")"
   ]
  },
  {
   "cell_type": "markdown",
   "metadata": {
    "papermill": {
     "duration": 0.045942,
     "end_time": "2020-12-11T22:15:10.363777",
     "exception": false,
     "start_time": "2020-12-11T22:15:10.317835",
     "status": "completed"
    },
    "tags": []
   },
   "source": [
    "# EDA"
   ]
  },
  {
   "cell_type": "markdown",
   "metadata": {
    "papermill": {
     "duration": 0.045838,
     "end_time": "2020-12-11T22:15:10.458043",
     "exception": false,
     "start_time": "2020-12-11T22:15:10.412205",
     "status": "completed"
    },
    "tags": []
   },
   "source": [
    "## Looking at the csv file"
   ]
  },
  {
   "cell_type": "markdown",
   "metadata": {
    "papermill": {
     "duration": 0.045849,
     "end_time": "2020-12-11T22:15:10.549388",
     "exception": false,
     "start_time": "2020-12-11T22:15:10.503539",
     "status": "completed"
    },
    "tags": []
   },
   "source": [
    "Columns:\n",
    "\n",
    "* id - a unique identifier for each tweet\n",
    "* keyword - a particular keyword from the tweet (may be blank)\n",
    "* location - the location the tweet was sent from (may be blank)\n",
    "* text - the text of the tweet\n",
    "* target - in train.csv only, this denotes whether a tweet is about a real disaster (1) or not (0)"
   ]
  },
  {
   "cell_type": "code",
   "execution_count": 5,
   "metadata": {
    "execution": {
     "iopub.execute_input": "2020-12-11T22:15:10.661168Z",
     "iopub.status.busy": "2020-12-11T22:15:10.660407Z",
     "iopub.status.idle": "2020-12-11T22:15:10.669270Z",
     "shell.execute_reply": "2020-12-11T22:15:10.669852Z"
    },
    "papermill": {
     "duration": 0.074312,
     "end_time": "2020-12-11T22:15:10.670015",
     "exception": false,
     "start_time": "2020-12-11T22:15:10.595703",
     "status": "completed"
    },
    "tags": []
   },
   "outputs": [
    {
     "data": {
      "text/html": [
       "<div>\n",
       "<style scoped>\n",
       "    .dataframe tbody tr th:only-of-type {\n",
       "        vertical-align: middle;\n",
       "    }\n",
       "\n",
       "    .dataframe tbody tr th {\n",
       "        vertical-align: top;\n",
       "    }\n",
       "\n",
       "    .dataframe thead th {\n",
       "        text-align: right;\n",
       "    }\n",
       "</style>\n",
       "<table border=\"1\" class=\"dataframe\">\n",
       "  <thead>\n",
       "    <tr style=\"text-align: right;\">\n",
       "      <th></th>\n",
       "      <th>id</th>\n",
       "      <th>keyword</th>\n",
       "      <th>location</th>\n",
       "      <th>text</th>\n",
       "      <th>target</th>\n",
       "    </tr>\n",
       "  </thead>\n",
       "  <tbody>\n",
       "    <tr>\n",
       "      <th>0</th>\n",
       "      <td>1</td>\n",
       "      <td>NaN</td>\n",
       "      <td>NaN</td>\n",
       "      <td>Our Deeds are the Reason of this #earthquake M...</td>\n",
       "      <td>1</td>\n",
       "    </tr>\n",
       "    <tr>\n",
       "      <th>1</th>\n",
       "      <td>4</td>\n",
       "      <td>NaN</td>\n",
       "      <td>NaN</td>\n",
       "      <td>Forest fire near La Ronge Sask. Canada</td>\n",
       "      <td>1</td>\n",
       "    </tr>\n",
       "    <tr>\n",
       "      <th>2</th>\n",
       "      <td>5</td>\n",
       "      <td>NaN</td>\n",
       "      <td>NaN</td>\n",
       "      <td>All residents asked to 'shelter in place' are ...</td>\n",
       "      <td>1</td>\n",
       "    </tr>\n",
       "    <tr>\n",
       "      <th>3</th>\n",
       "      <td>6</td>\n",
       "      <td>NaN</td>\n",
       "      <td>NaN</td>\n",
       "      <td>13,000 people receive #wildfires evacuation or...</td>\n",
       "      <td>1</td>\n",
       "    </tr>\n",
       "    <tr>\n",
       "      <th>4</th>\n",
       "      <td>7</td>\n",
       "      <td>NaN</td>\n",
       "      <td>NaN</td>\n",
       "      <td>Just got sent this photo from Ruby #Alaska as ...</td>\n",
       "      <td>1</td>\n",
       "    </tr>\n",
       "  </tbody>\n",
       "</table>\n",
       "</div>"
      ],
      "text/plain": [
       "   id keyword location                                               text  \\\n",
       "0   1     NaN      NaN  Our Deeds are the Reason of this #earthquake M...   \n",
       "1   4     NaN      NaN             Forest fire near La Ronge Sask. Canada   \n",
       "2   5     NaN      NaN  All residents asked to 'shelter in place' are ...   \n",
       "3   6     NaN      NaN  13,000 people receive #wildfires evacuation or...   \n",
       "4   7     NaN      NaN  Just got sent this photo from Ruby #Alaska as ...   \n",
       "\n",
       "   target  \n",
       "0       1  \n",
       "1       1  \n",
       "2       1  \n",
       "3       1  \n",
       "4       1  "
      ]
     },
     "execution_count": 5,
     "metadata": {},
     "output_type": "execute_result"
    }
   ],
   "source": [
    "train_data.head(5)"
   ]
  },
  {
   "cell_type": "markdown",
   "metadata": {
    "papermill": {
     "duration": 0.046398,
     "end_time": "2020-12-11T22:15:10.762561",
     "exception": false,
     "start_time": "2020-12-11T22:15:10.716163",
     "status": "completed"
    },
    "tags": []
   },
   "source": [
    "Be careful while displaying the df - might print the whole df when saving - use head instead"
   ]
  },
  {
   "cell_type": "markdown",
   "metadata": {
    "papermill": {
     "duration": 0.046831,
     "end_time": "2020-12-11T22:15:10.856254",
     "exception": false,
     "start_time": "2020-12-11T22:15:10.809423",
     "status": "completed"
    },
    "tags": []
   },
   "source": [
    "## Check datatypes of the columns"
   ]
  },
  {
   "cell_type": "code",
   "execution_count": 6,
   "metadata": {
    "execution": {
     "iopub.execute_input": "2020-12-11T22:15:10.956149Z",
     "iopub.status.busy": "2020-12-11T22:15:10.955171Z",
     "iopub.status.idle": "2020-12-11T22:15:10.959724Z",
     "shell.execute_reply": "2020-12-11T22:15:10.959054Z"
    },
    "papermill": {
     "duration": 0.056989,
     "end_time": "2020-12-11T22:15:10.959848",
     "exception": false,
     "start_time": "2020-12-11T22:15:10.902859",
     "status": "completed"
    },
    "tags": []
   },
   "outputs": [
    {
     "data": {
      "text/plain": [
       "id           int64\n",
       "keyword     object\n",
       "location    object\n",
       "text        object\n",
       "target       int64\n",
       "dtype: object"
      ]
     },
     "execution_count": 6,
     "metadata": {},
     "output_type": "execute_result"
    }
   ],
   "source": [
    "train_data.dtypes"
   ]
  },
  {
   "cell_type": "markdown",
   "metadata": {
    "papermill": {
     "duration": 0.049372,
     "end_time": "2020-12-11T22:15:11.056903",
     "exception": false,
     "start_time": "2020-12-11T22:15:11.007531",
     "status": "completed"
    },
    "tags": []
   },
   "source": [
    "## Length of the training and test data"
   ]
  },
  {
   "cell_type": "code",
   "execution_count": 7,
   "metadata": {
    "execution": {
     "iopub.execute_input": "2020-12-11T22:15:11.161932Z",
     "iopub.status.busy": "2020-12-11T22:15:11.161194Z",
     "iopub.status.idle": "2020-12-11T22:15:11.164161Z",
     "shell.execute_reply": "2020-12-11T22:15:11.164755Z"
    },
    "papermill": {
     "duration": 0.056115,
     "end_time": "2020-12-11T22:15:11.164894",
     "exception": false,
     "start_time": "2020-12-11T22:15:11.108779",
     "status": "completed"
    },
    "tags": []
   },
   "outputs": [
    {
     "name": "stdout",
     "output_type": "stream",
     "text": [
      "The length of the training data is 7613\n",
      "The length of the test data is 3263\n"
     ]
    }
   ],
   "source": [
    "print('The length of the training data is %d' % len(train_data))\n",
    "print('The length of the test data is %d' % len(test_data))"
   ]
  },
  {
   "cell_type": "code",
   "execution_count": 8,
   "metadata": {
    "execution": {
     "iopub.execute_input": "2020-12-11T22:15:11.268530Z",
     "iopub.status.busy": "2020-12-11T22:15:11.267635Z",
     "iopub.status.idle": "2020-12-11T22:15:11.271727Z",
     "shell.execute_reply": "2020-12-11T22:15:11.271113Z"
    },
    "papermill": {
     "duration": 0.058157,
     "end_time": "2020-12-11T22:15:11.271861",
     "exception": false,
     "start_time": "2020-12-11T22:15:11.213704",
     "status": "completed"
    },
    "tags": []
   },
   "outputs": [
    {
     "data": {
      "text/plain": [
       "10876"
      ]
     },
     "execution_count": 8,
     "metadata": {},
     "output_type": "execute_result"
    }
   ],
   "source": [
    "len(train_data) + len(test_data)"
   ]
  },
  {
   "cell_type": "markdown",
   "metadata": {
    "papermill": {
     "duration": 0.048693,
     "end_time": "2020-12-11T22:15:11.369875",
     "exception": false,
     "start_time": "2020-12-11T22:15:11.321182",
     "status": "completed"
    },
    "tags": []
   },
   "source": [
    "## Number of NAN values in the columns"
   ]
  },
  {
   "cell_type": "code",
   "execution_count": 9,
   "metadata": {
    "execution": {
     "iopub.execute_input": "2020-12-11T22:15:11.478192Z",
     "iopub.status.busy": "2020-12-11T22:15:11.477299Z",
     "iopub.status.idle": "2020-12-11T22:15:11.481837Z",
     "shell.execute_reply": "2020-12-11T22:15:11.481217Z"
    },
    "papermill": {
     "duration": 0.063572,
     "end_time": "2020-12-11T22:15:11.481962",
     "exception": false,
     "start_time": "2020-12-11T22:15:11.418390",
     "status": "completed"
    },
    "tags": []
   },
   "outputs": [
    {
     "data": {
      "text/plain": [
       "id          7613\n",
       "keyword     7552\n",
       "location    5080\n",
       "text        7613\n",
       "target      7613\n",
       "dtype: int64"
      ]
     },
     "execution_count": 9,
     "metadata": {},
     "output_type": "execute_result"
    }
   ],
   "source": [
    "train_data.count()"
   ]
  },
  {
   "cell_type": "markdown",
   "metadata": {
    "papermill": {
     "duration": 0.051026,
     "end_time": "2020-12-11T22:15:11.584590",
     "exception": false,
     "start_time": "2020-12-11T22:15:11.533564",
     "status": "completed"
    },
    "tags": []
   },
   "source": [
    "Suggestions:"
   ]
  },
  {
   "cell_type": "code",
   "execution_count": 10,
   "metadata": {
    "execution": {
     "iopub.execute_input": "2020-12-11T22:15:11.694694Z",
     "iopub.status.busy": "2020-12-11T22:15:11.693929Z",
     "iopub.status.idle": "2020-12-11T22:15:11.718946Z",
     "shell.execute_reply": "2020-12-11T22:15:11.718198Z"
    },
    "papermill": {
     "duration": 0.083774,
     "end_time": "2020-12-11T22:15:11.719067",
     "exception": false,
     "start_time": "2020-12-11T22:15:11.635293",
     "status": "completed"
    },
    "tags": []
   },
   "outputs": [
    {
     "data": {
      "text/plain": [
       "id           0.000000\n",
       "keyword      0.801261\n",
       "location    33.272035\n",
       "text         0.000000\n",
       "target       0.000000\n",
       "dtype: float64"
      ]
     },
     "execution_count": 10,
     "metadata": {},
     "output_type": "execute_result"
    }
   ],
   "source": [
    "train_data.isna().sum()/len(train_data)*100"
   ]
  },
  {
   "cell_type": "markdown",
   "metadata": {
    "papermill": {
     "duration": 0.050237,
     "end_time": "2020-12-11T22:15:11.820307",
     "exception": false,
     "start_time": "2020-12-11T22:15:11.770070",
     "status": "completed"
    },
    "tags": []
   },
   "source": [
    "Most of the times look at fractions of the totals rather than totals - What is the fraction of the location values that are missing? Fractions are useful...!"
   ]
  },
  {
   "cell_type": "code",
   "execution_count": 11,
   "metadata": {
    "execution": {
     "iopub.execute_input": "2020-12-11T22:15:11.926093Z",
     "iopub.status.busy": "2020-12-11T22:15:11.925215Z",
     "iopub.status.idle": "2020-12-11T22:15:11.929640Z",
     "shell.execute_reply": "2020-12-11T22:15:11.928909Z"
    },
    "papermill": {
     "duration": 0.059388,
     "end_time": "2020-12-11T22:15:11.929757",
     "exception": false,
     "start_time": "2020-12-11T22:15:11.870369",
     "status": "completed"
    },
    "tags": []
   },
   "outputs": [
    {
     "data": {
      "text/plain": [
       "61"
      ]
     },
     "execution_count": 11,
     "metadata": {},
     "output_type": "execute_result"
    }
   ],
   "source": [
    "7613 - 7552"
   ]
  },
  {
   "cell_type": "markdown",
   "metadata": {
    "papermill": {
     "duration": 0.049873,
     "end_time": "2020-12-11T22:15:12.029946",
     "exception": false,
     "start_time": "2020-12-11T22:15:11.980073",
     "status": "completed"
    },
    "tags": []
   },
   "source": [
    "#### NAN values in the location column"
   ]
  },
  {
   "cell_type": "code",
   "execution_count": 12,
   "metadata": {
    "execution": {
     "iopub.execute_input": "2020-12-11T22:15:12.138778Z",
     "iopub.status.busy": "2020-12-11T22:15:12.137709Z",
     "iopub.status.idle": "2020-12-11T22:15:12.141431Z",
     "shell.execute_reply": "2020-12-11T22:15:12.141958Z"
    },
    "papermill": {
     "duration": 0.060245,
     "end_time": "2020-12-11T22:15:12.142103",
     "exception": false,
     "start_time": "2020-12-11T22:15:12.081858",
     "status": "completed"
    },
    "tags": []
   },
   "outputs": [
    {
     "data": {
      "text/plain": [
       "2533"
      ]
     },
     "execution_count": 12,
     "metadata": {},
     "output_type": "execute_result"
    }
   ],
   "source": [
    "7613 - 5080"
   ]
  },
  {
   "cell_type": "markdown",
   "metadata": {
    "papermill": {
     "duration": 0.051506,
     "end_time": "2020-12-11T22:15:12.245465",
     "exception": false,
     "start_time": "2020-12-11T22:15:12.193959",
     "status": "completed"
    },
    "tags": []
   },
   "source": [
    "## Average number of characters in the text column"
   ]
  },
  {
   "cell_type": "code",
   "execution_count": 13,
   "metadata": {
    "execution": {
     "iopub.execute_input": "2020-12-11T22:15:12.361845Z",
     "iopub.status.busy": "2020-12-11T22:15:12.360962Z",
     "iopub.status.idle": "2020-12-11T22:15:12.365421Z",
     "shell.execute_reply": "2020-12-11T22:15:12.364736Z"
    },
    "papermill": {
     "duration": 0.06886,
     "end_time": "2020-12-11T22:15:12.365550",
     "exception": false,
     "start_time": "2020-12-11T22:15:12.296690",
     "status": "completed"
    },
    "tags": []
   },
   "outputs": [
    {
     "data": {
      "text/plain": [
       "101.03743596479706"
      ]
     },
     "execution_count": 13,
     "metadata": {},
     "output_type": "execute_result"
    }
   ],
   "source": [
    "num_char_series = train_data['text'].str.len()\n",
    "num_char_series.mean()"
   ]
  },
  {
   "cell_type": "code",
   "execution_count": 14,
   "metadata": {
    "execution": {
     "iopub.execute_input": "2020-12-11T22:15:12.476549Z",
     "iopub.status.busy": "2020-12-11T22:15:12.475846Z",
     "iopub.status.idle": "2020-12-11T22:15:12.821787Z",
     "shell.execute_reply": "2020-12-11T22:15:12.821164Z"
    },
    "papermill": {
     "duration": 0.404384,
     "end_time": "2020-12-11T22:15:12.821921",
     "exception": false,
     "start_time": "2020-12-11T22:15:12.417537",
     "status": "completed"
    },
    "tags": []
   },
   "outputs": [
    {
     "data": {
      "image/png": "[encoded data removed]",
      "text/plain": [
       "<Figure size 720x360 with 1 Axes>"
      ]
     },
     "metadata": {
      "needs_background": "light"
     },
     "output_type": "display_data"
    }
   ],
   "source": [
    "ax = num_char_series.plot.hist(bins=20, figsize=(10,5))\n",
    "ax.set_xlabel(\"Number of characters\")\n",
    "ax.set_ylabel(\"Frequency\")\n",
    "_ = ax.set_title('Distribution of the number of characters in a tweet and their freqeuncy in the text column')"
   ]
  },
  {
   "cell_type": "markdown",
   "metadata": {
    "papermill": {
     "duration": 0.051403,
     "end_time": "2020-12-11T22:15:12.926221",
     "exception": false,
     "start_time": "2020-12-11T22:15:12.874818",
     "status": "completed"
    },
    "tags": []
   },
   "source": [
    "Why the huge peak at 130-140?"
   ]
  },
  {
   "cell_type": "markdown",
   "metadata": {
    "papermill": {
     "duration": 0.052751,
     "end_time": "2020-12-11T22:15:13.032181",
     "exception": false,
     "start_time": "2020-12-11T22:15:12.979430",
     "status": "completed"
    },
    "tags": []
   },
   "source": [
    "Max limit by Twitter: 280 characters now - earlier it was 140 and that can be a reason of the spike."
   ]
  },
  {
   "cell_type": "markdown",
   "metadata": {
    "papermill": {
     "duration": 0.068893,
     "end_time": "2020-12-11T22:15:13.161857",
     "exception": false,
     "start_time": "2020-12-11T22:15:13.092964",
     "status": "completed"
    },
    "tags": []
   },
   "source": [
    "## Average number of words in the text column\n",
    "Note: The average number of words are not expected to be precise as the words are extracted with a naive approach of splitting using the whitespace character."
   ]
  },
  {
   "cell_type": "code",
   "execution_count": 15,
   "metadata": {
    "execution": {
     "iopub.execute_input": "2020-12-11T22:15:13.307734Z",
     "iopub.status.busy": "2020-12-11T22:15:13.292252Z",
     "iopub.status.idle": "2020-12-11T22:15:13.311517Z",
     "shell.execute_reply": "2020-12-11T22:15:13.312093Z"
    },
    "papermill": {
     "duration": 0.08903,
     "end_time": "2020-12-11T22:15:13.312238",
     "exception": false,
     "start_time": "2020-12-11T22:15:13.223208",
     "status": "completed"
    },
    "tags": []
   },
   "outputs": [
    {
     "data": {
      "text/plain": [
       "14.903585971364771"
      ]
     },
     "execution_count": 15,
     "metadata": {},
     "output_type": "execute_result"
    }
   ],
   "source": [
    "num_words_series = train_data['text'].str.split().map(len)\n",
    "num_words_series.mean()"
   ]
  },
  {
   "cell_type": "code",
   "execution_count": 16,
   "metadata": {
    "execution": {
     "iopub.execute_input": "2020-12-11T22:15:13.428207Z",
     "iopub.status.busy": "2020-12-11T22:15:13.427437Z",
     "iopub.status.idle": "2020-12-11T22:15:13.638643Z",
     "shell.execute_reply": "2020-12-11T22:15:13.638022Z"
    },
    "papermill": {
     "duration": 0.271942,
     "end_time": "2020-12-11T22:15:13.638777",
     "exception": false,
     "start_time": "2020-12-11T22:15:13.366835",
     "status": "completed"
    },
    "tags": []
   },
   "outputs": [
    {
     "data": {
      "image/png": "[encoded data removed]",
      "text/plain": [
       "<Figure size 720x360 with 1 Axes>"
      ]
     },
     "metadata": {
      "needs_background": "light"
     },
     "output_type": "display_data"
    }
   ],
   "source": [
    "ax = num_words_series.plot.hist(bins=10, figsize=(10,5))\n",
    "ax.set_xlabel(\"Number of words\")\n",
    "ax.set_ylabel(\"Frequency\")\n",
    "_ = ax.set_title('Distribution of the number of words in a tweet and their frequency in the text column')"
   ]
  },
  {
   "cell_type": "markdown",
   "metadata": {
    "papermill": {
     "duration": 0.05499,
     "end_time": "2020-12-11T22:15:13.749199",
     "exception": false,
     "start_time": "2020-12-11T22:15:13.694209",
     "status": "completed"
    },
    "tags": []
   },
   "source": [
    "## Unique values in the keyword column"
   ]
  },
  {
   "cell_type": "code",
   "execution_count": 17,
   "metadata": {
    "execution": {
     "iopub.execute_input": "2020-12-11T22:15:13.868297Z",
     "iopub.status.busy": "2020-12-11T22:15:13.867303Z",
     "iopub.status.idle": "2020-12-11T22:15:13.871901Z",
     "shell.execute_reply": "2020-12-11T22:15:13.871169Z"
    },
    "papermill": {
     "duration": 0.067091,
     "end_time": "2020-12-11T22:15:13.872015",
     "exception": false,
     "start_time": "2020-12-11T22:15:13.804924",
     "status": "completed"
    },
    "tags": []
   },
   "outputs": [
    {
     "data": {
      "text/plain": [
       "222"
      ]
     },
     "execution_count": 17,
     "metadata": {},
     "output_type": "execute_result"
    }
   ],
   "source": [
    "len(train_data['keyword'].unique())"
   ]
  },
  {
   "cell_type": "markdown",
   "metadata": {
    "papermill": {
     "duration": 0.056201,
     "end_time": "2020-12-11T22:15:13.984290",
     "exception": false,
     "start_time": "2020-12-11T22:15:13.928089",
     "status": "completed"
    },
    "tags": []
   },
   "source": [
    "The one different value here is NAN as compared to the count found below."
   ]
  },
  {
   "cell_type": "code",
   "execution_count": 18,
   "metadata": {
    "execution": {
     "iopub.execute_input": "2020-12-11T22:15:14.108089Z",
     "iopub.status.busy": "2020-12-11T22:15:14.107116Z",
     "iopub.status.idle": "2020-12-11T22:15:14.111682Z",
     "shell.execute_reply": "2020-12-11T22:15:14.111112Z"
    },
    "papermill": {
     "duration": 0.071163,
     "end_time": "2020-12-11T22:15:14.111820",
     "exception": false,
     "start_time": "2020-12-11T22:15:14.040657",
     "status": "completed"
    },
    "tags": []
   },
   "outputs": [
    {
     "data": {
      "text/plain": [
       "fatalities               45\n",
       "armageddon               42\n",
       "deluge                   42\n",
       "sinking                  41\n",
       "damage                   41\n",
       "                         ..\n",
       "forest%20fire            19\n",
       "epicentre                12\n",
       "threat                   11\n",
       "inundation               10\n",
       "radiation%20emergency     9\n",
       "Name: keyword, Length: 221, dtype: int64"
      ]
     },
     "execution_count": 18,
     "metadata": {},
     "output_type": "execute_result"
    }
   ],
   "source": [
    "keyword_value_counts = train_data['keyword'].value_counts()\n",
    "keyword_value_counts"
   ]
  },
  {
   "cell_type": "code",
   "execution_count": 19,
   "metadata": {
    "execution": {
     "iopub.execute_input": "2020-12-11T22:15:14.231605Z",
     "iopub.status.busy": "2020-12-11T22:15:14.230754Z",
     "iopub.status.idle": "2020-12-11T22:15:14.235135Z",
     "shell.execute_reply": "2020-12-11T22:15:14.234387Z"
    },
    "papermill": {
     "duration": 0.066393,
     "end_time": "2020-12-11T22:15:14.235250",
     "exception": false,
     "start_time": "2020-12-11T22:15:14.168857",
     "status": "completed"
    },
    "tags": []
   },
   "outputs": [
    {
     "data": {
      "text/plain": [
       "221"
      ]
     },
     "execution_count": 19,
     "metadata": {},
     "output_type": "execute_result"
    }
   ],
   "source": [
    "len(keyword_value_counts)"
   ]
  },
  {
   "cell_type": "markdown",
   "metadata": {
    "papermill": {
     "duration": 0.055502,
     "end_time": "2020-12-11T22:15:14.347973",
     "exception": false,
     "start_time": "2020-12-11T22:15:14.292471",
     "status": "completed"
    },
    "tags": []
   },
   "source": [
    "## Is the keyword from the text?"
   ]
  },
  {
   "cell_type": "code",
   "execution_count": 20,
   "metadata": {
    "execution": {
     "iopub.execute_input": "2020-12-11T22:15:14.468252Z",
     "iopub.status.busy": "2020-12-11T22:15:14.467268Z",
     "iopub.status.idle": "2020-12-11T22:15:14.471747Z",
     "shell.execute_reply": "2020-12-11T22:15:14.471175Z"
    },
    "papermill": {
     "duration": 0.066975,
     "end_time": "2020-12-11T22:15:14.471868",
     "exception": false,
     "start_time": "2020-12-11T22:15:14.404893",
     "status": "completed"
    },
    "tags": []
   },
   "outputs": [
    {
     "data": {
      "text/plain": [
       "7613"
      ]
     },
     "execution_count": 20,
     "metadata": {},
     "output_type": "execute_result"
    }
   ],
   "source": [
    "len(train_data)"
   ]
  },
  {
   "cell_type": "code",
   "execution_count": 21,
   "metadata": {
    "execution": {
     "iopub.execute_input": "2020-12-11T22:15:14.598876Z",
     "iopub.status.busy": "2020-12-11T22:15:14.597906Z",
     "iopub.status.idle": "2020-12-11T22:15:14.602587Z",
     "shell.execute_reply": "2020-12-11T22:15:14.602019Z"
    },
    "papermill": {
     "duration": 0.072553,
     "end_time": "2020-12-11T22:15:14.602726",
     "exception": false,
     "start_time": "2020-12-11T22:15:14.530173",
     "status": "completed"
    },
    "tags": []
   },
   "outputs": [
    {
     "data": {
      "text/plain": [
       "7613"
      ]
     },
     "execution_count": 21,
     "metadata": {},
     "output_type": "execute_result"
    }
   ],
   "source": [
    "train_data_keyword_text = train_data[['keyword', 'text']]\n",
    "len(train_data_keyword_text)"
   ]
  },
  {
   "cell_type": "code",
   "execution_count": 22,
   "metadata": {
    "execution": {
     "iopub.execute_input": "2020-12-11T22:15:14.729047Z",
     "iopub.status.busy": "2020-12-11T22:15:14.728012Z",
     "iopub.status.idle": "2020-12-11T22:15:14.733181Z",
     "shell.execute_reply": "2020-12-11T22:15:14.732465Z"
    },
    "papermill": {
     "duration": 0.071361,
     "end_time": "2020-12-11T22:15:14.733301",
     "exception": false,
     "start_time": "2020-12-11T22:15:14.661940",
     "status": "completed"
    },
    "tags": []
   },
   "outputs": [],
   "source": [
    "train_data_keyword_text_no_na = train_data_keyword_text.dropna()"
   ]
  },
  {
   "cell_type": "code",
   "execution_count": 23,
   "metadata": {
    "execution": {
     "iopub.execute_input": "2020-12-11T22:15:14.857293Z",
     "iopub.status.busy": "2020-12-11T22:15:14.856311Z",
     "iopub.status.idle": "2020-12-11T22:15:14.860272Z",
     "shell.execute_reply": "2020-12-11T22:15:14.859707Z"
    },
    "papermill": {
     "duration": 0.06742,
     "end_time": "2020-12-11T22:15:14.860393",
     "exception": false,
     "start_time": "2020-12-11T22:15:14.792973",
     "status": "completed"
    },
    "tags": []
   },
   "outputs": [
    {
     "data": {
      "text/plain": [
       "7552"
      ]
     },
     "execution_count": 23,
     "metadata": {},
     "output_type": "execute_result"
    }
   ],
   "source": [
    "len(train_data_keyword_text_no_na)"
   ]
  },
  {
   "cell_type": "code",
   "execution_count": 24,
   "metadata": {
    "execution": {
     "iopub.execute_input": "2020-12-11T22:15:14.993203Z",
     "iopub.status.busy": "2020-12-11T22:15:14.992397Z",
     "iopub.status.idle": "2020-12-11T22:15:14.996386Z",
     "shell.execute_reply": "2020-12-11T22:15:14.997160Z"
    },
    "papermill": {
     "duration": 0.077642,
     "end_time": "2020-12-11T22:15:14.997336",
     "exception": false,
     "start_time": "2020-12-11T22:15:14.919694",
     "status": "completed"
    },
    "tags": []
   },
   "outputs": [
    {
     "name": "stderr",
     "output_type": "stream",
     "text": [
      "/opt/conda/lib/python3.7/site-packages/ipykernel_launcher.py:1: SettingWithCopyWarning: \n",
      "A value is trying to be set on a copy of a slice from a DataFrame.\n",
      "Try using .loc[row_indexer,col_indexer] = value instead\n",
      "\n",
      "See the caveats in the documentation: https://pandas.pydata.org/pandas-docs/stable/user_guide/indexing.html#returning-a-view-versus-a-copy\n",
      "  \"\"\"Entry point for launching an IPython kernel.\n"
     ]
    }
   ],
   "source": [
    "train_data_keyword_text_no_na['keyword_from_text'] = [x[0].lower() in x[1].lower() for x in zip(train_data_keyword_text_no_na['keyword'], train_data_keyword_text_no_na['text'])]"
   ]
  },
  {
   "cell_type": "code",
   "execution_count": 25,
   "metadata": {
    "execution": {
     "iopub.execute_input": "2020-12-11T22:15:15.122587Z",
     "iopub.status.busy": "2020-12-11T22:15:15.121881Z",
     "iopub.status.idle": "2020-12-11T22:15:15.129983Z",
     "shell.execute_reply": "2020-12-11T22:15:15.130653Z"
    },
    "papermill": {
     "duration": 0.072985,
     "end_time": "2020-12-11T22:15:15.130827",
     "exception": false,
     "start_time": "2020-12-11T22:15:15.057842",
     "status": "completed"
    },
    "tags": []
   },
   "outputs": [
    {
     "data": {
      "text/plain": [
       "True     0.790916\n",
       "False    0.209084\n",
       "Name: keyword_from_text, dtype: float64"
      ]
     },
     "execution_count": 25,
     "metadata": {},
     "output_type": "execute_result"
    }
   ],
   "source": [
    "train_data_keyword_text_no_na['keyword_from_text'].value_counts(normalize=True)"
   ]
  },
  {
   "cell_type": "code",
   "execution_count": 26,
   "metadata": {
    "execution": {
     "iopub.execute_input": "2020-12-11T22:15:15.266892Z",
     "iopub.status.busy": "2020-12-11T22:15:15.265858Z",
     "iopub.status.idle": "2020-12-11T22:15:15.270172Z",
     "shell.execute_reply": "2020-12-11T22:15:15.269426Z"
    },
    "papermill": {
     "duration": 0.07855,
     "end_time": "2020-12-11T22:15:15.270281",
     "exception": false,
     "start_time": "2020-12-11T22:15:15.191731",
     "status": "completed"
    },
    "tags": []
   },
   "outputs": [
    {
     "data": {
      "text/html": [
       "<div>\n",
       "<style scoped>\n",
       "    .dataframe tbody tr th:only-of-type {\n",
       "        vertical-align: middle;\n",
       "    }\n",
       "\n",
       "    .dataframe tbody tr th {\n",
       "        vertical-align: top;\n",
       "    }\n",
       "\n",
       "    .dataframe thead th {\n",
       "        text-align: right;\n",
       "    }\n",
       "</style>\n",
       "<table border=\"1\" class=\"dataframe\">\n",
       "  <thead>\n",
       "    <tr style=\"text-align: right;\">\n",
       "      <th></th>\n",
       "      <th>keyword</th>\n",
       "      <th>text</th>\n",
       "      <th>keyword_from_text</th>\n",
       "    </tr>\n",
       "  </thead>\n",
       "  <tbody>\n",
       "    <tr>\n",
       "      <th>31</th>\n",
       "      <td>ablaze</td>\n",
       "      <td>@bbcmtd Wholesale Markets ablaze http://t.co/l...</td>\n",
       "      <td>True</td>\n",
       "    </tr>\n",
       "    <tr>\n",
       "      <th>32</th>\n",
       "      <td>ablaze</td>\n",
       "      <td>We always try to bring the heavy. #metal #RT h...</td>\n",
       "      <td>False</td>\n",
       "    </tr>\n",
       "    <tr>\n",
       "      <th>33</th>\n",
       "      <td>ablaze</td>\n",
       "      <td>#AFRICANBAZE: Breaking news:Nigeria flag set a...</td>\n",
       "      <td>True</td>\n",
       "    </tr>\n",
       "    <tr>\n",
       "      <th>34</th>\n",
       "      <td>ablaze</td>\n",
       "      <td>Crying out for more! Set me ablaze</td>\n",
       "      <td>True</td>\n",
       "    </tr>\n",
       "    <tr>\n",
       "      <th>35</th>\n",
       "      <td>ablaze</td>\n",
       "      <td>On plus side LOOK AT THE SKY LAST NIGHT IT WAS...</td>\n",
       "      <td>True</td>\n",
       "    </tr>\n",
       "    <tr>\n",
       "      <th>...</th>\n",
       "      <td>...</td>\n",
       "      <td>...</td>\n",
       "      <td>...</td>\n",
       "    </tr>\n",
       "    <tr>\n",
       "      <th>7578</th>\n",
       "      <td>wrecked</td>\n",
       "      <td>@jt_ruff23 @cameronhacker and I wrecked you both</td>\n",
       "      <td>True</td>\n",
       "    </tr>\n",
       "    <tr>\n",
       "      <th>7579</th>\n",
       "      <td>wrecked</td>\n",
       "      <td>Three days off from work and they've pretty mu...</td>\n",
       "      <td>True</td>\n",
       "    </tr>\n",
       "    <tr>\n",
       "      <th>7580</th>\n",
       "      <td>wrecked</td>\n",
       "      <td>#FX #forex #trading Cramer: Iger's 3 words tha...</td>\n",
       "      <td>True</td>\n",
       "    </tr>\n",
       "    <tr>\n",
       "      <th>7581</th>\n",
       "      <td>wrecked</td>\n",
       "      <td>@engineshed Great atmosphere at the British Li...</td>\n",
       "      <td>True</td>\n",
       "    </tr>\n",
       "    <tr>\n",
       "      <th>7582</th>\n",
       "      <td>wrecked</td>\n",
       "      <td>Cramer: Iger's 3 words that wrecked Disney's s...</td>\n",
       "      <td>True</td>\n",
       "    </tr>\n",
       "  </tbody>\n",
       "</table>\n",
       "<p>7552 rows × 3 columns</p>\n",
       "</div>"
      ],
      "text/plain": [
       "      keyword                                               text  \\\n",
       "31     ablaze  @bbcmtd Wholesale Markets ablaze http://t.co/l...   \n",
       "32     ablaze  We always try to bring the heavy. #metal #RT h...   \n",
       "33     ablaze  #AFRICANBAZE: Breaking news:Nigeria flag set a...   \n",
       "34     ablaze                 Crying out for more! Set me ablaze   \n",
       "35     ablaze  On plus side LOOK AT THE SKY LAST NIGHT IT WAS...   \n",
       "...       ...                                                ...   \n",
       "7578  wrecked   @jt_ruff23 @cameronhacker and I wrecked you both   \n",
       "7579  wrecked  Three days off from work and they've pretty mu...   \n",
       "7580  wrecked  #FX #forex #trading Cramer: Iger's 3 words tha...   \n",
       "7581  wrecked  @engineshed Great atmosphere at the British Li...   \n",
       "7582  wrecked  Cramer: Iger's 3 words that wrecked Disney's s...   \n",
       "\n",
       "      keyword_from_text  \n",
       "31                 True  \n",
       "32                False  \n",
       "33                 True  \n",
       "34                 True  \n",
       "35                 True  \n",
       "...                 ...  \n",
       "7578               True  \n",
       "7579               True  \n",
       "7580               True  \n",
       "7581               True  \n",
       "7582               True  \n",
       "\n",
       "[7552 rows x 3 columns]"
      ]
     },
     "execution_count": 26,
     "metadata": {},
     "output_type": "execute_result"
    }
   ],
   "source": [
    "train_data_keyword_text_no_na"
   ]
  },
  {
   "cell_type": "code",
   "execution_count": 27,
   "metadata": {
    "execution": {
     "iopub.execute_input": "2020-12-11T22:15:15.398628Z",
     "iopub.status.busy": "2020-12-11T22:15:15.397834Z",
     "iopub.status.idle": "2020-12-11T22:15:15.401021Z",
     "shell.execute_reply": "2020-12-11T22:15:15.401569Z"
    },
    "papermill": {
     "duration": 0.070518,
     "end_time": "2020-12-11T22:15:15.401715",
     "exception": false,
     "start_time": "2020-12-11T22:15:15.331197",
     "status": "completed"
    },
    "tags": []
   },
   "outputs": [
    {
     "data": {
      "text/plain": [
       "'We always try to bring the heavy. #metal #RT http://t.co/YAo1e0xngw'"
      ]
     },
     "execution_count": 27,
     "metadata": {},
     "output_type": "execute_result"
    }
   ],
   "source": [
    "train_data_keyword_text_no_na['text'].iloc[1]"
   ]
  },
  {
   "cell_type": "markdown",
   "metadata": {
    "papermill": {
     "duration": 0.061789,
     "end_time": "2020-12-11T22:15:15.524813",
     "exception": false,
     "start_time": "2020-12-11T22:15:15.463024",
     "status": "completed"
    },
    "tags": []
   },
   "source": [
    "The keyword ablaze is not present in the text...!"
   ]
  },
  {
   "cell_type": "code",
   "execution_count": 28,
   "metadata": {
    "execution": {
     "iopub.execute_input": "2020-12-11T22:15:15.656033Z",
     "iopub.status.busy": "2020-12-11T22:15:15.655044Z",
     "iopub.status.idle": "2020-12-11T22:15:15.659518Z",
     "shell.execute_reply": "2020-12-11T22:15:15.658825Z"
    },
    "papermill": {
     "duration": 0.071936,
     "end_time": "2020-12-11T22:15:15.659647",
     "exception": false,
     "start_time": "2020-12-11T22:15:15.587711",
     "status": "completed"
    },
    "tags": []
   },
   "outputs": [
    {
     "data": {
      "text/plain": [
       "'On plus side LOOK AT THE SKY LAST NIGHT IT WAS ABLAZE http://t.co/qqsmshaJ3N'"
      ]
     },
     "execution_count": 28,
     "metadata": {},
     "output_type": "execute_result"
    }
   ],
   "source": [
    "train_data_keyword_text_no_na['text'].iloc[4]"
   ]
  },
  {
   "cell_type": "markdown",
   "metadata": {
    "papermill": {
     "duration": 0.061754,
     "end_time": "2020-12-11T22:15:15.782952",
     "exception": false,
     "start_time": "2020-12-11T22:15:15.721198",
     "status": "completed"
    },
    "tags": []
   },
   "source": [
    "The keyword ablaze is present in the text...!"
   ]
  },
  {
   "cell_type": "markdown",
   "metadata": {
    "papermill": {
     "duration": 0.062217,
     "end_time": "2020-12-11T22:15:15.907263",
     "exception": false,
     "start_time": "2020-12-11T22:15:15.845046",
     "status": "completed"
    },
    "tags": []
   },
   "source": [
    "## Exploring the text field"
   ]
  },
  {
   "cell_type": "code",
   "execution_count": 29,
   "metadata": {
    "execution": {
     "iopub.execute_input": "2020-12-11T22:15:16.039740Z",
     "iopub.status.busy": "2020-12-11T22:15:16.038757Z",
     "iopub.status.idle": "2020-12-11T22:15:16.042261Z",
     "shell.execute_reply": "2020-12-11T22:15:16.042787Z"
    },
    "papermill": {
     "duration": 0.072871,
     "end_time": "2020-12-11T22:15:16.042938",
     "exception": false,
     "start_time": "2020-12-11T22:15:15.970067",
     "status": "completed"
    },
    "tags": []
   },
   "outputs": [
    {
     "data": {
      "text/plain": [
       "[7055, 691, 4158, 1527, 35]"
      ]
     },
     "execution_count": 29,
     "metadata": {},
     "output_type": "execute_result"
    }
   ],
   "source": [
    "random_indices = random.sample(range(len(train_data)), 20)\n",
    "random_indices[:5]"
   ]
  },
  {
   "cell_type": "code",
   "execution_count": 30,
   "metadata": {
    "execution": {
     "iopub.execute_input": "2020-12-11T22:15:16.176446Z",
     "iopub.status.busy": "2020-12-11T22:15:16.175657Z",
     "iopub.status.idle": "2020-12-11T22:15:16.178969Z",
     "shell.execute_reply": "2020-12-11T22:15:16.179716Z"
    },
    "papermill": {
     "duration": 0.073837,
     "end_time": "2020-12-11T22:15:16.179896",
     "exception": false,
     "start_time": "2020-12-11T22:15:16.106059",
     "status": "completed"
    },
    "tags": []
   },
   "outputs": [
    {
     "name": "stdout",
     "output_type": "stream",
     "text": [
      "7055 Buddha was 'man for his time' - massive urbanisation and social upheaval also challenged Brahmans dominance ('Genius of the Ancient World').\n",
      "691 SHOUOUT TO @kasad1lla CAUSE HER VOCALS ARE BLAZING HOT LIKE THE WEATHER SHES IN\n",
      "4158 @angel_star39 Obama should feel responsible bringing in these illegals He- his family well protected from harm. No feeling or heart 4 others\n",
      "1527 Emergency Response and Hazardous Chemical Management: Principles and Practices http://t.co/4sSuyhkgRB http://t.co/TDerBtgZ2k\n",
      "35 On plus side LOOK AT THE SKY LAST NIGHT IT WAS ABLAZE http://t.co/qqsmshaJ3N\n",
      "1981 Cyclone by Double G would be the cherry on top to this outfit! #OOTD #DoubleGhats http://t.co/JSuHuPz6Vp http://t.co/N5vrFFRbo3\n",
      "1452 Social Casualty #MTVHottest 5SOS\n",
      "818 I really wants a rolo blizzard but mom said no so I guess no DQ tonight\n",
      "1923 ExOfficio Men's Boxer Brief Curfew Large http://t.co/acb0ryeNuo\n",
      "2937 Visting Georgina at The Drowned Rat Cafe.....awful view!! http://t.co/pYLFb3tI9U\n",
      "96 Has an accident changed your life? We will help you determine options that can financially support life care plans and on-going treatment.\n",
      "2834 ? The Circular Ruins - Displaced part 4 ? http://t.co/Od2ratxRqS #nowplaying\n",
      "1485 Chances are many of us are still digging out from that catastrophe. THIS is why WoW NEEDS to evolve. THIS is why it can't be Vanilla anymore\n",
      "5406 People are finally panicking about cable TV http://t.co/BBjLs1fsaD\n",
      "2123 tomorrow will be the death of me\n",
      "1700 My 2 fav worlds have collided! Thanks to @lennonparham @Jessica_StClair I found the @GilmoreGuysShow podcast!! #ihave44episodesofGG #nojoke\n",
      "4628 #Cowboys: George: Injury woes took Claiborne from first round to trying to stick around; can he do it?:  http://t.co/12giQbVLYs\n",
      "5109 3 Former Executives to Be Prosecuted in Fukushima Nuclear Disaster http://t.co/JSsmMLNaQ7\n",
      "53 Police: Arsonist Deliberately Set Black Church In North CarolinaåÊAblaze http://t.co/pcXarbH9An\n",
      "5977 @justinbieber @ArianaGrande IM SCREAMING\n"
     ]
    }
   ],
   "source": [
    "for i in random_indices:\n",
    "    print(i, train_data['text'].iloc[i])"
   ]
  },
  {
   "cell_type": "code",
   "execution_count": 31,
   "metadata": {
    "execution": {
     "iopub.execute_input": "2020-12-11T22:15:16.317279Z",
     "iopub.status.busy": "2020-12-11T22:15:16.316239Z",
     "iopub.status.idle": "2020-12-11T22:15:16.319953Z",
     "shell.execute_reply": "2020-12-11T22:15:16.320833Z"
    },
    "papermill": {
     "duration": 0.075819,
     "end_time": "2020-12-11T22:15:16.321039",
     "exception": false,
     "start_time": "2020-12-11T22:15:16.245220",
     "status": "completed"
    },
    "tags": []
   },
   "outputs": [
    {
     "name": "stdout",
     "output_type": "stream",
     "text": [
      "7055 0\n",
      "691 0\n",
      "4158 0\n",
      "1527 0\n",
      "35 0\n",
      "1981 0\n",
      "1452 0\n",
      "818 0\n",
      "1923 0\n",
      "2937 1\n",
      "96 0\n",
      "2834 0\n",
      "1485 1\n",
      "5406 0\n",
      "2123 0\n",
      "1700 0\n",
      "4628 0\n",
      "5109 1\n",
      "53 1\n",
      "5977 0\n"
     ]
    }
   ],
   "source": [
    "for i in random_indices:\n",
    "    print(i, train_data['target'].iloc[i])"
   ]
  },
  {
   "cell_type": "markdown",
   "metadata": {
    "papermill": {
     "duration": 0.064496,
     "end_time": "2020-12-11T22:15:16.451611",
     "exception": false,
     "start_time": "2020-12-11T22:15:16.387115",
     "status": "completed"
    },
    "tags": []
   },
   "source": [
    "Comments:\n",
    "* Check whether the labels are correct.\n",
    "* Read the tweets and compare them with the targets."
   ]
  },
  {
   "cell_type": "markdown",
   "metadata": {
    "papermill": {
     "duration": 0.06446,
     "end_time": "2020-12-11T22:15:16.580789",
     "exception": false,
     "start_time": "2020-12-11T22:15:16.516329",
     "status": "completed"
    },
    "tags": []
   },
   "source": [
    "## Exploring the location field"
   ]
  },
  {
   "cell_type": "code",
   "execution_count": 32,
   "metadata": {
    "execution": {
     "iopub.execute_input": "2020-12-11T22:15:16.717683Z",
     "iopub.status.busy": "2020-12-11T22:15:16.716634Z",
     "iopub.status.idle": "2020-12-11T22:15:16.720621Z",
     "shell.execute_reply": "2020-12-11T22:15:16.721162Z"
    },
    "papermill": {
     "duration": 0.075943,
     "end_time": "2020-12-11T22:15:16.721306",
     "exception": false,
     "start_time": "2020-12-11T22:15:16.645363",
     "status": "completed"
    },
    "tags": []
   },
   "outputs": [
    {
     "data": {
      "text/plain": [
       "33.27203467752528"
      ]
     },
     "execution_count": 32,
     "metadata": {},
     "output_type": "execute_result"
    }
   ],
   "source": [
    "train_data['location'].isna().sum()/len(train_data)*100"
   ]
  },
  {
   "cell_type": "markdown",
   "metadata": {
    "papermill": {
     "duration": 0.064494,
     "end_time": "2020-12-11T22:15:16.850636",
     "exception": false,
     "start_time": "2020-12-11T22:15:16.786142",
     "status": "completed"
    },
    "tags": []
   },
   "source": [
    "Around 33.27% data has NaN values / is missing in the location column."
   ]
  },
  {
   "cell_type": "code",
   "execution_count": 33,
   "metadata": {
    "execution": {
     "iopub.execute_input": "2020-12-11T22:15:16.989650Z",
     "iopub.status.busy": "2020-12-11T22:15:16.988881Z",
     "iopub.status.idle": "2020-12-11T22:15:16.996621Z",
     "shell.execute_reply": "2020-12-11T22:15:16.997144Z"
    },
    "papermill": {
     "duration": 0.081225,
     "end_time": "2020-12-11T22:15:16.997298",
     "exception": false,
     "start_time": "2020-12-11T22:15:16.916073",
     "status": "completed"
    },
    "tags": []
   },
   "outputs": [
    {
     "data": {
      "text/plain": [
       "USA                           104\n",
       "New York                       71\n",
       "United States                  50\n",
       "London                         45\n",
       "Canada                         29\n",
       "                             ... \n",
       "Lurking                         1\n",
       "Penn Hills, PA                  1\n",
       "Suburban Detroit, Michigan      1\n",
       "Montana, USA                    1\n",
       "planet earth                    1\n",
       "Name: location, Length: 3341, dtype: int64"
      ]
     },
     "execution_count": 33,
     "metadata": {},
     "output_type": "execute_result"
    }
   ],
   "source": [
    "train_data['location'].value_counts()"
   ]
  },
  {
   "cell_type": "markdown",
   "metadata": {
    "papermill": {
     "duration": 0.064759,
     "end_time": "2020-12-11T22:15:17.127695",
     "exception": false,
     "start_time": "2020-12-11T22:15:17.062936",
     "status": "completed"
    },
    "tags": []
   },
   "source": [
    "This field is not normalized."
   ]
  },
  {
   "cell_type": "code",
   "execution_count": 34,
   "metadata": {
    "execution": {
     "iopub.execute_input": "2020-12-11T22:15:17.261418Z",
     "iopub.status.busy": "2020-12-11T22:15:17.260665Z",
     "iopub.status.idle": "2020-12-11T22:15:17.294620Z",
     "shell.execute_reply": "2020-12-11T22:15:17.293887Z"
    },
    "papermill": {
     "duration": 0.101961,
     "end_time": "2020-12-11T22:15:17.294752",
     "exception": false,
     "start_time": "2020-12-11T22:15:17.192791",
     "status": "completed"
    },
    "tags": []
   },
   "outputs": [
    {
     "ename": "NameError",
     "evalue": "name 'city' is not defined",
     "output_type": "error",
     "traceback": [
      "\u001b[0;31m---------------------------------------------------------------------------\u001b[0m",
      "\u001b[0;31mNameError\u001b[0m                                 Traceback (most recent call last)",
      "\u001b[0;32m<ipython-input-34-3cdad7c3835f>\u001b[0m in \u001b[0;36m<module>\u001b[0;34m\u001b[0m\n\u001b[0;32m----> 1\u001b[0;31m \u001b[0mcity\u001b[0m\u001b[0;34m,\u001b[0m \u001b[0mprovince\u001b[0m\u001b[0;34m\u001b[0m\u001b[0;34m\u001b[0m\u001b[0m\n\u001b[0m",
      "\u001b[0;31mNameError\u001b[0m: name 'city' is not defined"
     ]
    }
   ],
   "source": [
    "city, province "
   ]
  },
  {
   "cell_type": "code",
   "execution_count": 35,
   "metadata": {
    "execution": {
     "iopub.execute_input": "2020-12-11T22:15:17.434567Z",
     "iopub.status.busy": "2020-12-11T22:15:17.433705Z",
     "iopub.status.idle": "2020-12-11T22:15:17.435956Z",
     "shell.execute_reply": "2020-12-11T22:15:17.436452Z"
    },
    "papermill": {
     "duration": 0.077229,
     "end_time": "2020-12-11T22:15:17.436632",
     "exception": false,
     "start_time": "2020-12-11T22:15:17.359403",
     "status": "completed"
    },
    "tags": []
   },
   "outputs": [],
   "source": [
    "def normalize_area_names(area):\n",
    "    if not pd.isnull(area):\n",
    "        if ',' in area:\n",
    "            country = pycountry.countries.search_fuzzy(area.rsplit(',', 1)[1])\n",
    "            return country\n",
    "        else:\n",
    "            try:\n",
    "                country = pycountry.countries.search_fuzzy(area)\n",
    "            except:\n",
    "                for sub_area in area.split():\n",
    "                    try:\n",
    "                        country = pycountry.countries.search_fuzzy(area)\n",
    "                        break\n",
    "                    except:\n",
    "                        print(sub_area)\n",
    "                        print('Lookup error')\n",
    "                        continue\n",
    "            return country\n",
    "    else:\n",
    "        return area"
   ]
  },
  {
   "cell_type": "markdown",
   "metadata": {
    "papermill": {
     "duration": 0.0673,
     "end_time": "2020-12-11T22:15:17.570265",
     "exception": false,
     "start_time": "2020-12-11T22:15:17.502965",
     "status": "completed"
    },
    "tags": []
   },
   "source": [
    "Comments:\n",
    "\n",
    "* Does the location field matter here?\n",
    "\n",
    "\n",
    "* This can be delayed because it might not help very much in the actual task of detecting the tweet as containing disaster or not."
   ]
  },
  {
   "cell_type": "code",
   "execution_count": 36,
   "metadata": {
    "execution": {
     "iopub.execute_input": "2020-12-11T22:15:17.708379Z",
     "iopub.status.busy": "2020-12-11T22:15:17.707537Z",
     "iopub.status.idle": "2020-12-11T22:15:17.712482Z",
     "shell.execute_reply": "2020-12-11T22:15:17.711863Z"
    },
    "papermill": {
     "duration": 0.075546,
     "end_time": "2020-12-11T22:15:17.712622",
     "exception": false,
     "start_time": "2020-12-11T22:15:17.637076",
     "status": "completed"
    },
    "tags": []
   },
   "outputs": [
    {
     "ename": "SyntaxError",
     "evalue": "invalid syntax (<ipython-input-36-17395d17d6ac>, line 1)",
     "output_type": "error",
     "traceback": [
      "\u001b[0;36m  File \u001b[0;32m\"<ipython-input-36-17395d17d6ac>\"\u001b[0;36m, line \u001b[0;32m1\u001b[0m\n\u001b[0;31m    est. september 2012 - bristol\u001b[0m\n\u001b[0m                      ^\u001b[0m\n\u001b[0;31mSyntaxError\u001b[0m\u001b[0;31m:\u001b[0m invalid syntax\n"
     ]
    }
   ],
   "source": [
    "est. september 2012 - bristol"
   ]
  },
  {
   "cell_type": "code",
   "execution_count": 37,
   "metadata": {
    "execution": {
     "iopub.execute_input": "2020-12-11T22:15:17.855810Z",
     "iopub.status.busy": "2020-12-11T22:15:17.854912Z",
     "iopub.status.idle": "2020-12-11T22:15:18.037835Z",
     "shell.execute_reply": "2020-12-11T22:15:18.037124Z"
    },
    "papermill": {
     "duration": 0.257304,
     "end_time": "2020-12-11T22:15:18.037959",
     "exception": false,
     "start_time": "2020-12-11T22:15:17.780655",
     "status": "completed"
    },
    "tags": []
   },
   "outputs": [
    {
     "name": "stdout",
     "output_type": "stream",
     "text": [
      "tes\n"
     ]
    }
   ],
   "source": [
    "x = 'testtest'\n",
    "try:\n",
    "    country = pycountry.countries.search_fuzzy(x)\n",
    "except:\n",
    "    print('tes')"
   ]
  },
  {
   "cell_type": "code",
   "execution_count": 38,
   "metadata": {
    "execution": {
     "iopub.execute_input": "2020-12-11T22:15:18.207254Z",
     "iopub.status.busy": "2020-12-11T22:15:18.197083Z",
     "iopub.status.idle": "2020-12-11T22:15:18.985702Z",
     "shell.execute_reply": "2020-12-11T22:15:18.984788Z"
    },
    "papermill": {
     "duration": 0.881137,
     "end_time": "2020-12-11T22:15:18.985827",
     "exception": false,
     "start_time": "2020-12-11T22:15:18.104690",
     "status": "completed"
    },
    "tags": []
   },
   "outputs": [
    {
     "name": "stdout",
     "output_type": "stream",
     "text": [
      "Est.\n",
      "Lookup error\n",
      "September\n",
      "Lookup error\n",
      "2012\n",
      "Lookup error\n",
      "-\n",
      "Lookup error\n",
      "Bristol\n",
      "Lookup error\n"
     ]
    },
    {
     "ename": "UnboundLocalError",
     "evalue": "local variable 'country' referenced before assignment",
     "output_type": "error",
     "traceback": [
      "\u001b[0;31m---------------------------------------------------------------------------\u001b[0m",
      "\u001b[0;31mUnboundLocalError\u001b[0m                         Traceback (most recent call last)",
      "\u001b[0;32m<ipython-input-38-0e2c1f38d972>\u001b[0m in \u001b[0;36m<module>\u001b[0;34m\u001b[0m\n\u001b[0;32m----> 1\u001b[0;31m \u001b[0mtrain_data\u001b[0m\u001b[0;34m[\u001b[0m\u001b[0;34m'location'\u001b[0m\u001b[0;34m]\u001b[0m\u001b[0;34m.\u001b[0m\u001b[0mapply\u001b[0m\u001b[0;34m(\u001b[0m\u001b[0;32mlambda\u001b[0m \u001b[0mx\u001b[0m\u001b[0;34m:\u001b[0m \u001b[0mnormalize_area_names\u001b[0m\u001b[0;34m(\u001b[0m\u001b[0mx\u001b[0m\u001b[0;34m)\u001b[0m\u001b[0;34m)\u001b[0m\u001b[0;34m.\u001b[0m\u001b[0mvalue_counts\u001b[0m\u001b[0;34m(\u001b[0m\u001b[0;34m)\u001b[0m\u001b[0;34m\u001b[0m\u001b[0;34m\u001b[0m\u001b[0m\n\u001b[0m",
      "\u001b[0;32m/opt/conda/lib/python3.7/site-packages/pandas/core/series.py\u001b[0m in \u001b[0;36mapply\u001b[0;34m(self, func, convert_dtype, args, **kwds)\u001b[0m\n\u001b[1;32m   4210\u001b[0m             \u001b[0;32melse\u001b[0m\u001b[0;34m:\u001b[0m\u001b[0;34m\u001b[0m\u001b[0;34m\u001b[0m\u001b[0m\n\u001b[1;32m   4211\u001b[0m                 \u001b[0mvalues\u001b[0m \u001b[0;34m=\u001b[0m \u001b[0mself\u001b[0m\u001b[0;34m.\u001b[0m\u001b[0mastype\u001b[0m\u001b[0;34m(\u001b[0m\u001b[0mobject\u001b[0m\u001b[0;34m)\u001b[0m\u001b[0;34m.\u001b[0m\u001b[0m_values\u001b[0m\u001b[0;34m\u001b[0m\u001b[0;34m\u001b[0m\u001b[0m\n\u001b[0;32m-> 4212\u001b[0;31m                 \u001b[0mmapped\u001b[0m \u001b[0;34m=\u001b[0m \u001b[0mlib\u001b[0m\u001b[0;34m.\u001b[0m\u001b[0mmap_infer\u001b[0m\u001b[0;34m(\u001b[0m\u001b[0mvalues\u001b[0m\u001b[0;34m,\u001b[0m \u001b[0mf\u001b[0m\u001b[0;34m,\u001b[0m \u001b[0mconvert\u001b[0m\u001b[0;34m=\u001b[0m\u001b[0mconvert_dtype\u001b[0m\u001b[0;34m)\u001b[0m\u001b[0;34m\u001b[0m\u001b[0;34m\u001b[0m\u001b[0m\n\u001b[0m\u001b[1;32m   4213\u001b[0m \u001b[0;34m\u001b[0m\u001b[0m\n\u001b[1;32m   4214\u001b[0m         \u001b[0;32mif\u001b[0m \u001b[0mlen\u001b[0m\u001b[0;34m(\u001b[0m\u001b[0mmapped\u001b[0m\u001b[0;34m)\u001b[0m \u001b[0;32mand\u001b[0m \u001b[0misinstance\u001b[0m\u001b[0;34m(\u001b[0m\u001b[0mmapped\u001b[0m\u001b[0;34m[\u001b[0m\u001b[0;36m0\u001b[0m\u001b[0;34m]\u001b[0m\u001b[0;34m,\u001b[0m \u001b[0mSeries\u001b[0m\u001b[0;34m)\u001b[0m\u001b[0;34m:\u001b[0m\u001b[0;34m\u001b[0m\u001b[0;34m\u001b[0m\u001b[0m\n",
      "\u001b[0;32mpandas/_libs/lib.pyx\u001b[0m in \u001b[0;36mpandas._libs.lib.map_infer\u001b[0;34m()\u001b[0m\n",
      "\u001b[0;32m<ipython-input-38-0e2c1f38d972>\u001b[0m in \u001b[0;36m<lambda>\u001b[0;34m(x)\u001b[0m\n\u001b[0;32m----> 1\u001b[0;31m \u001b[0mtrain_data\u001b[0m\u001b[0;34m[\u001b[0m\u001b[0;34m'location'\u001b[0m\u001b[0;34m]\u001b[0m\u001b[0;34m.\u001b[0m\u001b[0mapply\u001b[0m\u001b[0;34m(\u001b[0m\u001b[0;32mlambda\u001b[0m \u001b[0mx\u001b[0m\u001b[0;34m:\u001b[0m \u001b[0mnormalize_area_names\u001b[0m\u001b[0;34m(\u001b[0m\u001b[0mx\u001b[0m\u001b[0;34m)\u001b[0m\u001b[0;34m)\u001b[0m\u001b[0;34m.\u001b[0m\u001b[0mvalue_counts\u001b[0m\u001b[0;34m(\u001b[0m\u001b[0;34m)\u001b[0m\u001b[0;34m\u001b[0m\u001b[0;34m\u001b[0m\u001b[0m\n\u001b[0m",
      "\u001b[0;32m<ipython-input-35-389f131822b2>\u001b[0m in \u001b[0;36mnormalize_area_names\u001b[0;34m(area)\u001b[0m\n\u001b[1;32m     16\u001b[0m                         \u001b[0mprint\u001b[0m\u001b[0;34m(\u001b[0m\u001b[0;34m'Lookup error'\u001b[0m\u001b[0;34m)\u001b[0m\u001b[0;34m\u001b[0m\u001b[0;34m\u001b[0m\u001b[0m\n\u001b[1;32m     17\u001b[0m                         \u001b[0;32mcontinue\u001b[0m\u001b[0;34m\u001b[0m\u001b[0;34m\u001b[0m\u001b[0m\n\u001b[0;32m---> 18\u001b[0;31m             \u001b[0;32mreturn\u001b[0m \u001b[0mcountry\u001b[0m\u001b[0;34m\u001b[0m\u001b[0;34m\u001b[0m\u001b[0m\n\u001b[0m\u001b[1;32m     19\u001b[0m     \u001b[0;32melse\u001b[0m\u001b[0;34m:\u001b[0m\u001b[0;34m\u001b[0m\u001b[0;34m\u001b[0m\u001b[0m\n\u001b[1;32m     20\u001b[0m         \u001b[0;32mreturn\u001b[0m \u001b[0marea\u001b[0m\u001b[0;34m\u001b[0m\u001b[0;34m\u001b[0m\u001b[0m\n",
      "\u001b[0;31mUnboundLocalError\u001b[0m: local variable 'country' referenced before assignment"
     ]
    }
   ],
   "source": [
    "train_data['location'].apply(lambda x: normalize_area_names(x)).value_counts()"
   ]
  },
  {
   "cell_type": "code",
   "execution_count": 39,
   "metadata": {
    "execution": {
     "iopub.execute_input": "2020-12-11T22:15:19.150146Z",
     "iopub.status.busy": "2020-12-11T22:15:19.140286Z",
     "iopub.status.idle": "2020-12-11T22:15:19.245588Z",
     "shell.execute_reply": "2020-12-11T22:15:19.244814Z"
    },
    "papermill": {
     "duration": 0.189731,
     "end_time": "2020-12-11T22:15:19.245706",
     "exception": false,
     "start_time": "2020-12-11T22:15:19.055975",
     "status": "completed"
    },
    "tags": []
   },
   "outputs": [
    {
     "data": {
      "text/plain": [
       "[Country(alpha_2='GB', alpha_3='GBR', name='United Kingdom', numeric='826', official_name='United Kingdom of Great Britain and Northern Ireland')]"
      ]
     },
     "execution_count": 39,
     "metadata": {},
     "output_type": "execute_result"
    }
   ],
   "source": [
    "pycountry.countries.search_fuzzy('bristol')"
   ]
  },
  {
   "cell_type": "code",
   "execution_count": 40,
   "metadata": {
    "execution": {
     "iopub.execute_input": "2020-12-11T22:15:19.431808Z",
     "iopub.status.busy": "2020-12-11T22:15:19.426848Z",
     "iopub.status.idle": "2020-12-11T22:15:19.502685Z",
     "shell.execute_reply": "2020-12-11T22:15:19.501947Z"
    },
    "papermill": {
     "duration": 0.18584,
     "end_time": "2020-12-11T22:15:19.502819",
     "exception": false,
     "start_time": "2020-12-11T22:15:19.316979",
     "status": "completed"
    },
    "tags": []
   },
   "outputs": [
    {
     "data": {
      "text/plain": [
       "[Country(alpha_2='US', alpha_3='USA', name='United States', numeric='840', official_name='United States of America')]"
      ]
     },
     "execution_count": 40,
     "metadata": {},
     "output_type": "execute_result"
    }
   ],
   "source": [
    "pycountry.countries.search_fuzzy('New Mexico')"
   ]
  },
  {
   "cell_type": "code",
   "execution_count": null,
   "metadata": {
    "papermill": {
     "duration": 0.06964,
     "end_time": "2020-12-11T22:15:19.644527",
     "exception": false,
     "start_time": "2020-12-11T22:15:19.574887",
     "status": "completed"
    },
    "tags": []
   },
   "outputs": [],
   "source": []
  },
  {
   "cell_type": "markdown",
   "metadata": {
    "papermill": {
     "duration": 0.070445,
     "end_time": "2020-12-11T22:15:19.784746",
     "exception": false,
     "start_time": "2020-12-11T22:15:19.714301",
     "status": "completed"
    },
    "tags": []
   },
   "source": [
    "Day 1 discussion:\n",
    "Christian:\n",
    "\n",
    "* Wrote the business goal section.\n",
    "\n",
    "\n",
    "\n",
    "Thoughts:\n",
    "* Can create a world map that shows where the tweets are from.\n",
    "\n",
    "Day 2 discussion:\n",
    "\n",
    "Thoughts:\n",
    "\n",
    "Features:\n",
    "1. A feature with how many capital characters are present in the text?\n",
    "2. How many special characters are present in the text?\n",
    "3. Features - contains url?"
   ]
  },
  {
   "cell_type": "code",
   "execution_count": null,
   "metadata": {
    "papermill": {
     "duration": 0.069798,
     "end_time": "2020-12-11T22:15:19.925124",
     "exception": false,
     "start_time": "2020-12-11T22:15:19.855326",
     "status": "completed"
    },
    "tags": []
   },
   "outputs": [],
   "source": []
  },
  {
   "cell_type": "code",
   "execution_count": null,
   "metadata": {
    "papermill": {
     "duration": 0.069875,
     "end_time": "2020-12-11T22:15:20.064870",
     "exception": false,
     "start_time": "2020-12-11T22:15:19.994995",
     "status": "completed"
    },
    "tags": []
   },
   "outputs": [],
   "source": []
  }
 ],
 "metadata": {
  "kernelspec": {
   "display_name": "Python 3",
   "language": "python",
   "name": "python3"
  },
  "language_info": {
   "codemirror_mode": {
    "name": "ipython",
    "version": 3
   },
   "file_extension": ".py",
   "mimetype": "text/x-python",
   "name": "python",
   "nbconvert_exporter": "python",
   "pygments_lexer": "ipython3",
   "version": "3.7.6"
  },
  "papermill": {
   "duration": 15.747554,
   "end_time": "2020-12-11T22:15:20.241904",
   "environment_variables": {},
   "exception": null,
   "input_path": "__notebook__.ipynb",
   "output_path": "__notebook__.ipynb",
   "parameters": {},
   "start_time": "2020-12-11T22:15:04.494350",
   "version": "2.1.0"
  }
 },
 "nbformat": 4,
 "nbformat_minor": 4
}
