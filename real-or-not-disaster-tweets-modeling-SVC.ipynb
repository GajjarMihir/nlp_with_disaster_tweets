{
 "cells": [
  {
   "source": [
    "# # This Python 3 environment comes with many helpful analytics libraries installed\n",
    "# # It is defined by the kaggle/python Docker image: https://github.com/kaggle/docker-python\n",
    "# # For example, here's several helpful packages to load\n",
    "\n",
    "# import numpy as np # linear algebra\n",
    "# import pandas as pd # data processing, CSV file I/O (e.g. pd.read_csv)\n",
    "\n",
    "# # Input data files are available in the read-only \"../input/\" directory\n",
    "# # For example, running this (by clicking run or pressing Shift+Enter) will list all files under the input directory\n",
    "\n",
    "# import os\n",
    "# for dirname, _, filenames in os.walk('/kaggle/input'):\n",
    "#     for filename in filenames:\n",
    "#         print(os.path.join(dirname, filename))\n",
    "\n",
    "# # You can write up to 20GB to the current directory (/kaggle/working/) that gets preserved as output when you create a version using \"Save & Run All\" \n",
    "# # You can also write temporary files to /kaggle/temp/, but they won't be saved outside of the current session"
   ],
   "cell_type": "code",
   "metadata": {
    "_cell_guid": "b1076dfc-b9ad-4769-8c92-a6c4dae69d19",
    "_uuid": "8f2839f25d086af736a60e9eeb907d3b93b6e0e5",
    "papermill": {
     "duration": 0.043617,
     "end_time": "2021-04-23T18:51:01.296154",
     "exception": false,
     "start_time": "2021-04-23T18:51:01.252537",
     "status": "completed"
    },
    "tags": []
   },
   "execution_count": 2,
   "outputs": []
  },
  {
   "cell_type": "markdown",
   "metadata": {
    "papermill": {
     "duration": 0.027186,
     "end_time": "2021-04-23T18:51:01.353346",
     "exception": false,
     "start_time": "2021-04-23T18:51:01.326160",
     "status": "completed"
    },
    "tags": []
   },
   "source": [
    "## Imports"
   ]
  },
  {
   "cell_type": "code",
   "execution_count": 3,
   "metadata": {
    "papermill": {
     "duration": 1.945868,
     "end_time": "2021-04-23T18:51:03.329864",
     "exception": false,
     "start_time": "2021-04-23T18:51:01.383996",
     "status": "completed"
    },
    "tags": []
   },
   "outputs": [],
   "source": [
    "import time\n",
    "import pickle\n",
    "\n",
    "import pandas as pd\n",
    "import numpy as np\n",
    "\n",
    "from nltk import WordNetLemmatizer\n",
    "from nltk.tokenize import word_tokenize\n",
    "from nltk.corpus import stopwords\n",
    "\n",
    "from sklearn.pipeline import Pipeline\n",
    "from sklearn.svm import SVC\n",
    "from sklearn.model_selection import cross_validate, GridSearchCV, StratifiedKFold\n",
    "from sklearn.feature_extraction.text import TfidfVectorizer\n",
    "from sklearn.metrics import f1_score, make_scorer\n",
    "\n",
    "import mlflow"
   ]
  },
  {
   "cell_type": "code",
   "execution_count": 4,
   "metadata": {},
   "outputs": [
    {
     "output_type": "stream",
     "name": "stdout",
     "text": [
      "Run name:  1621023102\n"
     ]
    }
   ],
   "source": [
    "run_name = str(int(time.time()))\n",
    "print('Run name: ', run_name)"
   ]
  },
  {
   "cell_type": "markdown",
   "metadata": {
    "papermill": {
     "duration": 0.026237,
     "end_time": "2021-04-23T18:51:03.382853",
     "exception": false,
     "start_time": "2021-04-23T18:51:03.356616",
     "status": "completed"
    },
    "tags": []
   },
   "source": [
    "## Reading the data"
   ]
  },
  {
   "cell_type": "code",
   "execution_count": 5,
   "metadata": {
    "_cell_guid": "79c7e3d0-c299-4dcb-8224-4455121ee9b0",
    "_uuid": "d629ff2d2480ee46fbb7e2d37f6b5fab8052498a",
    "papermill": {
     "duration": 0.120663,
     "end_time": "2021-04-23T18:51:03.530139",
     "exception": false,
     "start_time": "2021-04-23T18:51:03.409476",
     "status": "completed"
    },
    "tags": []
   },
   "outputs": [],
   "source": [
    "# train_data = pd.read_csv(\"/kaggle/input/nlp-getting-started/train.csv\")\n",
    "# test_data = pd.read_csv(\"/kaggle/input/nlp-getting-started/test.csv\")"
   ]
  },
  {
   "cell_type": "code",
   "execution_count": 6,
   "metadata": {},
   "outputs": [],
   "source": [
    "train_data = pd.read_csv(\"./data/train.csv\")\n",
    "test_data = pd.read_csv(\"./data/test.csv\")"
   ]
  },
  {
   "cell_type": "code",
   "execution_count": 7,
   "metadata": {
    "papermill": {
     "duration": 0.062637,
     "end_time": "2021-04-23T18:51:03.620245",
     "exception": false,
     "start_time": "2021-04-23T18:51:03.557608",
     "status": "completed"
    },
    "tags": []
   },
   "outputs": [
    {
     "output_type": "execute_result",
     "data": {
      "text/plain": [
       "         id keyword location  \\\n",
       "0         1     NaN      NaN   \n",
       "1         4     NaN      NaN   \n",
       "2         5     NaN      NaN   \n",
       "3         6     NaN      NaN   \n",
       "4         7     NaN      NaN   \n",
       "...     ...     ...      ...   \n",
       "7608  10869     NaN      NaN   \n",
       "7609  10870     NaN      NaN   \n",
       "7610  10871     NaN      NaN   \n",
       "7611  10872     NaN      NaN   \n",
       "7612  10873     NaN      NaN   \n",
       "\n",
       "                                                   text  target  \n",
       "0     Our Deeds are the Reason of this #earthquake M...       1  \n",
       "1                Forest fire near La Ronge Sask. Canada       1  \n",
       "2     All residents asked to 'shelter in place' are ...       1  \n",
       "3     13,000 people receive #wildfires evacuation or...       1  \n",
       "4     Just got sent this photo from Ruby #Alaska as ...       1  \n",
       "...                                                 ...     ...  \n",
       "7608  Two giant cranes holding a bridge collapse int...       1  \n",
       "7609  @aria_ahrary @TheTawniest The out of control w...       1  \n",
       "7610  M1.94 [01:04 UTC]?5km S of Volcano Hawaii. htt...       1  \n",
       "7611  Police investigating after an e-bike collided ...       1  \n",
       "7612  The Latest: More Homes Razed by Northern Calif...       1  \n",
       "\n",
       "[7613 rows x 5 columns]"
      ],
      "text/html": "<div>\n<style scoped>\n    .dataframe tbody tr th:only-of-type {\n        vertical-align: middle;\n    }\n\n    .dataframe tbody tr th {\n        vertical-align: top;\n    }\n\n    .dataframe thead th {\n        text-align: right;\n    }\n</style>\n<table border=\"1\" class=\"dataframe\">\n  <thead>\n    <tr style=\"text-align: right;\">\n      <th></th>\n      <th>id</th>\n      <th>keyword</th>\n      <th>location</th>\n      <th>text</th>\n      <th>target</th>\n    </tr>\n  </thead>\n  <tbody>\n    <tr>\n      <th>0</th>\n      <td>1</td>\n      <td>NaN</td>\n      <td>NaN</td>\n      <td>Our Deeds are the Reason of this #earthquake M...</td>\n      <td>1</td>\n    </tr>\n    <tr>\n      <th>1</th>\n      <td>4</td>\n      <td>NaN</td>\n      <td>NaN</td>\n      <td>Forest fire near La Ronge Sask. Canada</td>\n      <td>1</td>\n    </tr>\n    <tr>\n      <th>2</th>\n      <td>5</td>\n      <td>NaN</td>\n      <td>NaN</td>\n      <td>All residents asked to 'shelter in place' are ...</td>\n      <td>1</td>\n    </tr>\n    <tr>\n      <th>3</th>\n      <td>6</td>\n      <td>NaN</td>\n      <td>NaN</td>\n      <td>13,000 people receive #wildfires evacuation or...</td>\n      <td>1</td>\n    </tr>\n    <tr>\n      <th>4</th>\n      <td>7</td>\n      <td>NaN</td>\n      <td>NaN</td>\n      <td>Just got sent this photo from Ruby #Alaska as ...</td>\n      <td>1</td>\n    </tr>\n    <tr>\n      <th>...</th>\n      <td>...</td>\n      <td>...</td>\n      <td>...</td>\n      <td>...</td>\n      <td>...</td>\n    </tr>\n    <tr>\n      <th>7608</th>\n      <td>10869</td>\n      <td>NaN</td>\n      <td>NaN</td>\n      <td>Two giant cranes holding a bridge collapse int...</td>\n      <td>1</td>\n    </tr>\n    <tr>\n      <th>7609</th>\n      <td>10870</td>\n      <td>NaN</td>\n      <td>NaN</td>\n      <td>@aria_ahrary @TheTawniest The out of control w...</td>\n      <td>1</td>\n    </tr>\n    <tr>\n      <th>7610</th>\n      <td>10871</td>\n      <td>NaN</td>\n      <td>NaN</td>\n      <td>M1.94 [01:04 UTC]?5km S of Volcano Hawaii. htt...</td>\n      <td>1</td>\n    </tr>\n    <tr>\n      <th>7611</th>\n      <td>10872</td>\n      <td>NaN</td>\n      <td>NaN</td>\n      <td>Police investigating after an e-bike collided ...</td>\n      <td>1</td>\n    </tr>\n    <tr>\n      <th>7612</th>\n      <td>10873</td>\n      <td>NaN</td>\n      <td>NaN</td>\n      <td>The Latest: More Homes Razed by Northern Calif...</td>\n      <td>1</td>\n    </tr>\n  </tbody>\n</table>\n<p>7613 rows × 5 columns</p>\n</div>"
     },
     "metadata": {},
     "execution_count": 7
    }
   ],
   "source": [
    "train_data"
   ]
  },
  {
   "cell_type": "code",
   "execution_count": 8,
   "metadata": {
    "papermill": {
     "duration": 0.039109,
     "end_time": "2021-04-23T18:51:03.689717",
     "exception": false,
     "start_time": "2021-04-23T18:51:03.650608",
     "status": "completed"
    },
    "tags": []
   },
   "outputs": [
    {
     "output_type": "stream",
     "name": "stdout",
     "text": [
      "The length of the training data is 7613\nThe length of the test data is 3263\n"
     ]
    }
   ],
   "source": [
    "print('The length of the training data is %d' % len(train_data))\n",
    "print('The length of the test data is %d' % len(test_data))"
   ]
  },
  {
   "cell_type": "markdown",
   "metadata": {
    "papermill": {
     "duration": 0.029738,
     "end_time": "2021-04-23T18:51:03.748267",
     "exception": false,
     "start_time": "2021-04-23T18:51:03.718529",
     "status": "completed"
    },
    "tags": []
   },
   "source": [
    "## Feature Engineering"
   ]
  },
  {
   "cell_type": "markdown",
   "metadata": {
    "papermill": {
     "duration": 0.028822,
     "end_time": "2021-04-23T18:51:03.806508",
     "exception": false,
     "start_time": "2021-04-23T18:51:03.777686",
     "status": "completed"
    },
    "tags": []
   },
   "source": [
    "### Replacing NaN with empty string."
   ]
  },
  {
   "cell_type": "code",
   "execution_count": 9,
   "metadata": {
    "papermill": {
     "duration": 0.056509,
     "end_time": "2021-04-23T18:51:03.894905",
     "exception": false,
     "start_time": "2021-04-23T18:51:03.838396",
     "status": "completed"
    },
    "tags": []
   },
   "outputs": [
    {
     "output_type": "execute_result",
     "data": {
      "text/plain": [
       "         id keyword location  \\\n",
       "0         1                    \n",
       "1         4                    \n",
       "2         5                    \n",
       "3         6                    \n",
       "4         7                    \n",
       "...     ...     ...      ...   \n",
       "7608  10869                    \n",
       "7609  10870                    \n",
       "7610  10871                    \n",
       "7611  10872                    \n",
       "7612  10873                    \n",
       "\n",
       "                                                   text  target  \n",
       "0     Our Deeds are the Reason of this #earthquake M...       1  \n",
       "1                Forest fire near La Ronge Sask. Canada       1  \n",
       "2     All residents asked to 'shelter in place' are ...       1  \n",
       "3     13,000 people receive #wildfires evacuation or...       1  \n",
       "4     Just got sent this photo from Ruby #Alaska as ...       1  \n",
       "...                                                 ...     ...  \n",
       "7608  Two giant cranes holding a bridge collapse int...       1  \n",
       "7609  @aria_ahrary @TheTawniest The out of control w...       1  \n",
       "7610  M1.94 [01:04 UTC]?5km S of Volcano Hawaii. htt...       1  \n",
       "7611  Police investigating after an e-bike collided ...       1  \n",
       "7612  The Latest: More Homes Razed by Northern Calif...       1  \n",
       "\n",
       "[7613 rows x 5 columns]"
      ],
      "text/html": "<div>\n<style scoped>\n    .dataframe tbody tr th:only-of-type {\n        vertical-align: middle;\n    }\n\n    .dataframe tbody tr th {\n        vertical-align: top;\n    }\n\n    .dataframe thead th {\n        text-align: right;\n    }\n</style>\n<table border=\"1\" class=\"dataframe\">\n  <thead>\n    <tr style=\"text-align: right;\">\n      <th></th>\n      <th>id</th>\n      <th>keyword</th>\n      <th>location</th>\n      <th>text</th>\n      <th>target</th>\n    </tr>\n  </thead>\n  <tbody>\n    <tr>\n      <th>0</th>\n      <td>1</td>\n      <td></td>\n      <td></td>\n      <td>Our Deeds are the Reason of this #earthquake M...</td>\n      <td>1</td>\n    </tr>\n    <tr>\n      <th>1</th>\n      <td>4</td>\n      <td></td>\n      <td></td>\n      <td>Forest fire near La Ronge Sask. Canada</td>\n      <td>1</td>\n    </tr>\n    <tr>\n      <th>2</th>\n      <td>5</td>\n      <td></td>\n      <td></td>\n      <td>All residents asked to 'shelter in place' are ...</td>\n      <td>1</td>\n    </tr>\n    <tr>\n      <th>3</th>\n      <td>6</td>\n      <td></td>\n      <td></td>\n      <td>13,000 people receive #wildfires evacuation or...</td>\n      <td>1</td>\n    </tr>\n    <tr>\n      <th>4</th>\n      <td>7</td>\n      <td></td>\n      <td></td>\n      <td>Just got sent this photo from Ruby #Alaska as ...</td>\n      <td>1</td>\n    </tr>\n    <tr>\n      <th>...</th>\n      <td>...</td>\n      <td>...</td>\n      <td>...</td>\n      <td>...</td>\n      <td>...</td>\n    </tr>\n    <tr>\n      <th>7608</th>\n      <td>10869</td>\n      <td></td>\n      <td></td>\n      <td>Two giant cranes holding a bridge collapse int...</td>\n      <td>1</td>\n    </tr>\n    <tr>\n      <th>7609</th>\n      <td>10870</td>\n      <td></td>\n      <td></td>\n      <td>@aria_ahrary @TheTawniest The out of control w...</td>\n      <td>1</td>\n    </tr>\n    <tr>\n      <th>7610</th>\n      <td>10871</td>\n      <td></td>\n      <td></td>\n      <td>M1.94 [01:04 UTC]?5km S of Volcano Hawaii. htt...</td>\n      <td>1</td>\n    </tr>\n    <tr>\n      <th>7611</th>\n      <td>10872</td>\n      <td></td>\n      <td></td>\n      <td>Police investigating after an e-bike collided ...</td>\n      <td>1</td>\n    </tr>\n    <tr>\n      <th>7612</th>\n      <td>10873</td>\n      <td></td>\n      <td></td>\n      <td>The Latest: More Homes Razed by Northern Calif...</td>\n      <td>1</td>\n    </tr>\n  </tbody>\n</table>\n<p>7613 rows × 5 columns</p>\n</div>"
     },
     "metadata": {},
     "execution_count": 9
    }
   ],
   "source": [
    "train_data = train_data.replace(np.nan, '', regex=True)\n",
    "train_data"
   ]
  },
  {
   "cell_type": "markdown",
   "metadata": {
    "papermill": {
     "duration": 0.03119,
     "end_time": "2021-04-23T18:51:03.956313",
     "exception": false,
     "start_time": "2021-04-23T18:51:03.925123",
     "status": "completed"
    },
    "tags": []
   },
   "source": [
    "### Replacing %20 with space"
   ]
  },
  {
   "cell_type": "code",
   "execution_count": 10,
   "metadata": {
    "papermill": {
     "duration": 0.097646,
     "end_time": "2021-04-23T18:51:04.084144",
     "exception": false,
     "start_time": "2021-04-23T18:51:03.986498",
     "status": "completed"
    },
    "tags": []
   },
   "outputs": [
    {
     "output_type": "execute_result",
     "data": {
      "text/plain": [
       "         id keyword location  \\\n",
       "0         1                    \n",
       "1         4                    \n",
       "2         5                    \n",
       "3         6                    \n",
       "4         7                    \n",
       "...     ...     ...      ...   \n",
       "7608  10869                    \n",
       "7609  10870                    \n",
       "7610  10871                    \n",
       "7611  10872                    \n",
       "7612  10873                    \n",
       "\n",
       "                                                   text  target  \n",
       "0     Our Deeds are the Reason of this #earthquake M...       1  \n",
       "1                Forest fire near La Ronge Sask. Canada       1  \n",
       "2     All residents asked to 'shelter in place' are ...       1  \n",
       "3     13,000 people receive #wildfires evacuation or...       1  \n",
       "4     Just got sent this photo from Ruby #Alaska as ...       1  \n",
       "...                                                 ...     ...  \n",
       "7608  Two giant cranes holding a bridge collapse int...       1  \n",
       "7609  @aria_ahrary @TheTawniest The out of control w...       1  \n",
       "7610  M1.94 [01:04 UTC]?5km S of Volcano Hawaii. htt...       1  \n",
       "7611  Police investigating after an e-bike collided ...       1  \n",
       "7612  The Latest: More Homes Razed by Northern Calif...       1  \n",
       "\n",
       "[7613 rows x 5 columns]"
      ],
      "text/html": "<div>\n<style scoped>\n    .dataframe tbody tr th:only-of-type {\n        vertical-align: middle;\n    }\n\n    .dataframe tbody tr th {\n        vertical-align: top;\n    }\n\n    .dataframe thead th {\n        text-align: right;\n    }\n</style>\n<table border=\"1\" class=\"dataframe\">\n  <thead>\n    <tr style=\"text-align: right;\">\n      <th></th>\n      <th>id</th>\n      <th>keyword</th>\n      <th>location</th>\n      <th>text</th>\n      <th>target</th>\n    </tr>\n  </thead>\n  <tbody>\n    <tr>\n      <th>0</th>\n      <td>1</td>\n      <td></td>\n      <td></td>\n      <td>Our Deeds are the Reason of this #earthquake M...</td>\n      <td>1</td>\n    </tr>\n    <tr>\n      <th>1</th>\n      <td>4</td>\n      <td></td>\n      <td></td>\n      <td>Forest fire near La Ronge Sask. Canada</td>\n      <td>1</td>\n    </tr>\n    <tr>\n      <th>2</th>\n      <td>5</td>\n      <td></td>\n      <td></td>\n      <td>All residents asked to 'shelter in place' are ...</td>\n      <td>1</td>\n    </tr>\n    <tr>\n      <th>3</th>\n      <td>6</td>\n      <td></td>\n      <td></td>\n      <td>13,000 people receive #wildfires evacuation or...</td>\n      <td>1</td>\n    </tr>\n    <tr>\n      <th>4</th>\n      <td>7</td>\n      <td></td>\n      <td></td>\n      <td>Just got sent this photo from Ruby #Alaska as ...</td>\n      <td>1</td>\n    </tr>\n    <tr>\n      <th>...</th>\n      <td>...</td>\n      <td>...</td>\n      <td>...</td>\n      <td>...</td>\n      <td>...</td>\n    </tr>\n    <tr>\n      <th>7608</th>\n      <td>10869</td>\n      <td></td>\n      <td></td>\n      <td>Two giant cranes holding a bridge collapse int...</td>\n      <td>1</td>\n    </tr>\n    <tr>\n      <th>7609</th>\n      <td>10870</td>\n      <td></td>\n      <td></td>\n      <td>@aria_ahrary @TheTawniest The out of control w...</td>\n      <td>1</td>\n    </tr>\n    <tr>\n      <th>7610</th>\n      <td>10871</td>\n      <td></td>\n      <td></td>\n      <td>M1.94 [01:04 UTC]?5km S of Volcano Hawaii. htt...</td>\n      <td>1</td>\n    </tr>\n    <tr>\n      <th>7611</th>\n      <td>10872</td>\n      <td></td>\n      <td></td>\n      <td>Police investigating after an e-bike collided ...</td>\n      <td>1</td>\n    </tr>\n    <tr>\n      <th>7612</th>\n      <td>10873</td>\n      <td></td>\n      <td></td>\n      <td>The Latest: More Homes Razed by Northern Calif...</td>\n      <td>1</td>\n    </tr>\n  </tbody>\n</table>\n<p>7613 rows × 5 columns</p>\n</div>"
     },
     "metadata": {},
     "execution_count": 10
    }
   ],
   "source": [
    "train_data = train_data.replace('%20', ' ', regex=True)\n",
    "train_data"
   ]
  },
  {
   "cell_type": "code",
   "execution_count": 11,
   "metadata": {
    "papermill": {
     "duration": 0.048863,
     "end_time": "2021-04-23T18:51:04.163141",
     "exception": false,
     "start_time": "2021-04-23T18:51:04.114278",
     "status": "completed"
    },
    "tags": []
   },
   "outputs": [
    {
     "output_type": "execute_result",
     "data": {
      "text/plain": [
       "                       61\n",
       "fatalities             45\n",
       "armageddon             42\n",
       "deluge                 42\n",
       "damage                 41\n",
       "                       ..\n",
       "forest fire            19\n",
       "epicentre              12\n",
       "threat                 11\n",
       "inundation             10\n",
       "radiation emergency     9\n",
       "Name: keyword, Length: 222, dtype: int64"
      ]
     },
     "metadata": {},
     "execution_count": 11
    }
   ],
   "source": [
    "train_data['keyword'].value_counts()"
   ]
  },
  {
   "cell_type": "markdown",
   "metadata": {
    "papermill": {
     "duration": 0.030992,
     "end_time": "2021-04-23T18:51:04.225861",
     "exception": false,
     "start_time": "2021-04-23T18:51:04.194869",
     "status": "completed"
    },
    "tags": []
   },
   "source": [
    "### Creating unique word using the values in the keyword column."
   ]
  },
  {
   "cell_type": "code",
   "execution_count": 12,
   "metadata": {
    "papermill": {
     "duration": 0.045962,
     "end_time": "2021-04-23T18:51:04.302641",
     "exception": false,
     "start_time": "2021-04-23T18:51:04.256679",
     "status": "completed"
    },
    "tags": []
   },
   "outputs": [],
   "source": [
    "train_data['keyword_unique'] = train_data['keyword'].apply(lambda word : 'x' + word + 'x' if len(word) else '')"
   ]
  },
  {
   "cell_type": "code",
   "execution_count": 13,
   "metadata": {
    "papermill": {
     "duration": 0.040805,
     "end_time": "2021-04-23T18:51:04.374478",
     "exception": false,
     "start_time": "2021-04-23T18:51:04.333673",
     "status": "completed"
    },
    "tags": []
   },
   "outputs": [
    {
     "output_type": "execute_result",
     "data": {
      "text/plain": [
       "'ablaze'"
      ]
     },
     "metadata": {},
     "execution_count": 13
    }
   ],
   "source": [
    "train_data['keyword'].iloc[40]"
   ]
  },
  {
   "cell_type": "code",
   "execution_count": 14,
   "metadata": {
    "papermill": {
     "duration": 0.040623,
     "end_time": "2021-04-23T18:51:04.446902",
     "exception": false,
     "start_time": "2021-04-23T18:51:04.406279",
     "status": "completed"
    },
    "tags": []
   },
   "outputs": [
    {
     "output_type": "execute_result",
     "data": {
      "text/plain": [
       "'xablazex'"
      ]
     },
     "metadata": {},
     "execution_count": 14
    }
   ],
   "source": [
    "train_data['keyword_unique'].iloc[40]"
   ]
  },
  {
   "cell_type": "markdown",
   "metadata": {
    "papermill": {
     "duration": 0.030966,
     "end_time": "2021-04-23T18:51:04.510410",
     "exception": false,
     "start_time": "2021-04-23T18:51:04.479444",
     "status": "completed"
    },
    "tags": []
   },
   "source": [
    "## Text preprocessing"
   ]
  },
  {
   "cell_type": "code",
   "execution_count": 15,
   "metadata": {
    "papermill": {
     "duration": 0.043537,
     "end_time": "2021-04-23T18:51:04.585510",
     "exception": false,
     "start_time": "2021-04-23T18:51:04.541973",
     "status": "completed"
    },
    "tags": []
   },
   "outputs": [],
   "source": [
    "def clean_text(text):\n",
    "    # split into words\n",
    "    tokens = word_tokenize(text)\n",
    "    # remove all tokens that are not alphanumeric. Can also use .isalpha() here if do not want to keep numbers.\n",
    "    words = [word for word in tokens if word.isalnum()]\n",
    "    # remove stopwords\n",
    "    stop_words = stopwords.words('english')\n",
    "    words = [word for word in words if word not in stop_words]\n",
    "    # performing lemmatization\n",
    "    wordnet_lemmatizer = WordNetLemmatizer()\n",
    "    words = [wordnet_lemmatizer.lemmatize(word) for word in words]\n",
    "    # Converting list of words to string\n",
    "    words = ' '.join(words)\n",
    "    return words"
   ]
  },
  {
   "cell_type": "code",
   "execution_count": 16,
   "metadata": {
    "papermill": {
     "duration": 7.004522,
     "end_time": "2021-04-23T18:51:11.683552",
     "exception": false,
     "start_time": "2021-04-23T18:51:04.679030",
     "status": "completed"
    },
    "tags": []
   },
   "outputs": [],
   "source": [
    "train_data['cleaned_text'] = train_data['text'].apply(clean_text)"
   ]
  },
  {
   "cell_type": "code",
   "execution_count": 17,
   "metadata": {
    "papermill": {
     "duration": 0.040577,
     "end_time": "2021-04-23T18:51:11.756310",
     "exception": false,
     "start_time": "2021-04-23T18:51:11.715733",
     "status": "completed"
    },
    "tags": []
   },
   "outputs": [
    {
     "output_type": "execute_result",
     "data": {
      "text/plain": [
       "'.@NorwayMFA #Bahrain police had previously died in a road accident they were not killed by explosion https://t.co/gFJfgTodad'"
      ]
     },
     "metadata": {},
     "execution_count": 17
    }
   ],
   "source": [
    "train_data['text'].iloc[100]"
   ]
  },
  {
   "cell_type": "code",
   "execution_count": 18,
   "metadata": {
    "papermill": {
     "duration": 0.042325,
     "end_time": "2021-04-23T18:51:11.831363",
     "exception": false,
     "start_time": "2021-04-23T18:51:11.789038",
     "status": "completed"
    },
    "tags": []
   },
   "outputs": [
    {
     "output_type": "execute_result",
     "data": {
      "text/plain": [
       "'NorwayMFA Bahrain police previously died road accident killed explosion http'"
      ]
     },
     "metadata": {},
     "execution_count": 18
    }
   ],
   "source": [
    "train_data['cleaned_text'].iloc[100]"
   ]
  },
  {
   "cell_type": "code",
   "execution_count": 19,
   "metadata": {
    "papermill": {
     "duration": 0.043965,
     "end_time": "2021-04-23T18:51:11.909281",
     "exception": false,
     "start_time": "2021-04-23T18:51:11.865316",
     "status": "completed"
    },
    "tags": []
   },
   "outputs": [
    {
     "output_type": "execute_result",
     "data": {
      "text/plain": [
       "'xaccidentx'"
      ]
     },
     "metadata": {},
     "execution_count": 19
    }
   ],
   "source": [
    "train_data['keyword_unique'].iloc[100]"
   ]
  },
  {
   "cell_type": "code",
   "execution_count": 20,
   "metadata": {
    "papermill": {
     "duration": 0.044042,
     "end_time": "2021-04-23T18:51:11.986684",
     "exception": false,
     "start_time": "2021-04-23T18:51:11.942642",
     "status": "completed"
    },
    "tags": []
   },
   "outputs": [
    {
     "output_type": "execute_result",
     "data": {
      "text/plain": [
       "1"
      ]
     },
     "metadata": {},
     "execution_count": 20
    }
   ],
   "source": [
    "train_data['target'].iloc[100]"
   ]
  },
  {
   "cell_type": "markdown",
   "metadata": {
    "papermill": {
     "duration": 0.032965,
     "end_time": "2021-04-23T18:51:12.052938",
     "exception": false,
     "start_time": "2021-04-23T18:51:12.019973",
     "status": "completed"
    },
    "tags": []
   },
   "source": [
    "## Merging the keyword_unique and text column"
   ]
  },
  {
   "cell_type": "code",
   "execution_count": 21,
   "metadata": {
    "papermill": {
     "duration": 0.044836,
     "end_time": "2021-04-23T18:51:12.131337",
     "exception": false,
     "start_time": "2021-04-23T18:51:12.086501",
     "status": "completed"
    },
    "tags": []
   },
   "outputs": [
    {
     "output_type": "execute_result",
     "data": {
      "text/plain": [
       "Index(['id', 'keyword', 'location', 'text', 'target', 'keyword_unique',\n",
       "       'cleaned_text'],\n",
       "      dtype='object')"
      ]
     },
     "metadata": {},
     "execution_count": 21
    }
   ],
   "source": [
    "train_data.columns"
   ]
  },
  {
   "cell_type": "code",
   "execution_count": 22,
   "metadata": {
    "papermill": {
     "duration": 0.067693,
     "end_time": "2021-04-23T18:51:12.233444",
     "exception": false,
     "start_time": "2021-04-23T18:51:12.165751",
     "status": "completed"
    },
    "tags": []
   },
   "outputs": [],
   "source": [
    "train_data['keyword_unique_cleaned_text'] = train_data['keyword_unique'] + ' ' + train_data['cleaned_text']"
   ]
  },
  {
   "cell_type": "code",
   "execution_count": 23,
   "metadata": {
    "papermill": {
     "duration": 0.043236,
     "end_time": "2021-04-23T18:51:12.311795",
     "exception": false,
     "start_time": "2021-04-23T18:51:12.268559",
     "status": "completed"
    },
    "tags": []
   },
   "outputs": [
    {
     "output_type": "execute_result",
     "data": {
      "text/plain": [
       "'xambulancex'"
      ]
     },
     "metadata": {},
     "execution_count": 23
    }
   ],
   "source": [
    "train_data['keyword_unique'].iloc[190]"
   ]
  },
  {
   "cell_type": "code",
   "execution_count": 24,
   "metadata": {
    "papermill": {
     "duration": 0.045151,
     "end_time": "2021-04-23T18:51:12.391348",
     "exception": false,
     "start_time": "2021-04-23T18:51:12.346197",
     "status": "completed"
    },
    "tags": []
   },
   "outputs": [
    {
     "output_type": "execute_result",
     "data": {
      "text/plain": [
       "'http Twelve feared killed Pakistani air ambulance helicopter crash http'"
      ]
     },
     "metadata": {},
     "execution_count": 24
    }
   ],
   "source": [
    "train_data['cleaned_text'].iloc[190]"
   ]
  },
  {
   "cell_type": "code",
   "execution_count": 25,
   "metadata": {
    "papermill": {
     "duration": 0.044811,
     "end_time": "2021-04-23T18:51:12.471151",
     "exception": false,
     "start_time": "2021-04-23T18:51:12.426340",
     "status": "completed"
    },
    "tags": []
   },
   "outputs": [
    {
     "output_type": "execute_result",
     "data": {
      "text/plain": [
       "'xambulancex http Twelve feared killed Pakistani air ambulance helicopter crash http'"
      ]
     },
     "metadata": {},
     "execution_count": 25
    }
   ],
   "source": [
    "train_data['keyword_unique_cleaned_text'].iloc[190]"
   ]
  },
  {
   "cell_type": "code",
   "execution_count": 26,
   "metadata": {
    "papermill": {
     "duration": 0.047721,
     "end_time": "2021-04-23T18:51:12.553886",
     "exception": false,
     "start_time": "2021-04-23T18:51:12.506165",
     "status": "completed"
    },
    "tags": []
   },
   "outputs": [
    {
     "output_type": "execute_result",
     "data": {
      "text/plain": [
       "0         Our Deeds Reason earthquake May ALLAH Forgive u\n",
       "1                   Forest fire near La Ronge Sask Canada\n",
       "2        All resident asked place notified officer No ...\n",
       "3        people receive wildfire evacuation order Cali...\n",
       "4        Just got sent photo Ruby Alaska smoke wildfir...\n",
       "                              ...                        \n",
       "7608     Two giant crane holding bridge collapse nearb...\n",
       "7609     TheTawniest The control wild fire California ...\n",
       "7610                        UTC 5km S Volcano Hawaii http\n",
       "7611     Police investigating collided car Little Port...\n",
       "7612     The Latest More Homes Razed Northern Californ...\n",
       "Name: keyword_unique_cleaned_text, Length: 7613, dtype: object"
      ]
     },
     "metadata": {},
     "execution_count": 26
    }
   ],
   "source": [
    "train_data['keyword_unique_cleaned_text']"
   ]
  },
  {
   "cell_type": "code",
   "execution_count": 27,
   "metadata": {},
   "outputs": [
    {
     "output_type": "execute_result",
     "data": {
      "text/plain": [
       "array([' Our Deeds Reason earthquake May ALLAH Forgive u',\n",
       "       ' Forest fire near La Ronge Sask Canada',\n",
       "       ' All resident asked place notified officer No evacuation shelter place order expected',\n",
       "       ..., ' UTC 5km S Volcano Hawaii http',\n",
       "       ' Police investigating collided car Little Portugal rider suffered serious threatening injury',\n",
       "       ' The Latest More Homes Razed Northern California Wildfire ABC News http'],\n",
       "      dtype=object)"
      ]
     },
     "metadata": {},
     "execution_count": 27
    }
   ],
   "source": [
    "train_data['keyword_unique_cleaned_text'].values"
   ]
  },
  {
   "cell_type": "markdown",
   "metadata": {
    "papermill": {
     "duration": 0.035719,
     "end_time": "2021-04-23T18:51:12.625794",
     "exception": false,
     "start_time": "2021-04-23T18:51:12.590075",
     "status": "completed"
    },
    "tags": []
   },
   "source": [
    "## Tf-idf features"
   ]
  },
  {
   "cell_type": "code",
   "execution_count": 28,
   "metadata": {
    "papermill": {
     "duration": 0.250149,
     "end_time": "2021-04-23T18:51:12.911770",
     "exception": false,
     "start_time": "2021-04-23T18:51:12.661621",
     "status": "completed"
    },
    "tags": []
   },
   "outputs": [],
   "source": [
    "tfidf_vectorizer = TfidfVectorizer(decode_error='strict', strip_accents=None, lowercase=True, preprocessor=None, tokenizer=None, analyzer='word', stop_words=None, ngram_range=(1, 1), max_df=1.0, min_df=1, max_features=100, vocabulary=None, binary=False, norm='l2', smooth_idf=True)"
   ]
  },
  {
   "cell_type": "code",
   "execution_count": 29,
   "metadata": {},
   "outputs": [
    {
     "output_type": "execute_result",
     "data": {
      "text/plain": [
       "<7613x100 sparse matrix of type '<class 'numpy.float64'>'\n",
       "\twith 15936 stored elements in Compressed Sparse Row format>"
      ]
     },
     "metadata": {},
     "execution_count": 29
    }
   ],
   "source": [
    "train_data_tfidf = tfidf_vectorizer.fit_transform(train_data['keyword_unique_cleaned_text'])\n",
    "train_data_tfidf"
   ]
  },
  {
   "cell_type": "code",
   "execution_count": 30,
   "metadata": {
    "papermill": {
     "duration": 0.046372,
     "end_time": "2021-04-23T18:51:12.994876",
     "exception": false,
     "start_time": "2021-04-23T18:51:12.948504",
     "status": "completed"
    },
    "tags": []
   },
   "outputs": [
    {
     "output_type": "execute_result",
     "data": {
      "text/plain": [
       "['accident',\n",
       " 'amp',\n",
       " 'and',\n",
       " 'as',\n",
       " 'attack',\n",
       " 'back',\n",
       " 'body',\n",
       " 'bomb',\n",
       " 'building',\n",
       " 'burning']"
      ]
     },
     "metadata": {},
     "execution_count": 30
    }
   ],
   "source": [
    "tfidf_vectorizer.get_feature_names()[:10]"
   ]
  },
  {
   "cell_type": "markdown",
   "metadata": {
    "papermill": {
     "duration": 0.036486,
     "end_time": "2021-04-23T18:51:13.068304",
     "exception": false,
     "start_time": "2021-04-23T18:51:13.031818",
     "status": "completed"
    },
    "tags": []
   },
   "source": [
    "## Baseline model"
   ]
  },
  {
   "cell_type": "markdown",
   "metadata": {
    "papermill": {
     "duration": 0.036477,
     "end_time": "2021-04-23T18:51:13.141749",
     "exception": false,
     "start_time": "2021-04-23T18:51:13.105272",
     "status": "completed"
    },
    "tags": []
   },
   "source": [
    "## SVC cross validation."
   ]
  },
  {
   "cell_type": "code",
   "execution_count": 31,
   "metadata": {
    "papermill": {
     "duration": 0.045878,
     "end_time": "2021-04-23T18:51:13.224558",
     "exception": false,
     "start_time": "2021-04-23T18:51:13.178680",
     "status": "completed"
    },
    "tags": []
   },
   "outputs": [],
   "source": [
    "svc = SVC(C=1.0, kernel='poly', degree=5, gamma='scale', coef0=0.0, shrinking=True, probability=True, tol=1e-3, cache_size=500, class_weight=None, verbose=False, max_iter=-1, decision_function_shape='ovr', break_ties=False, random_state=42)\n"
   ]
  },
  {
   "cell_type": "code",
   "execution_count": 32,
   "metadata": {
    "papermill": {
     "duration": 2.269566,
     "end_time": "2021-04-23T18:51:15.531951",
     "exception": false,
     "start_time": "2021-04-23T18:51:13.262385",
     "status": "completed"
    },
    "tags": []
   },
   "outputs": [
    {
     "output_type": "execute_result",
     "data": {
      "text/plain": [
       "{'fit_time': array([5.27161098, 5.13530016, 5.16436005, 5.28551006, 5.34749508]),\n",
       " 'score_time': array([0.14501405, 0.13326597, 0.13284707, 0.14554501, 0.14316297]),\n",
       " 'test_score': array([0.65462902, 0.60013132, 0.6126067 , 0.61038108, 0.64914586]),\n",
       " 'train_score': array([0.80082102, 0.8180624 , 0.82216749, 0.81267444, 0.80857002])}"
      ]
     },
     "metadata": {},
     "execution_count": 32
    }
   ],
   "source": [
    "cv_results = cross_validate(svc, train_data_tfidf, train_data['target'], return_train_score=True, n_jobs=-1)\n",
    "cv_results"
   ]
  },
  {
   "cell_type": "markdown",
   "metadata": {
    "papermill": {
     "duration": 0.037465,
     "end_time": "2021-04-23T18:51:15.691626",
     "exception": false,
     "start_time": "2021-04-23T18:51:15.654161",
     "status": "completed"
    },
    "tags": []
   },
   "source": [
    "## Pipeline"
   ]
  },
  {
   "cell_type": "code",
   "execution_count": 33,
   "metadata": {
    "papermill": {
     "duration": 0.047343,
     "end_time": "2021-04-23T18:51:15.776714",
     "exception": false,
     "start_time": "2021-04-23T18:51:15.729371",
     "status": "completed"
    },
    "tags": []
   },
   "outputs": [],
   "source": [
    "text_clf = Pipeline(\n",
    "    [\n",
    "        ('tfidf_vect', TfidfVectorizer(decode_error='strict', strip_accents=None, lowercase=True, preprocessor=None, tokenizer=None, analyzer='word', stop_words=None, vocabulary=None, dtype=np.float64, norm='l2', smooth_idf=True)),\n",
    "        ('clf', SVC(gamma='scale', coef0=0.0, shrinking=True, probability=True, tol=1e-3, cache_size=500, verbose=False, max_iter=-1, random_state=42)),\n",
    "    ]\n",
    ")"
   ]
  },
  {
   "cell_type": "code",
   "execution_count": 34,
   "metadata": {
    "papermill": {
     "duration": 0.062115,
     "end_time": "2021-04-23T18:51:15.876997",
     "exception": false,
     "start_time": "2021-04-23T18:51:15.814882",
     "status": "completed"
    },
    "tags": []
   },
   "outputs": [],
   "source": [
    "parameters = {\n",
    "    'tfidf_vect__ngram_range': [(1, 1), (1, 2), (1, 2, 3)],\n",
    "    'tfidf_vect__max_df': [0.6, 0.8],\n",
    "    'tfidf_vect__min_df': [0.0, 0.1],\n",
    "    'tfidf_vect__max_features': [10, 100, 500],\n",
    "    'tfidf_vect__binary': [True, False],\n",
    "    'tfidf_vect__use_idf': [True, False],\n",
    "    'tfidf_vect__sublinear_tf': [True, False],\n",
    "    'clf__C': [1, 10],\n",
    "    'clf__kernel': ['poly', 'rbf'],\n",
    "    'clf__degree': [3, 5],\n",
    "    'clf__class_weight': ['balanced', None]\n",
    "}"
   ]
  },
  {
   "cell_type": "code",
   "execution_count": 35,
   "metadata": {},
   "outputs": [],
   "source": [
    "strat_k_fold = StratifiedKFold(n_splits=5, shuffle=True, random_state=42)"
   ]
  },
  {
   "cell_type": "code",
   "execution_count": 36,
   "metadata": {
    "papermill": {
     "duration": 0.161087,
     "end_time": "2021-04-23T18:51:16.086606",
     "exception": false,
     "start_time": "2021-04-23T18:51:15.925519",
     "status": "completed"
    },
    "tags": []
   },
   "outputs": [],
   "source": [
    "gs_clf = GridSearchCV(text_clf, parameters, cv = strat_k_fold, n_jobs=-1, verbose = 10)"
   ]
  },
  {
   "cell_type": "code",
   "execution_count": 67,
   "metadata": {
    "papermill": {
     "duration": 0.061844,
     "end_time": "2021-04-23T18:51:16.188372",
     "exception": false,
     "start_time": "2021-04-23T18:51:16.126528",
     "status": "completed"
    },
    "tags": []
   },
   "outputs": [
    {
     "output_type": "stream",
     "name": "stdout",
     "text": [
      "Fitting 5 folds for each of 4608 candidates, totalling 23040 fits\n",
      "/Users/mihir/opt/anaconda3/envs/nlp_disaster_tweets/lib/python3.9/site-packages/sklearn/model_selection/_search.py:918: UserWarning: One or more of the test scores are non-finite: [0.639303   0.63798972 0.639303   ...        nan        nan        nan]\n",
      "  warnings.warn(\n"
     ]
    }
   ],
   "source": [
    "gs_clf = gs_clf.fit(train_data['keyword_unique_cleaned_text'], train_data['target'])"
   ]
  },
  {
   "cell_type": "code",
   "execution_count": 37,
   "metadata": {},
   "outputs": [],
   "source": [
    "gs_clf = pickle.load(open('/Volumes/Area51/Kaggle/nlp_with_disaster_tweets/gs_clf.pkl', 'rb'))"
   ]
  },
  {
   "cell_type": "code",
   "execution_count": 38,
   "metadata": {},
   "outputs": [
    {
     "output_type": "execute_result",
     "data": {
      "text/plain": [
       "Pipeline(steps=[('tfidf_vect',\n",
       "                 TfidfVectorizer(max_df=0.6, max_features=500, min_df=0.0)),\n",
       "                ('clf',\n",
       "                 SVC(C=1, cache_size=500, probability=True, random_state=42))])"
      ]
     },
     "metadata": {},
     "execution_count": 38
    }
   ],
   "source": [
    "gs_clf.best_estimator_"
   ]
  },
  {
   "cell_type": "code",
   "execution_count": 39,
   "metadata": {},
   "outputs": [
    {
     "output_type": "execute_result",
     "data": {
      "text/plain": [
       "0.781954145071238"
      ]
     },
     "metadata": {},
     "execution_count": 39
    }
   ],
   "source": [
    "gs_clf.best_score_"
   ]
  },
  {
   "cell_type": "code",
   "execution_count": 40,
   "metadata": {},
   "outputs": [
    {
     "output_type": "execute_result",
     "data": {
      "text/plain": [
       "array([0, 1])"
      ]
     },
     "metadata": {},
     "execution_count": 40
    }
   ],
   "source": [
    "gs_clf.classes_"
   ]
  },
  {
   "cell_type": "code",
   "execution_count": 41,
   "metadata": {},
   "outputs": [
    {
     "output_type": "execute_result",
     "data": {
      "text/plain": [
       "1634"
      ]
     },
     "metadata": {},
     "execution_count": 41
    }
   ],
   "source": [
    "gs_clf.best_index_"
   ]
  },
  {
   "cell_type": "code",
   "execution_count": 42,
   "metadata": {},
   "outputs": [
    {
     "output_type": "execute_result",
     "data": {
      "text/plain": [
       "{'clf__C': 1,\n",
       " 'clf__class_weight': None,\n",
       " 'clf__degree': 3,\n",
       " 'clf__kernel': 'rbf',\n",
       " 'tfidf_vect__binary': False,\n",
       " 'tfidf_vect__max_df': 0.6,\n",
       " 'tfidf_vect__max_features': 500,\n",
       " 'tfidf_vect__min_df': 0.0,\n",
       " 'tfidf_vect__ngram_range': (1, 1),\n",
       " 'tfidf_vect__sublinear_tf': False,\n",
       " 'tfidf_vect__use_idf': True}"
      ]
     },
     "metadata": {},
     "execution_count": 42
    }
   ],
   "source": [
    "gs_clf.best_params_"
   ]
  },
  {
   "cell_type": "code",
   "execution_count": 43,
   "metadata": {},
   "outputs": [],
   "source": [
    "tfidf_vectorizer = TfidfVectorizer(decode_error='strict', strip_accents=None, lowercase=True, preprocessor=None, tokenizer=None, analyzer='word', stop_words=None, ngram_range=(1, 1), max_df=0.6, min_df=0.0, max_features=500, vocabulary=None, binary=False, dtype=np.float64, norm='l2', use_idf=True, smooth_idf=True, sublinear_tf=False)"
   ]
  },
  {
   "cell_type": "code",
   "execution_count": 44,
   "metadata": {},
   "outputs": [
    {
     "output_type": "execute_result",
     "data": {
      "text/plain": [
       "<7613x500 sparse matrix of type '<class 'numpy.float64'>'\n",
       "\twith 33700 stored elements in Compressed Sparse Row format>"
      ]
     },
     "metadata": {},
     "execution_count": 44
    }
   ],
   "source": [
    "train_data_tfidf = tfidf_vectorizer.fit_transform(train_data['keyword_unique_cleaned_text'])\n",
    "train_data_tfidf"
   ]
  },
  {
   "cell_type": "code",
   "execution_count": 45,
   "metadata": {},
   "outputs": [
    {
     "output_type": "execute_result",
     "data": {
      "text/plain": [
       "['2015',\n",
       " '40',\n",
       " '70',\n",
       " 'accident',\n",
       " 'accidentx',\n",
       " 'after',\n",
       " 'air',\n",
       " 'airplane',\n",
       " 'all',\n",
       " 'also']"
      ]
     },
     "metadata": {},
     "execution_count": 45
    }
   ],
   "source": [
    "tfidf_vectorizer.get_feature_names()[:10]"
   ]
  },
  {
   "cell_type": "code",
   "execution_count": 46,
   "metadata": {},
   "outputs": [],
   "source": [
    "svc = SVC(C=1, kernel='rbf', degree=3, gamma='scale', coef0=0.0, shrinking=True, probability=True, tol=1e-3, cache_size=500, class_weight=None, verbose=False, max_iter=-1, decision_function_shape='ovr', break_ties=False, random_state=42)\n"
   ]
  },
  {
   "cell_type": "code",
   "execution_count": 47,
   "metadata": {},
   "outputs": [
    {
     "output_type": "execute_result",
     "data": {
      "text/plain": [
       "{'fit_time': array([8.03279209, 7.67498517, 7.76982212, 7.90120101, 8.16133094]),\n",
       " 'score_time': array([0.27571321, 0.28474784, 0.28194284, 0.28488088, 0.29657435]),\n",
       " 'test_score': array([0.69796454, 0.57124097, 0.62967827, 0.61695138, 0.71616294]),\n",
       " 'train_score': array([0.87947455, 0.8863711 , 0.88489327, 0.88228534, 0.87604663])}"
      ]
     },
     "metadata": {},
     "execution_count": 47
    }
   ],
   "source": [
    "cv_results = cross_validate(svc, train_data_tfidf, train_data['target'], return_train_score=True, n_jobs=-1)\n",
    "cv_results"
   ]
  },
  {
   "cell_type": "code",
   "execution_count": 48,
   "metadata": {},
   "outputs": [
    {
     "output_type": "execute_result",
     "data": {
      "text/plain": [
       "{'fit_time': array([8.12541723, 8.04615188, 8.00885677, 8.06134772, 8.21598196]),\n",
       " 'score_time': array([0.27530074, 0.2766211 , 0.2776053 , 0.2753191 , 0.28297496]),\n",
       " 'test_score': array([0.79251477, 0.7800394 , 0.75640184, 0.78120894, 0.79960578]),\n",
       " 'train_score': array([0.87553366, 0.87914614, 0.87865353, 0.87883763, 0.87653916])}"
      ]
     },
     "metadata": {},
     "execution_count": 48
    }
   ],
   "source": [
    "cv_results = cross_validate(gs_clf.best_estimator_, train_data['keyword_unique_cleaned_text'], train_data['target'], cv=strat_k_fold, return_train_score=True, n_jobs=-1)\n",
    "cv_results"
   ]
  },
  {
   "cell_type": "code",
   "execution_count": 49,
   "metadata": {},
   "outputs": [
    {
     "output_type": "execute_result",
     "data": {
      "text/plain": [
       "0.781954145071238"
      ]
     },
     "metadata": {},
     "execution_count": 49
    }
   ],
   "source": [
    "gs_clf.best_score_"
   ]
  },
  {
   "cell_type": "code",
   "execution_count": 50,
   "metadata": {},
   "outputs": [],
   "source": [
    "scoring_function_f1 = make_scorer(f1_score, pos_label=1, average='binary')"
   ]
  },
  {
   "cell_type": "code",
   "execution_count": 51,
   "metadata": {},
   "outputs": [
    {
     "output_type": "execute_result",
     "data": {
      "text/plain": [
       "{'fit_time': array([7.82014894, 7.67784786, 7.71276212, 7.83777881, 7.94395709]),\n",
       " 'score_time': array([0.29004002, 0.29981303, 0.30108094, 0.28211832, 0.28850913]),\n",
       " 'test_score': array([0.72852234, 0.71489362, 0.68953975, 0.71465296, 0.74261603]),\n",
       " 'train_score': array([0.84168755, 0.84653878, 0.8467123 , 0.84764657, 0.8439834 ])}"
      ]
     },
     "metadata": {},
     "execution_count": 51
    }
   ],
   "source": [
    "cv_results = cross_validate(estimator=gs_clf.best_estimator_, X=train_data['keyword_unique_cleaned_text'], y=train_data['target'], scoring=scoring_function_f1, cv=strat_k_fold, return_train_score=True, n_jobs=-1)\n",
    "cv_results"
   ]
  },
  {
   "cell_type": "code",
   "execution_count": 52,
   "metadata": {},
   "outputs": [],
   "source": [
    "def mean_sd_cv_results(cv_results, metric='F1'):\n",
    "    print(f\"{metric} Train CV results: {cv_results['train_score'].mean().round(3)} +- {cv_results['train_score'].std().round(3)}\")\n",
    "    print(f\"{metric} Val CV results: {cv_results['test_score'].mean().round(3)} +- {cv_results['test_score'].std().round(3)}\")"
   ]
  },
  {
   "cell_type": "code",
   "execution_count": 53,
   "metadata": {},
   "outputs": [
    {
     "output_type": "stream",
     "name": "stdout",
     "text": [
      "F1 Train CV results: 0.845 +- 0.002\nF1 Val CV results: 0.718 +- 0.018\n"
     ]
    }
   ],
   "source": [
    "mean_sd_cv_results(cv_results)"
   ]
  },
  {
   "cell_type": "code",
   "execution_count": 54,
   "metadata": {},
   "outputs": [],
   "source": [
    "with open('gs_clf.pkl', 'wb') as f:\n",
    "    pickle.dump(gs_clf, f, pickle.HIGHEST_PROTOCOL)"
   ]
  },
  {
   "cell_type": "code",
   "execution_count": 59,
   "metadata": {},
   "outputs": [
    {
     "output_type": "stream",
     "name": "stdout",
     "text": [
      "[NbConvertApp] Converting notebook real-or-not-disaster-tweets-modeling-SVC.ipynb to html\n",
      "[NbConvertApp] Writing 661692 bytes to real-or-not-disaster-tweets-modeling-SVC.html\n"
     ]
    }
   ],
   "source": [
    "! jupyter nbconvert --to html real-or-not-disaster-tweets-modeling-SVC.ipynb"
   ]
  },
  {
   "cell_type": "code",
   "execution_count": 61,
   "metadata": {},
   "outputs": [],
   "source": [
    "# MLflow logging.\n",
    "with mlflow.start_run(run_name=run_name) as run:\n",
    "    # Modeling exp.\n",
    "    mlflow.set_tag('Modeling technique', 'SVC')\n",
    "    # Hyperparameter search parameters.\n",
    "    mlflow.log_dict(parameters, 'hyperparameters_search_space_gs_cv.yaml')\n",
    "    # GridSearch classifier object store in the pickle file.\n",
    "    mlflow.sklearn.log_model(sk_model=gs_clf, artifact_path='gs_cv_clf_sklearn')\n",
    "    # GS CV Best parameters.\n",
    "    mlflow.log_dict(gs_clf.best_params_, 'best_params_gs_cv.yaml')\n",
    "    # mean F1-score - train.\n",
    "    mlflow.log_metric('mean F1-score - train', cv_results['train_score'].mean().round(3))\n",
    "    # mean F1-score - val.\n",
    "    mlflow.log_metric('mean F1-score - val', cv_results['test_score'].mean().round(3))\n",
    "    # std F1-score - train.\n",
    "    mlflow.log_metric('std F1-score - train', cv_results['train_score'].std().round(3))\n",
    "    # std F1-score - val.\n",
    "    mlflow.log_metric('std F1-score - val', cv_results['test_score'].std().round(3))\n",
    "    # Nb.\n",
    "    mlflow.log_artifact('real-or-not-disaster-tweets-modeling-SVC.ipynb', artifact_path='Notebook')\n",
    "    # Nb in HTML.\n",
    "    mlflow.log_artifact('real-or-not-disaster-tweets-modeling-SVC.html', artifact_path='Notebook')"
   ]
  },
  {
   "cell_type": "code",
   "execution_count": null,
   "metadata": {},
   "outputs": [],
   "source": []
  }
 ],
 "metadata": {
  "kernelspec": {
   "name": "python391jvsc74a57bd0eeaa6f7f9d55900aa89bc3c04a1751ad3ee5030fffb5fb27314dbd7b21d279ee",
   "display_name": "Python 3.9.1 64-bit ('nlp_disaster_tweets': conda)"
  },
  "language_info": {
   "codemirror_mode": {
    "name": "ipython",
    "version": 3
   },
   "file_extension": ".py",
   "mimetype": "text/x-python",
   "name": "python",
   "nbconvert_exporter": "python",
   "pygments_lexer": "ipython3",
   "version": "3.9.1"
  },
  "metadata": {
   "interpreter": {
    "hash": "eeaa6f7f9d55900aa89bc3c04a1751ad3ee5030fffb5fb27314dbd7b21d279ee"
   }
  },
  "papermill": {
   "duration": 20.205122,
   "end_time": "2021-04-23T18:51:16.435914",
   "environment_variables": {},
   "exception": null,
   "input_path": "__notebook__.ipynb",
   "output_path": "__notebook__.ipynb",
   "parameters": {},
   "start_time": "2021-04-23T18:50:56.230792",
   "version": "2.1.0"
  }
 },
 "nbformat": 4,
 "nbformat_minor": 4
}