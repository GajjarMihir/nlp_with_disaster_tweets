{
 "cells": [
  {
   "cell_type": "code",
   "execution_count": 2,
   "metadata": {
    "_cell_guid": "b1076dfc-b9ad-4769-8c92-a6c4dae69d19",
    "_uuid": "8f2839f25d086af736a60e9eeb907d3b93b6e0e5",
    "execution": {
     "iopub.execute_input": "2021-04-23T18:51:01.288703Z",
     "iopub.status.busy": "2021-04-23T18:51:01.284313Z",
     "iopub.status.idle": "2021-04-23T18:51:01.295978Z",
     "shell.execute_reply": "2021-04-23T18:51:01.295066Z"
    },
    "papermill": {
     "duration": 0.043617,
     "end_time": "2021-04-23T18:51:01.296154",
     "exception": false,
     "start_time": "2021-04-23T18:51:01.252537",
     "status": "completed"
    },
    "tags": []
   },
   "outputs": [],
   "source": [
    "# # This Python 3 environment comes with many helpful analytics libraries installed\n",
    "# # It is defined by the kaggle/python Docker image: https://github.com/kaggle/docker-python\n",
    "# # For example, here's several helpful packages to load\n",
    "\n",
    "# import numpy as np # linear algebra\n",
    "# import pandas as pd # data processing, CSV file I/O (e.g. pd.read_csv)\n",
    "\n",
    "# # Input data files are available in the read-only \"../input/\" directory\n",
    "# # For example, running this (by clicking run or pressing Shift+Enter) will list all files under the input directory\n",
    "\n",
    "# import os\n",
    "# for dirname, _, filenames in os.walk('/kaggle/input'):\n",
    "#     for filename in filenames:\n",
    "#         print(os.path.join(dirname, filename))\n",
    "\n",
    "# # You can write up to 20GB to the current directory (/kaggle/working/) that gets preserved as output when you create a version using \"Save & Run All\" \n",
    "# # You can also write temporary files to /kaggle/temp/, but they won't be saved outside of the current session"
   ]
  },
  {
   "cell_type": "markdown",
   "metadata": {
    "papermill": {
     "duration": 0.027186,
     "end_time": "2021-04-23T18:51:01.353346",
     "exception": false,
     "start_time": "2021-04-23T18:51:01.326160",
     "status": "completed"
    },
    "tags": []
   },
   "source": [
    "## Imports"
   ]
  },
  {
   "cell_type": "code",
   "execution_count": 12,
   "metadata": {
    "execution": {
     "iopub.execute_input": "2021-04-23T18:51:01.420110Z",
     "iopub.status.busy": "2021-04-23T18:51:01.419219Z",
     "iopub.status.idle": "2021-04-23T18:51:03.329734Z",
     "shell.execute_reply": "2021-04-23T18:51:03.328940Z"
    },
    "papermill": {
     "duration": 1.945868,
     "end_time": "2021-04-23T18:51:03.329864",
     "exception": false,
     "start_time": "2021-04-23T18:51:01.383996",
     "status": "completed"
    },
    "tags": []
   },
   "outputs": [],
   "source": [
    "import pandas as pd\n",
    "import numpy as np\n",
    "\n",
    "from nltk import WordNetLemmatizer\n",
    "from nltk.tokenize import word_tokenize\n",
    "from nltk.corpus import stopwords\n",
    "\n",
    "from sklearn.pipeline import Pipeline\n",
    "from sklearn.svm import LinearSVC\n",
    "from sklearn.model_selection import cross_validate, GridSearchCV\n",
    "from sklearn.feature_extraction.text import TfidfVectorizer"
   ]
  },
  {
   "cell_type": "markdown",
   "metadata": {
    "papermill": {
     "duration": 0.026237,
     "end_time": "2021-04-23T18:51:03.382853",
     "exception": false,
     "start_time": "2021-04-23T18:51:03.356616",
     "status": "completed"
    },
    "tags": []
   },
   "source": [
    "## Reading the data"
   ]
  },
  {
   "cell_type": "code",
   "execution_count": 7,
   "metadata": {
    "_cell_guid": "79c7e3d0-c299-4dcb-8224-4455121ee9b0",
    "_uuid": "d629ff2d2480ee46fbb7e2d37f6b5fab8052498a",
    "execution": {
     "iopub.execute_input": "2021-04-23T18:51:03.451642Z",
     "iopub.status.busy": "2021-04-23T18:51:03.450913Z",
     "iopub.status.idle": "2021-04-23T18:51:03.529997Z",
     "shell.execute_reply": "2021-04-23T18:51:03.529257Z"
    },
    "papermill": {
     "duration": 0.120663,
     "end_time": "2021-04-23T18:51:03.530139",
     "exception": false,
     "start_time": "2021-04-23T18:51:03.409476",
     "status": "completed"
    },
    "tags": []
   },
   "outputs": [],
   "source": [
    "# train_data = pd.read_csv(\"/kaggle/input/nlp-getting-started/train.csv\")\n",
    "# test_data = pd.read_csv(\"/kaggle/input/nlp-getting-started/test.csv\")"
   ]
  },
  {
   "cell_type": "code",
   "execution_count": 8,
   "metadata": {},
   "outputs": [],
   "source": [
    "train_data = pd.read_csv(\"./data/train.csv\")\n",
    "test_data = pd.read_csv(\"./data/test.csv\")"
   ]
  },
  {
   "cell_type": "code",
   "execution_count": 9,
   "metadata": {
    "execution": {
     "iopub.execute_input": "2021-04-23T18:51:03.608704Z",
     "iopub.status.busy": "2021-04-23T18:51:03.594866Z",
     "iopub.status.idle": "2021-04-23T18:51:03.619513Z",
     "shell.execute_reply": "2021-04-23T18:51:03.620082Z"
    },
    "papermill": {
     "duration": 0.062637,
     "end_time": "2021-04-23T18:51:03.620245",
     "exception": false,
     "start_time": "2021-04-23T18:51:03.557608",
     "status": "completed"
    },
    "tags": []
   },
   "outputs": [
    {
     "output_type": "execute_result",
     "data": {
      "text/plain": [
       "         id keyword location  \\\n",
       "0         1     NaN      NaN   \n",
       "1         4     NaN      NaN   \n",
       "2         5     NaN      NaN   \n",
       "3         6     NaN      NaN   \n",
       "4         7     NaN      NaN   \n",
       "...     ...     ...      ...   \n",
       "7608  10869     NaN      NaN   \n",
       "7609  10870     NaN      NaN   \n",
       "7610  10871     NaN      NaN   \n",
       "7611  10872     NaN      NaN   \n",
       "7612  10873     NaN      NaN   \n",
       "\n",
       "                                                   text  target  \n",
       "0     Our Deeds are the Reason of this #earthquake M...       1  \n",
       "1                Forest fire near La Ronge Sask. Canada       1  \n",
       "2     All residents asked to 'shelter in place' are ...       1  \n",
       "3     13,000 people receive #wildfires evacuation or...       1  \n",
       "4     Just got sent this photo from Ruby #Alaska as ...       1  \n",
       "...                                                 ...     ...  \n",
       "7608  Two giant cranes holding a bridge collapse int...       1  \n",
       "7609  @aria_ahrary @TheTawniest The out of control w...       1  \n",
       "7610  M1.94 [01:04 UTC]?5km S of Volcano Hawaii. htt...       1  \n",
       "7611  Police investigating after an e-bike collided ...       1  \n",
       "7612  The Latest: More Homes Razed by Northern Calif...       1  \n",
       "\n",
       "[7613 rows x 5 columns]"
      ],
      "text/html": "<div>\n<style scoped>\n    .dataframe tbody tr th:only-of-type {\n        vertical-align: middle;\n    }\n\n    .dataframe tbody tr th {\n        vertical-align: top;\n    }\n\n    .dataframe thead th {\n        text-align: right;\n    }\n</style>\n<table border=\"1\" class=\"dataframe\">\n  <thead>\n    <tr style=\"text-align: right;\">\n      <th></th>\n      <th>id</th>\n      <th>keyword</th>\n      <th>location</th>\n      <th>text</th>\n      <th>target</th>\n    </tr>\n  </thead>\n  <tbody>\n    <tr>\n      <th>0</th>\n      <td>1</td>\n      <td>NaN</td>\n      <td>NaN</td>\n      <td>Our Deeds are the Reason of this #earthquake M...</td>\n      <td>1</td>\n    </tr>\n    <tr>\n      <th>1</th>\n      <td>4</td>\n      <td>NaN</td>\n      <td>NaN</td>\n      <td>Forest fire near La Ronge Sask. Canada</td>\n      <td>1</td>\n    </tr>\n    <tr>\n      <th>2</th>\n      <td>5</td>\n      <td>NaN</td>\n      <td>NaN</td>\n      <td>All residents asked to 'shelter in place' are ...</td>\n      <td>1</td>\n    </tr>\n    <tr>\n      <th>3</th>\n      <td>6</td>\n      <td>NaN</td>\n      <td>NaN</td>\n      <td>13,000 people receive #wildfires evacuation or...</td>\n      <td>1</td>\n    </tr>\n    <tr>\n      <th>4</th>\n      <td>7</td>\n      <td>NaN</td>\n      <td>NaN</td>\n      <td>Just got sent this photo from Ruby #Alaska as ...</td>\n      <td>1</td>\n    </tr>\n    <tr>\n      <th>...</th>\n      <td>...</td>\n      <td>...</td>\n      <td>...</td>\n      <td>...</td>\n      <td>...</td>\n    </tr>\n    <tr>\n      <th>7608</th>\n      <td>10869</td>\n      <td>NaN</td>\n      <td>NaN</td>\n      <td>Two giant cranes holding a bridge collapse int...</td>\n      <td>1</td>\n    </tr>\n    <tr>\n      <th>7609</th>\n      <td>10870</td>\n      <td>NaN</td>\n      <td>NaN</td>\n      <td>@aria_ahrary @TheTawniest The out of control w...</td>\n      <td>1</td>\n    </tr>\n    <tr>\n      <th>7610</th>\n      <td>10871</td>\n      <td>NaN</td>\n      <td>NaN</td>\n      <td>M1.94 [01:04 UTC]?5km S of Volcano Hawaii. htt...</td>\n      <td>1</td>\n    </tr>\n    <tr>\n      <th>7611</th>\n      <td>10872</td>\n      <td>NaN</td>\n      <td>NaN</td>\n      <td>Police investigating after an e-bike collided ...</td>\n      <td>1</td>\n    </tr>\n    <tr>\n      <th>7612</th>\n      <td>10873</td>\n      <td>NaN</td>\n      <td>NaN</td>\n      <td>The Latest: More Homes Razed by Northern Calif...</td>\n      <td>1</td>\n    </tr>\n  </tbody>\n</table>\n<p>7613 rows × 5 columns</p>\n</div>"
     },
     "metadata": {},
     "execution_count": 9
    }
   ],
   "source": [
    "train_data"
   ]
  },
  {
   "cell_type": "code",
   "execution_count": 10,
   "metadata": {
    "execution": {
     "iopub.execute_input": "2021-04-23T18:51:03.684194Z",
     "iopub.status.busy": "2021-04-23T18:51:03.683302Z",
     "iopub.status.idle": "2021-04-23T18:51:03.689585Z",
     "shell.execute_reply": "2021-04-23T18:51:03.688872Z"
    },
    "papermill": {
     "duration": 0.039109,
     "end_time": "2021-04-23T18:51:03.689717",
     "exception": false,
     "start_time": "2021-04-23T18:51:03.650608",
     "status": "completed"
    },
    "tags": []
   },
   "outputs": [
    {
     "output_type": "stream",
     "name": "stdout",
     "text": [
      "The length of the training data is 7613\nThe length of the test data is 3263\n"
     ]
    }
   ],
   "source": [
    "print('The length of the training data is %d' % len(train_data))\n",
    "print('The length of the test data is %d' % len(test_data))"
   ]
  },
  {
   "cell_type": "markdown",
   "metadata": {
    "papermill": {
     "duration": 0.029738,
     "end_time": "2021-04-23T18:51:03.748267",
     "exception": false,
     "start_time": "2021-04-23T18:51:03.718529",
     "status": "completed"
    },
    "tags": []
   },
   "source": [
    "## Feature Engineering"
   ]
  },
  {
   "cell_type": "markdown",
   "metadata": {
    "papermill": {
     "duration": 0.028822,
     "end_time": "2021-04-23T18:51:03.806508",
     "exception": false,
     "start_time": "2021-04-23T18:51:03.777686",
     "status": "completed"
    },
    "tags": []
   },
   "source": [
    "### Replacing NaN with empty string."
   ]
  },
  {
   "cell_type": "code",
   "execution_count": 13,
   "metadata": {
    "execution": {
     "iopub.execute_input": "2021-04-23T18:51:03.871749Z",
     "iopub.status.busy": "2021-04-23T18:51:03.870735Z",
     "iopub.status.idle": "2021-04-23T18:51:03.894190Z",
     "shell.execute_reply": "2021-04-23T18:51:03.894731Z"
    },
    "papermill": {
     "duration": 0.056509,
     "end_time": "2021-04-23T18:51:03.894905",
     "exception": false,
     "start_time": "2021-04-23T18:51:03.838396",
     "status": "completed"
    },
    "tags": []
   },
   "outputs": [
    {
     "output_type": "execute_result",
     "data": {
      "text/plain": [
       "         id keyword location  \\\n",
       "0         1                    \n",
       "1         4                    \n",
       "2         5                    \n",
       "3         6                    \n",
       "4         7                    \n",
       "...     ...     ...      ...   \n",
       "7608  10869                    \n",
       "7609  10870                    \n",
       "7610  10871                    \n",
       "7611  10872                    \n",
       "7612  10873                    \n",
       "\n",
       "                                                   text  target  \n",
       "0     Our Deeds are the Reason of this #earthquake M...       1  \n",
       "1                Forest fire near La Ronge Sask. Canada       1  \n",
       "2     All residents asked to 'shelter in place' are ...       1  \n",
       "3     13,000 people receive #wildfires evacuation or...       1  \n",
       "4     Just got sent this photo from Ruby #Alaska as ...       1  \n",
       "...                                                 ...     ...  \n",
       "7608  Two giant cranes holding a bridge collapse int...       1  \n",
       "7609  @aria_ahrary @TheTawniest The out of control w...       1  \n",
       "7610  M1.94 [01:04 UTC]?5km S of Volcano Hawaii. htt...       1  \n",
       "7611  Police investigating after an e-bike collided ...       1  \n",
       "7612  The Latest: More Homes Razed by Northern Calif...       1  \n",
       "\n",
       "[7613 rows x 5 columns]"
      ],
      "text/html": "<div>\n<style scoped>\n    .dataframe tbody tr th:only-of-type {\n        vertical-align: middle;\n    }\n\n    .dataframe tbody tr th {\n        vertical-align: top;\n    }\n\n    .dataframe thead th {\n        text-align: right;\n    }\n</style>\n<table border=\"1\" class=\"dataframe\">\n  <thead>\n    <tr style=\"text-align: right;\">\n      <th></th>\n      <th>id</th>\n      <th>keyword</th>\n      <th>location</th>\n      <th>text</th>\n      <th>target</th>\n    </tr>\n  </thead>\n  <tbody>\n    <tr>\n      <th>0</th>\n      <td>1</td>\n      <td></td>\n      <td></td>\n      <td>Our Deeds are the Reason of this #earthquake M...</td>\n      <td>1</td>\n    </tr>\n    <tr>\n      <th>1</th>\n      <td>4</td>\n      <td></td>\n      <td></td>\n      <td>Forest fire near La Ronge Sask. Canada</td>\n      <td>1</td>\n    </tr>\n    <tr>\n      <th>2</th>\n      <td>5</td>\n      <td></td>\n      <td></td>\n      <td>All residents asked to 'shelter in place' are ...</td>\n      <td>1</td>\n    </tr>\n    <tr>\n      <th>3</th>\n      <td>6</td>\n      <td></td>\n      <td></td>\n      <td>13,000 people receive #wildfires evacuation or...</td>\n      <td>1</td>\n    </tr>\n    <tr>\n      <th>4</th>\n      <td>7</td>\n      <td></td>\n      <td></td>\n      <td>Just got sent this photo from Ruby #Alaska as ...</td>\n      <td>1</td>\n    </tr>\n    <tr>\n      <th>...</th>\n      <td>...</td>\n      <td>...</td>\n      <td>...</td>\n      <td>...</td>\n      <td>...</td>\n    </tr>\n    <tr>\n      <th>7608</th>\n      <td>10869</td>\n      <td></td>\n      <td></td>\n      <td>Two giant cranes holding a bridge collapse int...</td>\n      <td>1</td>\n    </tr>\n    <tr>\n      <th>7609</th>\n      <td>10870</td>\n      <td></td>\n      <td></td>\n      <td>@aria_ahrary @TheTawniest The out of control w...</td>\n      <td>1</td>\n    </tr>\n    <tr>\n      <th>7610</th>\n      <td>10871</td>\n      <td></td>\n      <td></td>\n      <td>M1.94 [01:04 UTC]?5km S of Volcano Hawaii. htt...</td>\n      <td>1</td>\n    </tr>\n    <tr>\n      <th>7611</th>\n      <td>10872</td>\n      <td></td>\n      <td></td>\n      <td>Police investigating after an e-bike collided ...</td>\n      <td>1</td>\n    </tr>\n    <tr>\n      <th>7612</th>\n      <td>10873</td>\n      <td></td>\n      <td></td>\n      <td>The Latest: More Homes Razed by Northern Calif...</td>\n      <td>1</td>\n    </tr>\n  </tbody>\n</table>\n<p>7613 rows × 5 columns</p>\n</div>"
     },
     "metadata": {},
     "execution_count": 13
    }
   ],
   "source": [
    "train_data = train_data.replace(np.nan, '', regex=True)\n",
    "train_data"
   ]
  },
  {
   "cell_type": "markdown",
   "metadata": {
    "papermill": {
     "duration": 0.03119,
     "end_time": "2021-04-23T18:51:03.956313",
     "exception": false,
     "start_time": "2021-04-23T18:51:03.925123",
     "status": "completed"
    },
    "tags": []
   },
   "source": [
    "### Replacing %20 with space"
   ]
  },
  {
   "cell_type": "code",
   "execution_count": 14,
   "metadata": {
    "execution": {
     "iopub.execute_input": "2021-04-23T18:51:04.021619Z",
     "iopub.status.busy": "2021-04-23T18:51:04.020451Z",
     "iopub.status.idle": "2021-04-23T18:51:04.083408Z",
     "shell.execute_reply": "2021-04-23T18:51:04.083954Z"
    },
    "papermill": {
     "duration": 0.097646,
     "end_time": "2021-04-23T18:51:04.084144",
     "exception": false,
     "start_time": "2021-04-23T18:51:03.986498",
     "status": "completed"
    },
    "tags": []
   },
   "outputs": [
    {
     "output_type": "execute_result",
     "data": {
      "text/plain": [
       "         id keyword location  \\\n",
       "0         1                    \n",
       "1         4                    \n",
       "2         5                    \n",
       "3         6                    \n",
       "4         7                    \n",
       "...     ...     ...      ...   \n",
       "7608  10869                    \n",
       "7609  10870                    \n",
       "7610  10871                    \n",
       "7611  10872                    \n",
       "7612  10873                    \n",
       "\n",
       "                                                   text  target  \n",
       "0     Our Deeds are the Reason of this #earthquake M...       1  \n",
       "1                Forest fire near La Ronge Sask. Canada       1  \n",
       "2     All residents asked to 'shelter in place' are ...       1  \n",
       "3     13,000 people receive #wildfires evacuation or...       1  \n",
       "4     Just got sent this photo from Ruby #Alaska as ...       1  \n",
       "...                                                 ...     ...  \n",
       "7608  Two giant cranes holding a bridge collapse int...       1  \n",
       "7609  @aria_ahrary @TheTawniest The out of control w...       1  \n",
       "7610  M1.94 [01:04 UTC]?5km S of Volcano Hawaii. htt...       1  \n",
       "7611  Police investigating after an e-bike collided ...       1  \n",
       "7612  The Latest: More Homes Razed by Northern Calif...       1  \n",
       "\n",
       "[7613 rows x 5 columns]"
      ],
      "text/html": "<div>\n<style scoped>\n    .dataframe tbody tr th:only-of-type {\n        vertical-align: middle;\n    }\n\n    .dataframe tbody tr th {\n        vertical-align: top;\n    }\n\n    .dataframe thead th {\n        text-align: right;\n    }\n</style>\n<table border=\"1\" class=\"dataframe\">\n  <thead>\n    <tr style=\"text-align: right;\">\n      <th></th>\n      <th>id</th>\n      <th>keyword</th>\n      <th>location</th>\n      <th>text</th>\n      <th>target</th>\n    </tr>\n  </thead>\n  <tbody>\n    <tr>\n      <th>0</th>\n      <td>1</td>\n      <td></td>\n      <td></td>\n      <td>Our Deeds are the Reason of this #earthquake M...</td>\n      <td>1</td>\n    </tr>\n    <tr>\n      <th>1</th>\n      <td>4</td>\n      <td></td>\n      <td></td>\n      <td>Forest fire near La Ronge Sask. Canada</td>\n      <td>1</td>\n    </tr>\n    <tr>\n      <th>2</th>\n      <td>5</td>\n      <td></td>\n      <td></td>\n      <td>All residents asked to 'shelter in place' are ...</td>\n      <td>1</td>\n    </tr>\n    <tr>\n      <th>3</th>\n      <td>6</td>\n      <td></td>\n      <td></td>\n      <td>13,000 people receive #wildfires evacuation or...</td>\n      <td>1</td>\n    </tr>\n    <tr>\n      <th>4</th>\n      <td>7</td>\n      <td></td>\n      <td></td>\n      <td>Just got sent this photo from Ruby #Alaska as ...</td>\n      <td>1</td>\n    </tr>\n    <tr>\n      <th>...</th>\n      <td>...</td>\n      <td>...</td>\n      <td>...</td>\n      <td>...</td>\n      <td>...</td>\n    </tr>\n    <tr>\n      <th>7608</th>\n      <td>10869</td>\n      <td></td>\n      <td></td>\n      <td>Two giant cranes holding a bridge collapse int...</td>\n      <td>1</td>\n    </tr>\n    <tr>\n      <th>7609</th>\n      <td>10870</td>\n      <td></td>\n      <td></td>\n      <td>@aria_ahrary @TheTawniest The out of control w...</td>\n      <td>1</td>\n    </tr>\n    <tr>\n      <th>7610</th>\n      <td>10871</td>\n      <td></td>\n      <td></td>\n      <td>M1.94 [01:04 UTC]?5km S of Volcano Hawaii. htt...</td>\n      <td>1</td>\n    </tr>\n    <tr>\n      <th>7611</th>\n      <td>10872</td>\n      <td></td>\n      <td></td>\n      <td>Police investigating after an e-bike collided ...</td>\n      <td>1</td>\n    </tr>\n    <tr>\n      <th>7612</th>\n      <td>10873</td>\n      <td></td>\n      <td></td>\n      <td>The Latest: More Homes Razed by Northern Calif...</td>\n      <td>1</td>\n    </tr>\n  </tbody>\n</table>\n<p>7613 rows × 5 columns</p>\n</div>"
     },
     "metadata": {},
     "execution_count": 14
    }
   ],
   "source": [
    "train_data = train_data.replace('%20', ' ', regex=True)\n",
    "train_data"
   ]
  },
  {
   "cell_type": "code",
   "execution_count": 15,
   "metadata": {
    "execution": {
     "iopub.execute_input": "2021-04-23T18:51:04.149047Z",
     "iopub.status.busy": "2021-04-23T18:51:04.147892Z",
     "iopub.status.idle": "2021-04-23T18:51:04.163006Z",
     "shell.execute_reply": "2021-04-23T18:51:04.162338Z"
    },
    "papermill": {
     "duration": 0.048863,
     "end_time": "2021-04-23T18:51:04.163141",
     "exception": false,
     "start_time": "2021-04-23T18:51:04.114278",
     "status": "completed"
    },
    "tags": []
   },
   "outputs": [
    {
     "output_type": "execute_result",
     "data": {
      "text/plain": [
       "                       61\n",
       "fatalities             45\n",
       "armageddon             42\n",
       "deluge                 42\n",
       "body bags              41\n",
       "                       ..\n",
       "forest fire            19\n",
       "epicentre              12\n",
       "threat                 11\n",
       "inundation             10\n",
       "radiation emergency     9\n",
       "Name: keyword, Length: 222, dtype: int64"
      ]
     },
     "metadata": {},
     "execution_count": 15
    }
   ],
   "source": [
    "train_data['keyword'].value_counts()"
   ]
  },
  {
   "cell_type": "markdown",
   "metadata": {
    "papermill": {
     "duration": 0.030992,
     "end_time": "2021-04-23T18:51:04.225861",
     "exception": false,
     "start_time": "2021-04-23T18:51:04.194869",
     "status": "completed"
    },
    "tags": []
   },
   "source": [
    "### Creating unique word using the values in the keyword column."
   ]
  },
  {
   "cell_type": "code",
   "execution_count": 16,
   "metadata": {
    "execution": {
     "iopub.execute_input": "2021-04-23T18:51:04.299414Z",
     "iopub.status.busy": "2021-04-23T18:51:04.293421Z",
     "iopub.status.idle": "2021-04-23T18:51:04.301941Z",
     "shell.execute_reply": "2021-04-23T18:51:04.302443Z"
    },
    "papermill": {
     "duration": 0.045962,
     "end_time": "2021-04-23T18:51:04.302641",
     "exception": false,
     "start_time": "2021-04-23T18:51:04.256679",
     "status": "completed"
    },
    "tags": []
   },
   "outputs": [],
   "source": [
    "train_data['keyword_unique'] = train_data['keyword'].apply(lambda word : 'x' + word + 'x' if len(word) else '')"
   ]
  },
  {
   "cell_type": "code",
   "execution_count": 17,
   "metadata": {
    "execution": {
     "iopub.execute_input": "2021-04-23T18:51:04.368175Z",
     "iopub.status.busy": "2021-04-23T18:51:04.367422Z",
     "iopub.status.idle": "2021-04-23T18:51:04.374352Z",
     "shell.execute_reply": "2021-04-23T18:51:04.373770Z"
    },
    "papermill": {
     "duration": 0.040805,
     "end_time": "2021-04-23T18:51:04.374478",
     "exception": false,
     "start_time": "2021-04-23T18:51:04.333673",
     "status": "completed"
    },
    "tags": []
   },
   "outputs": [
    {
     "output_type": "execute_result",
     "data": {
      "text/plain": [
       "'ablaze'"
      ]
     },
     "metadata": {},
     "execution_count": 17
    }
   ],
   "source": [
    "train_data['keyword'].iloc[40]"
   ]
  },
  {
   "cell_type": "code",
   "execution_count": 18,
   "metadata": {
    "execution": {
     "iopub.execute_input": "2021-04-23T18:51:04.440991Z",
     "iopub.status.busy": "2021-04-23T18:51:04.440165Z",
     "iopub.status.idle": "2021-04-23T18:51:04.446770Z",
     "shell.execute_reply": "2021-04-23T18:51:04.446163Z"
    },
    "papermill": {
     "duration": 0.040623,
     "end_time": "2021-04-23T18:51:04.446902",
     "exception": false,
     "start_time": "2021-04-23T18:51:04.406279",
     "status": "completed"
    },
    "tags": []
   },
   "outputs": [
    {
     "output_type": "execute_result",
     "data": {
      "text/plain": [
       "'xablazex'"
      ]
     },
     "metadata": {},
     "execution_count": 18
    }
   ],
   "source": [
    "train_data['keyword_unique'].iloc[40]"
   ]
  },
  {
   "cell_type": "markdown",
   "metadata": {
    "papermill": {
     "duration": 0.030966,
     "end_time": "2021-04-23T18:51:04.510410",
     "exception": false,
     "start_time": "2021-04-23T18:51:04.479444",
     "status": "completed"
    },
    "tags": []
   },
   "source": [
    "## Text preprocessing"
   ]
  },
  {
   "cell_type": "code",
   "execution_count": 19,
   "metadata": {
    "execution": {
     "iopub.execute_input": "2021-04-23T18:51:04.583635Z",
     "iopub.status.busy": "2021-04-23T18:51:04.582874Z",
     "iopub.status.idle": "2021-04-23T18:51:04.584786Z",
     "shell.execute_reply": "2021-04-23T18:51:04.585346Z"
    },
    "papermill": {
     "duration": 0.043537,
     "end_time": "2021-04-23T18:51:04.585510",
     "exception": false,
     "start_time": "2021-04-23T18:51:04.541973",
     "status": "completed"
    },
    "tags": []
   },
   "outputs": [],
   "source": [
    "def clean_text(text):\n",
    "    # split into words\n",
    "    tokens = word_tokenize(text)\n",
    "    # remove all tokens that are not alphanumeric. Can also use .isalpha() here if do not want to keep numbers.\n",
    "    words = [word for word in tokens if word.isalnum()]\n",
    "    # remove stopwords\n",
    "    stop_words = stopwords.words('english')\n",
    "    words = [word for word in words if word not in stop_words]\n",
    "    # performing lemmatization\n",
    "    wordnet_lemmatizer = WordNetLemmatizer()\n",
    "    words = [wordnet_lemmatizer.lemmatize(word) for word in words]\n",
    "    # Converting list of words to string\n",
    "    words = ' '.join(words)\n",
    "    return words"
   ]
  },
  {
   "cell_type": "markdown",
   "metadata": {
    "papermill": {
     "duration": 0.030846,
     "end_time": "2021-04-23T18:51:04.647761",
     "exception": false,
     "start_time": "2021-04-23T18:51:04.616915",
     "status": "completed"
    },
    "tags": []
   },
   "source": [
    "## Kaggle session comments:\n",
    "\n",
    "1. Consider creating a class for pre_processing \n",
    "* It initialized the WordNet lemmatizer - \n",
    "* Then in the apply function call the class .preprocess function\n",
    "* It will be much faster.\n",
    "* Class Pre_processor - different functions for different processing steps - scikit-learn pipelines it's useful to split those functions in multiple classes. In scikit-learn multiple of those classes can be a component and we can see output of those components - when using scikit-learn - separate classes for functional components - for e.g. removing stopwords.\n",
    "* One class of everything can be done.\n",
    "\n",
    "2. Lemmatization is word normalization - root form - is slower than stemming."
   ]
  },
  {
   "cell_type": "code",
   "execution_count": 24,
   "metadata": {
    "execution": {
     "iopub.execute_input": "2021-04-23T18:51:04.717601Z",
     "iopub.status.busy": "2021-04-23T18:51:04.716730Z",
     "iopub.status.idle": "2021-04-23T18:51:11.683402Z",
     "shell.execute_reply": "2021-04-23T18:51:11.682630Z"
    },
    "papermill": {
     "duration": 7.004522,
     "end_time": "2021-04-23T18:51:11.683552",
     "exception": false,
     "start_time": "2021-04-23T18:51:04.679030",
     "status": "completed"
    },
    "tags": []
   },
   "outputs": [],
   "source": [
    "train_data['cleaned_text'] = train_data['text'].apply(clean_text)"
   ]
  },
  {
   "cell_type": "code",
   "execution_count": 25,
   "metadata": {
    "execution": {
     "iopub.execute_input": "2021-04-23T18:51:11.752783Z",
     "iopub.status.busy": "2021-04-23T18:51:11.752137Z",
     "iopub.status.idle": "2021-04-23T18:51:11.755721Z",
     "shell.execute_reply": "2021-04-23T18:51:11.756170Z"
    },
    "papermill": {
     "duration": 0.040577,
     "end_time": "2021-04-23T18:51:11.756310",
     "exception": false,
     "start_time": "2021-04-23T18:51:11.715733",
     "status": "completed"
    },
    "tags": []
   },
   "outputs": [
    {
     "output_type": "execute_result",
     "data": {
      "text/plain": [
       "'.@NorwayMFA #Bahrain police had previously died in a road accident they were not killed by explosion https://t.co/gFJfgTodad'"
      ]
     },
     "metadata": {},
     "execution_count": 25
    }
   ],
   "source": [
    "train_data['text'].iloc[100]"
   ]
  },
  {
   "cell_type": "code",
   "execution_count": 26,
   "metadata": {
    "execution": {
     "iopub.execute_input": "2021-04-23T18:51:11.824838Z",
     "iopub.status.busy": "2021-04-23T18:51:11.824101Z",
     "iopub.status.idle": "2021-04-23T18:51:11.830393Z",
     "shell.execute_reply": "2021-04-23T18:51:11.831092Z"
    },
    "papermill": {
     "duration": 0.042325,
     "end_time": "2021-04-23T18:51:11.831363",
     "exception": false,
     "start_time": "2021-04-23T18:51:11.789038",
     "status": "completed"
    },
    "tags": []
   },
   "outputs": [
    {
     "output_type": "execute_result",
     "data": {
      "text/plain": [
       "'NorwayMFA Bahrain police previously died road accident killed explosion http'"
      ]
     },
     "metadata": {},
     "execution_count": 26
    }
   ],
   "source": [
    "train_data['cleaned_text'].iloc[100]"
   ]
  },
  {
   "cell_type": "code",
   "execution_count": 27,
   "metadata": {
    "execution": {
     "iopub.execute_input": "2021-04-23T18:51:11.904820Z",
     "iopub.status.busy": "2021-04-23T18:51:11.904128Z",
     "iopub.status.idle": "2021-04-23T18:51:11.909149Z",
     "shell.execute_reply": "2021-04-23T18:51:11.908530Z"
    },
    "papermill": {
     "duration": 0.043965,
     "end_time": "2021-04-23T18:51:11.909281",
     "exception": false,
     "start_time": "2021-04-23T18:51:11.865316",
     "status": "completed"
    },
    "tags": []
   },
   "outputs": [
    {
     "output_type": "execute_result",
     "data": {
      "text/plain": [
       "'xaccidentx'"
      ]
     },
     "metadata": {},
     "execution_count": 27
    }
   ],
   "source": [
    "train_data['keyword_unique'].iloc[100]"
   ]
  },
  {
   "cell_type": "code",
   "execution_count": 28,
   "metadata": {
    "execution": {
     "iopub.execute_input": "2021-04-23T18:51:11.982875Z",
     "iopub.status.busy": "2021-04-23T18:51:11.981816Z",
     "iopub.status.idle": "2021-04-23T18:51:11.986536Z",
     "shell.execute_reply": "2021-04-23T18:51:11.985999Z"
    },
    "papermill": {
     "duration": 0.044042,
     "end_time": "2021-04-23T18:51:11.986684",
     "exception": false,
     "start_time": "2021-04-23T18:51:11.942642",
     "status": "completed"
    },
    "tags": []
   },
   "outputs": [
    {
     "output_type": "execute_result",
     "data": {
      "text/plain": [
       "1"
      ]
     },
     "metadata": {},
     "execution_count": 28
    }
   ],
   "source": [
    "train_data['target'].iloc[100]"
   ]
  },
  {
   "cell_type": "markdown",
   "metadata": {
    "papermill": {
     "duration": 0.032965,
     "end_time": "2021-04-23T18:51:12.052938",
     "exception": false,
     "start_time": "2021-04-23T18:51:12.019973",
     "status": "completed"
    },
    "tags": []
   },
   "source": [
    "## Merging the keyword_unique and text column"
   ]
  },
  {
   "cell_type": "code",
   "execution_count": 29,
   "metadata": {
    "execution": {
     "iopub.execute_input": "2021-04-23T18:51:12.126793Z",
     "iopub.status.busy": "2021-04-23T18:51:12.125911Z",
     "iopub.status.idle": "2021-04-23T18:51:12.131200Z",
     "shell.execute_reply": "2021-04-23T18:51:12.130536Z"
    },
    "papermill": {
     "duration": 0.044836,
     "end_time": "2021-04-23T18:51:12.131337",
     "exception": false,
     "start_time": "2021-04-23T18:51:12.086501",
     "status": "completed"
    },
    "tags": []
   },
   "outputs": [
    {
     "output_type": "execute_result",
     "data": {
      "text/plain": [
       "Index(['id', 'keyword', 'location', 'text', 'target', 'keyword_unique',\n",
       "       'cleaned_text'],\n",
       "      dtype='object')"
      ]
     },
     "metadata": {},
     "execution_count": 29
    }
   ],
   "source": [
    "train_data.columns"
   ]
  },
  {
   "cell_type": "code",
   "execution_count": 30,
   "metadata": {
    "execution": {
     "iopub.execute_input": "2021-04-23T18:51:12.206536Z",
     "iopub.status.busy": "2021-04-23T18:51:12.205827Z",
     "iopub.status.idle": "2021-04-23T18:51:12.233311Z",
     "shell.execute_reply": "2021-04-23T18:51:12.232562Z"
    },
    "papermill": {
     "duration": 0.067693,
     "end_time": "2021-04-23T18:51:12.233444",
     "exception": false,
     "start_time": "2021-04-23T18:51:12.165751",
     "status": "completed"
    },
    "tags": []
   },
   "outputs": [],
   "source": [
    "train_data['keyword_unique_cleaned_text'] = train_data['keyword_unique'] + ' ' + train_data['cleaned_text']"
   ]
  },
  {
   "cell_type": "code",
   "execution_count": 31,
   "metadata": {
    "execution": {
     "iopub.execute_input": "2021-04-23T18:51:12.306244Z",
     "iopub.status.busy": "2021-04-23T18:51:12.305619Z",
     "iopub.status.idle": "2021-04-23T18:51:12.311095Z",
     "shell.execute_reply": "2021-04-23T18:51:12.311608Z"
    },
    "papermill": {
     "duration": 0.043236,
     "end_time": "2021-04-23T18:51:12.311795",
     "exception": false,
     "start_time": "2021-04-23T18:51:12.268559",
     "status": "completed"
    },
    "tags": []
   },
   "outputs": [
    {
     "output_type": "execute_result",
     "data": {
      "text/plain": [
       "'xambulancex'"
      ]
     },
     "metadata": {},
     "execution_count": 31
    }
   ],
   "source": [
    "train_data['keyword_unique'].iloc[190]"
   ]
  },
  {
   "cell_type": "code",
   "execution_count": 32,
   "metadata": {
    "execution": {
     "iopub.execute_input": "2021-04-23T18:51:12.384930Z",
     "iopub.status.busy": "2021-04-23T18:51:12.383929Z",
     "iopub.status.idle": "2021-04-23T18:51:12.391229Z",
     "shell.execute_reply": "2021-04-23T18:51:12.390704Z"
    },
    "papermill": {
     "duration": 0.045151,
     "end_time": "2021-04-23T18:51:12.391348",
     "exception": false,
     "start_time": "2021-04-23T18:51:12.346197",
     "status": "completed"
    },
    "tags": []
   },
   "outputs": [
    {
     "output_type": "execute_result",
     "data": {
      "text/plain": [
       "'http Twelve feared killed Pakistani air ambulance helicopter crash http'"
      ]
     },
     "metadata": {},
     "execution_count": 32
    }
   ],
   "source": [
    "train_data['cleaned_text'].iloc[190]"
   ]
  },
  {
   "cell_type": "code",
   "execution_count": 33,
   "metadata": {
    "execution": {
     "iopub.execute_input": "2021-04-23T18:51:12.467107Z",
     "iopub.status.busy": "2021-04-23T18:51:12.466435Z",
     "iopub.status.idle": "2021-04-23T18:51:12.471043Z",
     "shell.execute_reply": "2021-04-23T18:51:12.470502Z"
    },
    "papermill": {
     "duration": 0.044811,
     "end_time": "2021-04-23T18:51:12.471151",
     "exception": false,
     "start_time": "2021-04-23T18:51:12.426340",
     "status": "completed"
    },
    "tags": []
   },
   "outputs": [
    {
     "output_type": "execute_result",
     "data": {
      "text/plain": [
       "'xambulancex http Twelve feared killed Pakistani air ambulance helicopter crash http'"
      ]
     },
     "metadata": {},
     "execution_count": 33
    }
   ],
   "source": [
    "train_data['keyword_unique_cleaned_text'].iloc[190]"
   ]
  },
  {
   "cell_type": "code",
   "execution_count": 34,
   "metadata": {
    "execution": {
     "iopub.execute_input": "2021-04-23T18:51:12.549810Z",
     "iopub.status.busy": "2021-04-23T18:51:12.548876Z",
     "iopub.status.idle": "2021-04-23T18:51:12.553769Z",
     "shell.execute_reply": "2021-04-23T18:51:12.553235Z"
    },
    "papermill": {
     "duration": 0.047721,
     "end_time": "2021-04-23T18:51:12.553886",
     "exception": false,
     "start_time": "2021-04-23T18:51:12.506165",
     "status": "completed"
    },
    "tags": []
   },
   "outputs": [
    {
     "output_type": "execute_result",
     "data": {
      "text/plain": [
       "0         Our Deeds Reason earthquake May ALLAH Forgive u\n",
       "1                   Forest fire near La Ronge Sask Canada\n",
       "2        All resident asked place notified officer No ...\n",
       "3        people receive wildfire evacuation order Cali...\n",
       "4        Just got sent photo Ruby Alaska smoke wildfir...\n",
       "                              ...                        \n",
       "7608     Two giant crane holding bridge collapse nearb...\n",
       "7609     TheTawniest The control wild fire California ...\n",
       "7610                        UTC 5km S Volcano Hawaii http\n",
       "7611     Police investigating collided car Little Port...\n",
       "7612     The Latest More Homes Razed Northern Californ...\n",
       "Name: keyword_unique_cleaned_text, Length: 7613, dtype: object"
      ]
     },
     "metadata": {},
     "execution_count": 34
    }
   ],
   "source": [
    "train_data['keyword_unique_cleaned_text']"
   ]
  },
  {
   "cell_type": "markdown",
   "metadata": {
    "papermill": {
     "duration": 0.035719,
     "end_time": "2021-04-23T18:51:12.625794",
     "exception": false,
     "start_time": "2021-04-23T18:51:12.590075",
     "status": "completed"
    },
    "tags": []
   },
   "source": [
    "## Tf-idf features"
   ]
  },
  {
   "cell_type": "code",
   "execution_count": 37,
   "metadata": {
    "execution": {
     "iopub.execute_input": "2021-04-23T18:51:12.707101Z",
     "iopub.status.busy": "2021-04-23T18:51:12.706397Z",
     "iopub.status.idle": "2021-04-23T18:51:12.911647Z",
     "shell.execute_reply": "2021-04-23T18:51:12.910802Z"
    },
    "papermill": {
     "duration": 0.250149,
     "end_time": "2021-04-23T18:51:12.911770",
     "exception": false,
     "start_time": "2021-04-23T18:51:12.661621",
     "status": "completed"
    },
    "tags": []
   },
   "outputs": [
    {
     "output_type": "execute_result",
     "data": {
      "text/plain": [
       "(7613, 100)"
      ]
     },
     "metadata": {},
     "execution_count": 37
    }
   ],
   "source": [
    "tfidf_vectorizer = TfidfVectorizer(max_features=100)\n",
    "train_data_tfidf = tfidf_vectorizer.fit_transform(train_data['keyword_unique_cleaned_text'])\n",
    "train_data_tfidf.shape"
   ]
  },
  {
   "cell_type": "code",
   "execution_count": 40,
   "metadata": {
    "execution": {
     "iopub.execute_input": "2021-04-23T18:51:12.991978Z",
     "iopub.status.busy": "2021-04-23T18:51:12.991309Z",
     "iopub.status.idle": "2021-04-23T18:51:12.994223Z",
     "shell.execute_reply": "2021-04-23T18:51:12.994743Z"
    },
    "papermill": {
     "duration": 0.046372,
     "end_time": "2021-04-23T18:51:12.994876",
     "exception": false,
     "start_time": "2021-04-23T18:51:12.948504",
     "status": "completed"
    },
    "tags": []
   },
   "outputs": [
    {
     "output_type": "execute_result",
     "data": {
      "text/plain": [
       "['accident',\n",
       " 'amp',\n",
       " 'and',\n",
       " 'as',\n",
       " 'attack',\n",
       " 'back',\n",
       " 'body',\n",
       " 'bomb',\n",
       " 'building',\n",
       " 'burning']"
      ]
     },
     "metadata": {},
     "execution_count": 40
    }
   ],
   "source": [
    "tfidf_vectorizer.get_feature_names()[:10]"
   ]
  },
  {
   "cell_type": "markdown",
   "metadata": {
    "papermill": {
     "duration": 0.036486,
     "end_time": "2021-04-23T18:51:13.068304",
     "exception": false,
     "start_time": "2021-04-23T18:51:13.031818",
     "status": "completed"
    },
    "tags": []
   },
   "source": [
    "## Baseline model"
   ]
  },
  {
   "cell_type": "markdown",
   "metadata": {
    "papermill": {
     "duration": 0.036477,
     "end_time": "2021-04-23T18:51:13.141749",
     "exception": false,
     "start_time": "2021-04-23T18:51:13.105272",
     "status": "completed"
    },
    "tags": []
   },
   "source": [
    "## Linear SVC cross validation."
   ]
  },
  {
   "cell_type": "code",
   "execution_count": 41,
   "metadata": {
    "execution": {
     "iopub.execute_input": "2021-04-23T18:51:13.220739Z",
     "iopub.status.busy": "2021-04-23T18:51:13.219951Z",
     "iopub.status.idle": "2021-04-23T18:51:13.223876Z",
     "shell.execute_reply": "2021-04-23T18:51:13.224379Z"
    },
    "papermill": {
     "duration": 0.045878,
     "end_time": "2021-04-23T18:51:13.224558",
     "exception": false,
     "start_time": "2021-04-23T18:51:13.178680",
     "status": "completed"
    },
    "tags": []
   },
   "outputs": [],
   "source": [
    "svc = LinearSVC()"
   ]
  },
  {
   "cell_type": "code",
   "execution_count": 42,
   "metadata": {
    "execution": {
     "iopub.execute_input": "2021-04-23T18:51:13.304477Z",
     "iopub.status.busy": "2021-04-23T18:51:13.303431Z",
     "iopub.status.idle": "2021-04-23T18:51:15.530774Z",
     "shell.execute_reply": "2021-04-23T18:51:15.531720Z"
    },
    "papermill": {
     "duration": 2.269566,
     "end_time": "2021-04-23T18:51:15.531951",
     "exception": false,
     "start_time": "2021-04-23T18:51:13.262385",
     "status": "completed"
    },
    "tags": []
   },
   "outputs": [
    {
     "output_type": "execute_result",
     "data": {
      "text/plain": [
       "{'fit_time': array([0.0183208 , 0.0177958 , 0.01758409, 0.01740599, 0.01769972]),\n",
       " 'score_time': array([0.00064015, 0.00066519, 0.00075293, 0.00069404, 0.00072336]),\n",
       " 'test_score': array([0.6651346 , 0.62902167, 0.63558766, 0.63994744, 0.72470434]),\n",
       " 'train_score': array([0.71215107, 0.73004926, 0.73136289, 0.72204892, 0.70891479])}"
      ]
     },
     "metadata": {},
     "execution_count": 42
    }
   ],
   "source": [
    "cv_results = cross_validate(svc, train_data_tfidf, train_data['target'], return_train_score=True, n_jobs=-1)\n",
    "cv_results"
   ]
  },
  {
   "cell_type": "markdown",
   "metadata": {
    "papermill": {
     "duration": 0.03761,
     "end_time": "2021-04-23T18:51:15.616307",
     "exception": false,
     "start_time": "2021-04-23T18:51:15.578697",
     "status": "completed"
    },
    "tags": []
   },
   "source": [
    "Kaggle session comments:\n",
    "1. Variation in the test score - cross validation\n",
    "* shuffling can play a role\n",
    "* larger the dataset - lesser the variation\n"
   ]
  },
  {
   "cell_type": "markdown",
   "metadata": {
    "papermill": {
     "duration": 0.037465,
     "end_time": "2021-04-23T18:51:15.691626",
     "exception": false,
     "start_time": "2021-04-23T18:51:15.654161",
     "status": "completed"
    },
    "tags": []
   },
   "source": [
    "## Pipeline"
   ]
  },
  {
   "cell_type": "code",
   "execution_count": 43,
   "metadata": {
    "execution": {
     "iopub.execute_input": "2021-04-23T18:51:15.773923Z",
     "iopub.status.busy": "2021-04-23T18:51:15.773097Z",
     "iopub.status.idle": "2021-04-23T18:51:15.776078Z",
     "shell.execute_reply": "2021-04-23T18:51:15.776548Z"
    },
    "papermill": {
     "duration": 0.047343,
     "end_time": "2021-04-23T18:51:15.776714",
     "exception": false,
     "start_time": "2021-04-23T18:51:15.729371",
     "status": "completed"
    },
    "tags": []
   },
   "outputs": [],
   "source": [
    "text_clf = Pipeline(\n",
    "    [\n",
    "        ('tfidf_vect', TfidfVectorizer()),\n",
    "        ('clf', LinearSVC()),\n",
    "    ]\n",
    ")"
   ]
  },
  {
   "cell_type": "code",
   "execution_count": 45,
   "metadata": {
    "execution": {
     "iopub.execute_input": "2021-04-23T18:51:15.862321Z",
     "iopub.status.busy": "2021-04-23T18:51:15.861655Z",
     "iopub.status.idle": "2021-04-23T18:51:15.876263Z",
     "shell.execute_reply": "2021-04-23T18:51:15.876839Z"
    },
    "papermill": {
     "duration": 0.062115,
     "end_time": "2021-04-23T18:51:15.876997",
     "exception": false,
     "start_time": "2021-04-23T18:51:15.814882",
     "status": "completed"
    },
    "tags": []
   },
   "outputs": [],
   "source": [
    "parameters = {\n",
    "    'tfidf_vect__strip_accents': ('unicode', None),\n",
    "    'tfidf_vect__ngram_range': [(1, 1), (1, 2), (1, 2, 3), (2, 3), (2, 2)],\n",
    "    'tfidf_vect__max_df': [0.6, 0.8, 0.95],\n",
    "    'tfidf_vect__min_df': [0.0, 0.1, 0.25],\n",
    "    'tfidf_vect__max_features': [100, 500, 1000, 10000],\n",
    "    'tfidf_vect__binary': [True, False],\n",
    "    'tfidf_vect__norm': ['l1', 'l2'],\n",
    "    'tfidf_vect__use_idf': [True, False],\n",
    "    'tfidf_vect__sublinear_tf': [True, False],\n",
    "    'clf__dual': [True, False],\n",
    "    'clf__C': [1, 10, 100],\n",
    "    'clf__class_weight': ['balanced', None],\n",
    "    'clf__random_state': [42]\n",
    "}"
   ]
  },
  {
   "cell_type": "code",
   "execution_count": 48,
   "metadata": {
    "execution": {
     "iopub.execute_input": "2021-04-23T18:51:15.980167Z",
     "iopub.status.busy": "2021-04-23T18:51:15.979455Z",
     "iopub.status.idle": "2021-04-23T18:51:16.086437Z",
     "shell.execute_reply": "2021-04-23T18:51:16.085824Z"
    },
    "papermill": {
     "duration": 0.161087,
     "end_time": "2021-04-23T18:51:16.086606",
     "exception": false,
     "start_time": "2021-04-23T18:51:15.925519",
     "status": "completed"
    },
    "tags": []
   },
   "outputs": [],
   "source": [
    "gs_clf = GridSearchCV(text_clf, parameters, n_jobs=-1, verbose = 2)"
   ]
  },
  {
   "cell_type": "code",
   "execution_count": 49,
   "metadata": {
    "execution": {
     "iopub.execute_input": "2021-04-23T18:51:16.184104Z",
     "iopub.status.busy": "2021-04-23T18:51:16.178318Z",
     "iopub.status.idle": "2021-04-23T18:51:16.187507Z",
     "shell.execute_reply": "2021-04-23T18:51:16.188141Z"
    },
    "papermill": {
     "duration": 0.061844,
     "end_time": "2021-04-23T18:51:16.188372",
     "exception": false,
     "start_time": "2021-04-23T18:51:16.126528",
     "status": "completed"
    },
    "tags": []
   },
   "outputs": [
    {
     "output_type": "stream",
     "name": "stdout",
     "text": [
      "Fitting 5 folds for each of 69120 candidates, totalling 345600 fits\n",
      "Exception in thread Thread-5:\n",
      "Traceback (most recent call last):\n",
      "  File \"/Users/mihir/opt/anaconda3/envs/nlp_disaster_tweets/lib/python3.9/threading.py\", line 954, in _bootstrap_inner\n",
      "    self.run()\n",
      "  File \"/Users/mihir/opt/anaconda3/envs/nlp_disaster_tweets/lib/python3.9/site-packages/joblib/externals/loky/process_executor.py\", line 567, in run\n",
      "    self.flag_executor_shutting_down()\n",
      "  File \"/Users/mihir/opt/anaconda3/envs/nlp_disaster_tweets/lib/python3.9/site-packages/joblib/externals/loky/process_executor.py\", line 756, in flag_executor_shutting_down\n",
      "    self.kill_workers()\n",
      "  File \"/Users/mihir/opt/anaconda3/envs/nlp_disaster_tweets/lib/python3.9/site-packages/joblib/externals/loky/process_executor.py\", line 766, in kill_workers\n",
      "    recursive_terminate(p)\n",
      "  File \"/Users/mihir/opt/anaconda3/envs/nlp_disaster_tweets/lib/python3.9/site-packages/joblib/externals/loky/backend/utils.py\", line 28, in recursive_terminate\n",
      "    _recursive_terminate_without_psutil(process)\n",
      "  File \"/Users/mihir/opt/anaconda3/envs/nlp_disaster_tweets/lib/python3.9/site-packages/joblib/externals/loky/backend/utils.py\", line 53, in _recursive_terminate_without_psutil\n",
      "    _recursive_terminate(process.pid)\n",
      "  File \"/Users/mihir/opt/anaconda3/envs/nlp_disaster_tweets/lib/python3.9/site-packages/joblib/externals/loky/backend/utils.py\", line 92, in _recursive_terminate\n",
      "    children_pids = subprocess.check_output(\n",
      "  File \"/Users/mihir/opt/anaconda3/envs/nlp_disaster_tweets/lib/python3.9/subprocess.py\", line 420, in check_output\n",
      "    return run(*popenargs, stdout=PIPE, timeout=timeout, check=True,\n",
      "  File \"/Users/mihir/opt/anaconda3/envs/nlp_disaster_tweets/lib/python3.9/subprocess.py\", line 524, in run\n",
      "    raise CalledProcessError(retcode, process.args,\n",
      "subprocess.CalledProcessError: Command '['pgrep', '-P', '56940']' died with <Signals.SIGINT: 2>.\n"
     ]
    },
    {
     "output_type": "error",
     "ename": "KeyboardInterrupt",
     "evalue": "",
     "traceback": [
      "\u001b[0;31m---------------------------------------------------------------------------\u001b[0m",
      "\u001b[0;31mKeyboardInterrupt\u001b[0m                         Traceback (most recent call last)",
      "\u001b[0;32m~/opt/anaconda3/envs/nlp_disaster_tweets/lib/python3.9/site-packages/joblib/parallel.py\u001b[0m in \u001b[0;36mretrieve\u001b[0;34m(self)\u001b[0m\n\u001b[1;32m    932\u001b[0m                 \u001b[0;32mif\u001b[0m \u001b[0mgetattr\u001b[0m\u001b[0;34m(\u001b[0m\u001b[0mself\u001b[0m\u001b[0;34m.\u001b[0m\u001b[0m_backend\u001b[0m\u001b[0;34m,\u001b[0m \u001b[0;34m'supports_timeout'\u001b[0m\u001b[0;34m,\u001b[0m \u001b[0;32mFalse\u001b[0m\u001b[0;34m)\u001b[0m\u001b[0;34m:\u001b[0m\u001b[0;34m\u001b[0m\u001b[0;34m\u001b[0m\u001b[0m\n\u001b[0;32m--> 933\u001b[0;31m                     \u001b[0mself\u001b[0m\u001b[0;34m.\u001b[0m\u001b[0m_output\u001b[0m\u001b[0;34m.\u001b[0m\u001b[0mextend\u001b[0m\u001b[0;34m(\u001b[0m\u001b[0mjob\u001b[0m\u001b[0;34m.\u001b[0m\u001b[0mget\u001b[0m\u001b[0;34m(\u001b[0m\u001b[0mtimeout\u001b[0m\u001b[0;34m=\u001b[0m\u001b[0mself\u001b[0m\u001b[0;34m.\u001b[0m\u001b[0mtimeout\u001b[0m\u001b[0;34m)\u001b[0m\u001b[0;34m)\u001b[0m\u001b[0;34m\u001b[0m\u001b[0;34m\u001b[0m\u001b[0m\n\u001b[0m\u001b[1;32m    934\u001b[0m                 \u001b[0;32melse\u001b[0m\u001b[0;34m:\u001b[0m\u001b[0;34m\u001b[0m\u001b[0;34m\u001b[0m\u001b[0m\n",
      "\u001b[0;32m~/opt/anaconda3/envs/nlp_disaster_tweets/lib/python3.9/site-packages/joblib/_parallel_backends.py\u001b[0m in \u001b[0;36mwrap_future_result\u001b[0;34m(future, timeout)\u001b[0m\n\u001b[1;32m    541\u001b[0m         \u001b[0;32mtry\u001b[0m\u001b[0;34m:\u001b[0m\u001b[0;34m\u001b[0m\u001b[0;34m\u001b[0m\u001b[0m\n\u001b[0;32m--> 542\u001b[0;31m             \u001b[0;32mreturn\u001b[0m \u001b[0mfuture\u001b[0m\u001b[0;34m.\u001b[0m\u001b[0mresult\u001b[0m\u001b[0;34m(\u001b[0m\u001b[0mtimeout\u001b[0m\u001b[0;34m=\u001b[0m\u001b[0mtimeout\u001b[0m\u001b[0;34m)\u001b[0m\u001b[0;34m\u001b[0m\u001b[0;34m\u001b[0m\u001b[0m\n\u001b[0m\u001b[1;32m    543\u001b[0m         \u001b[0;32mexcept\u001b[0m \u001b[0mCfTimeoutError\u001b[0m \u001b[0;32mas\u001b[0m \u001b[0me\u001b[0m\u001b[0;34m:\u001b[0m\u001b[0;34m\u001b[0m\u001b[0;34m\u001b[0m\u001b[0m\n",
      "\u001b[0;32m~/opt/anaconda3/envs/nlp_disaster_tweets/lib/python3.9/concurrent/futures/_base.py\u001b[0m in \u001b[0;36mresult\u001b[0;34m(self, timeout)\u001b[0m\n\u001b[1;32m    434\u001b[0m \u001b[0;34m\u001b[0m\u001b[0m\n\u001b[0;32m--> 435\u001b[0;31m             \u001b[0mself\u001b[0m\u001b[0;34m.\u001b[0m\u001b[0m_condition\u001b[0m\u001b[0;34m.\u001b[0m\u001b[0mwait\u001b[0m\u001b[0;34m(\u001b[0m\u001b[0mtimeout\u001b[0m\u001b[0;34m)\u001b[0m\u001b[0;34m\u001b[0m\u001b[0;34m\u001b[0m\u001b[0m\n\u001b[0m\u001b[1;32m    436\u001b[0m \u001b[0;34m\u001b[0m\u001b[0m\n",
      "\u001b[0;32m~/opt/anaconda3/envs/nlp_disaster_tweets/lib/python3.9/threading.py\u001b[0m in \u001b[0;36mwait\u001b[0;34m(self, timeout)\u001b[0m\n\u001b[1;32m    311\u001b[0m             \u001b[0;32mif\u001b[0m \u001b[0mtimeout\u001b[0m \u001b[0;32mis\u001b[0m \u001b[0;32mNone\u001b[0m\u001b[0;34m:\u001b[0m\u001b[0;34m\u001b[0m\u001b[0;34m\u001b[0m\u001b[0m\n\u001b[0;32m--> 312\u001b[0;31m                 \u001b[0mwaiter\u001b[0m\u001b[0;34m.\u001b[0m\u001b[0macquire\u001b[0m\u001b[0;34m(\u001b[0m\u001b[0;34m)\u001b[0m\u001b[0;34m\u001b[0m\u001b[0;34m\u001b[0m\u001b[0m\n\u001b[0m\u001b[1;32m    313\u001b[0m                 \u001b[0mgotit\u001b[0m \u001b[0;34m=\u001b[0m \u001b[0;32mTrue\u001b[0m\u001b[0;34m\u001b[0m\u001b[0;34m\u001b[0m\u001b[0m\n",
      "\u001b[0;31mKeyboardInterrupt\u001b[0m: ",
      "\nDuring handling of the above exception, another exception occurred:\n",
      "\u001b[0;31mKeyboardInterrupt\u001b[0m                         Traceback (most recent call last)",
      "\u001b[0;32m<ipython-input-49-d0c43f13adee>\u001b[0m in \u001b[0;36m<module>\u001b[0;34m\u001b[0m\n\u001b[0;32m----> 1\u001b[0;31m \u001b[0mgs_clf\u001b[0m \u001b[0;34m=\u001b[0m \u001b[0mgs_clf\u001b[0m\u001b[0;34m.\u001b[0m\u001b[0mfit\u001b[0m\u001b[0;34m(\u001b[0m\u001b[0mtrain_data\u001b[0m\u001b[0;34m[\u001b[0m\u001b[0;34m'keyword_unique_cleaned_text'\u001b[0m\u001b[0;34m]\u001b[0m\u001b[0;34m,\u001b[0m \u001b[0mtrain_data\u001b[0m\u001b[0;34m[\u001b[0m\u001b[0;34m'target'\u001b[0m\u001b[0;34m]\u001b[0m\u001b[0;34m)\u001b[0m\u001b[0;34m\u001b[0m\u001b[0;34m\u001b[0m\u001b[0m\n\u001b[0m",
      "\u001b[0;32m~/opt/anaconda3/envs/nlp_disaster_tweets/lib/python3.9/site-packages/sklearn/utils/validation.py\u001b[0m in \u001b[0;36minner_f\u001b[0;34m(*args, **kwargs)\u001b[0m\n\u001b[1;32m     61\u001b[0m             \u001b[0mextra_args\u001b[0m \u001b[0;34m=\u001b[0m \u001b[0mlen\u001b[0m\u001b[0;34m(\u001b[0m\u001b[0margs\u001b[0m\u001b[0;34m)\u001b[0m \u001b[0;34m-\u001b[0m \u001b[0mlen\u001b[0m\u001b[0;34m(\u001b[0m\u001b[0mall_args\u001b[0m\u001b[0;34m)\u001b[0m\u001b[0;34m\u001b[0m\u001b[0;34m\u001b[0m\u001b[0m\n\u001b[1;32m     62\u001b[0m             \u001b[0;32mif\u001b[0m \u001b[0mextra_args\u001b[0m \u001b[0;34m<=\u001b[0m \u001b[0;36m0\u001b[0m\u001b[0;34m:\u001b[0m\u001b[0;34m\u001b[0m\u001b[0;34m\u001b[0m\u001b[0m\n\u001b[0;32m---> 63\u001b[0;31m                 \u001b[0;32mreturn\u001b[0m \u001b[0mf\u001b[0m\u001b[0;34m(\u001b[0m\u001b[0;34m*\u001b[0m\u001b[0margs\u001b[0m\u001b[0;34m,\u001b[0m \u001b[0;34m**\u001b[0m\u001b[0mkwargs\u001b[0m\u001b[0;34m)\u001b[0m\u001b[0;34m\u001b[0m\u001b[0;34m\u001b[0m\u001b[0m\n\u001b[0m\u001b[1;32m     64\u001b[0m \u001b[0;34m\u001b[0m\u001b[0m\n\u001b[1;32m     65\u001b[0m             \u001b[0;31m# extra_args > 0\u001b[0m\u001b[0;34m\u001b[0m\u001b[0;34m\u001b[0m\u001b[0;34m\u001b[0m\u001b[0m\n",
      "\u001b[0;32m~/opt/anaconda3/envs/nlp_disaster_tweets/lib/python3.9/site-packages/sklearn/model_selection/_search.py\u001b[0m in \u001b[0;36mfit\u001b[0;34m(self, X, y, groups, **fit_params)\u001b[0m\n\u001b[1;32m    839\u001b[0m                 \u001b[0;32mreturn\u001b[0m \u001b[0mresults\u001b[0m\u001b[0;34m\u001b[0m\u001b[0;34m\u001b[0m\u001b[0m\n\u001b[1;32m    840\u001b[0m \u001b[0;34m\u001b[0m\u001b[0m\n\u001b[0;32m--> 841\u001b[0;31m             \u001b[0mself\u001b[0m\u001b[0;34m.\u001b[0m\u001b[0m_run_search\u001b[0m\u001b[0;34m(\u001b[0m\u001b[0mevaluate_candidates\u001b[0m\u001b[0;34m)\u001b[0m\u001b[0;34m\u001b[0m\u001b[0;34m\u001b[0m\u001b[0m\n\u001b[0m\u001b[1;32m    842\u001b[0m \u001b[0;34m\u001b[0m\u001b[0m\n\u001b[1;32m    843\u001b[0m             \u001b[0;31m# multimetric is determined here because in the case of a callable\u001b[0m\u001b[0;34m\u001b[0m\u001b[0;34m\u001b[0m\u001b[0;34m\u001b[0m\u001b[0m\n",
      "\u001b[0;32m~/opt/anaconda3/envs/nlp_disaster_tweets/lib/python3.9/site-packages/sklearn/model_selection/_search.py\u001b[0m in \u001b[0;36m_run_search\u001b[0;34m(self, evaluate_candidates)\u001b[0m\n\u001b[1;32m   1286\u001b[0m     \u001b[0;32mdef\u001b[0m \u001b[0m_run_search\u001b[0m\u001b[0;34m(\u001b[0m\u001b[0mself\u001b[0m\u001b[0;34m,\u001b[0m \u001b[0mevaluate_candidates\u001b[0m\u001b[0;34m)\u001b[0m\u001b[0;34m:\u001b[0m\u001b[0;34m\u001b[0m\u001b[0;34m\u001b[0m\u001b[0m\n\u001b[1;32m   1287\u001b[0m         \u001b[0;34m\"\"\"Search all candidates in param_grid\"\"\"\u001b[0m\u001b[0;34m\u001b[0m\u001b[0;34m\u001b[0m\u001b[0m\n\u001b[0;32m-> 1288\u001b[0;31m         \u001b[0mevaluate_candidates\u001b[0m\u001b[0;34m(\u001b[0m\u001b[0mParameterGrid\u001b[0m\u001b[0;34m(\u001b[0m\u001b[0mself\u001b[0m\u001b[0;34m.\u001b[0m\u001b[0mparam_grid\u001b[0m\u001b[0;34m)\u001b[0m\u001b[0;34m)\u001b[0m\u001b[0;34m\u001b[0m\u001b[0;34m\u001b[0m\u001b[0m\n\u001b[0m\u001b[1;32m   1289\u001b[0m \u001b[0;34m\u001b[0m\u001b[0m\n\u001b[1;32m   1290\u001b[0m \u001b[0;34m\u001b[0m\u001b[0m\n",
      "\u001b[0;32m~/opt/anaconda3/envs/nlp_disaster_tweets/lib/python3.9/site-packages/sklearn/model_selection/_search.py\u001b[0m in \u001b[0;36mevaluate_candidates\u001b[0;34m(candidate_params, cv, more_results)\u001b[0m\n\u001b[1;32m    793\u001b[0m                               n_splits, n_candidates, n_candidates * n_splits))\n\u001b[1;32m    794\u001b[0m \u001b[0;34m\u001b[0m\u001b[0m\n\u001b[0;32m--> 795\u001b[0;31m                 out = parallel(delayed(_fit_and_score)(clone(base_estimator),\n\u001b[0m\u001b[1;32m    796\u001b[0m                                                        \u001b[0mX\u001b[0m\u001b[0;34m,\u001b[0m \u001b[0my\u001b[0m\u001b[0;34m,\u001b[0m\u001b[0;34m\u001b[0m\u001b[0;34m\u001b[0m\u001b[0m\n\u001b[1;32m    797\u001b[0m                                                        \u001b[0mtrain\u001b[0m\u001b[0;34m=\u001b[0m\u001b[0mtrain\u001b[0m\u001b[0;34m,\u001b[0m \u001b[0mtest\u001b[0m\u001b[0;34m=\u001b[0m\u001b[0mtest\u001b[0m\u001b[0;34m,\u001b[0m\u001b[0;34m\u001b[0m\u001b[0;34m\u001b[0m\u001b[0m\n",
      "\u001b[0;32m~/opt/anaconda3/envs/nlp_disaster_tweets/lib/python3.9/site-packages/joblib/parallel.py\u001b[0m in \u001b[0;36m__call__\u001b[0;34m(self, iterable)\u001b[0m\n\u001b[1;32m   1052\u001b[0m \u001b[0;34m\u001b[0m\u001b[0m\n\u001b[1;32m   1053\u001b[0m             \u001b[0;32mwith\u001b[0m \u001b[0mself\u001b[0m\u001b[0;34m.\u001b[0m\u001b[0m_backend\u001b[0m\u001b[0;34m.\u001b[0m\u001b[0mretrieval_context\u001b[0m\u001b[0;34m(\u001b[0m\u001b[0;34m)\u001b[0m\u001b[0;34m:\u001b[0m\u001b[0;34m\u001b[0m\u001b[0;34m\u001b[0m\u001b[0m\n\u001b[0;32m-> 1054\u001b[0;31m                 \u001b[0mself\u001b[0m\u001b[0;34m.\u001b[0m\u001b[0mretrieve\u001b[0m\u001b[0;34m(\u001b[0m\u001b[0;34m)\u001b[0m\u001b[0;34m\u001b[0m\u001b[0;34m\u001b[0m\u001b[0m\n\u001b[0m\u001b[1;32m   1055\u001b[0m             \u001b[0;31m# Make sure that we get a last message telling us we are done\u001b[0m\u001b[0;34m\u001b[0m\u001b[0;34m\u001b[0m\u001b[0;34m\u001b[0m\u001b[0m\n\u001b[1;32m   1056\u001b[0m             \u001b[0melapsed_time\u001b[0m \u001b[0;34m=\u001b[0m \u001b[0mtime\u001b[0m\u001b[0;34m.\u001b[0m\u001b[0mtime\u001b[0m\u001b[0;34m(\u001b[0m\u001b[0;34m)\u001b[0m \u001b[0;34m-\u001b[0m \u001b[0mself\u001b[0m\u001b[0;34m.\u001b[0m\u001b[0m_start_time\u001b[0m\u001b[0;34m\u001b[0m\u001b[0;34m\u001b[0m\u001b[0m\n",
      "\u001b[0;32m~/opt/anaconda3/envs/nlp_disaster_tweets/lib/python3.9/site-packages/joblib/parallel.py\u001b[0m in \u001b[0;36mretrieve\u001b[0;34m(self)\u001b[0m\n\u001b[1;32m    953\u001b[0m                     \u001b[0;31m# scheduling.\u001b[0m\u001b[0;34m\u001b[0m\u001b[0;34m\u001b[0m\u001b[0;34m\u001b[0m\u001b[0m\n\u001b[1;32m    954\u001b[0m                     \u001b[0mensure_ready\u001b[0m \u001b[0;34m=\u001b[0m \u001b[0mself\u001b[0m\u001b[0;34m.\u001b[0m\u001b[0m_managed_backend\u001b[0m\u001b[0;34m\u001b[0m\u001b[0;34m\u001b[0m\u001b[0m\n\u001b[0;32m--> 955\u001b[0;31m                     \u001b[0mbackend\u001b[0m\u001b[0;34m.\u001b[0m\u001b[0mabort_everything\u001b[0m\u001b[0;34m(\u001b[0m\u001b[0mensure_ready\u001b[0m\u001b[0;34m=\u001b[0m\u001b[0mensure_ready\u001b[0m\u001b[0;34m)\u001b[0m\u001b[0;34m\u001b[0m\u001b[0;34m\u001b[0m\u001b[0m\n\u001b[0m\u001b[1;32m    956\u001b[0m                 \u001b[0;32mraise\u001b[0m\u001b[0;34m\u001b[0m\u001b[0;34m\u001b[0m\u001b[0m\n\u001b[1;32m    957\u001b[0m \u001b[0;34m\u001b[0m\u001b[0m\n",
      "\u001b[0;32m~/opt/anaconda3/envs/nlp_disaster_tweets/lib/python3.9/site-packages/joblib/_parallel_backends.py\u001b[0m in \u001b[0;36mabort_everything\u001b[0;34m(self, ensure_ready)\u001b[0m\n\u001b[1;32m    559\u001b[0m         \"\"\"Shutdown the workers and restart a new one with the same parameters\n\u001b[1;32m    560\u001b[0m         \"\"\"\n\u001b[0;32m--> 561\u001b[0;31m         \u001b[0mself\u001b[0m\u001b[0;34m.\u001b[0m\u001b[0m_workers\u001b[0m\u001b[0;34m.\u001b[0m\u001b[0mterminate\u001b[0m\u001b[0;34m(\u001b[0m\u001b[0mkill_workers\u001b[0m\u001b[0;34m=\u001b[0m\u001b[0;32mTrue\u001b[0m\u001b[0;34m)\u001b[0m\u001b[0;34m\u001b[0m\u001b[0;34m\u001b[0m\u001b[0m\n\u001b[0m\u001b[1;32m    562\u001b[0m         \u001b[0mself\u001b[0m\u001b[0;34m.\u001b[0m\u001b[0m_workers\u001b[0m \u001b[0;34m=\u001b[0m \u001b[0;32mNone\u001b[0m\u001b[0;34m\u001b[0m\u001b[0;34m\u001b[0m\u001b[0m\n\u001b[1;32m    563\u001b[0m \u001b[0;34m\u001b[0m\u001b[0m\n",
      "\u001b[0;32m~/opt/anaconda3/envs/nlp_disaster_tweets/lib/python3.9/site-packages/joblib/executor.py\u001b[0m in \u001b[0;36mterminate\u001b[0;34m(self, kill_workers)\u001b[0m\n\u001b[1;32m     72\u001b[0m \u001b[0;34m\u001b[0m\u001b[0m\n\u001b[1;32m     73\u001b[0m     \u001b[0;32mdef\u001b[0m \u001b[0mterminate\u001b[0m\u001b[0;34m(\u001b[0m\u001b[0mself\u001b[0m\u001b[0;34m,\u001b[0m \u001b[0mkill_workers\u001b[0m\u001b[0;34m=\u001b[0m\u001b[0;32mFalse\u001b[0m\u001b[0;34m)\u001b[0m\u001b[0;34m:\u001b[0m\u001b[0;34m\u001b[0m\u001b[0;34m\u001b[0m\u001b[0m\n\u001b[0;32m---> 74\u001b[0;31m         \u001b[0mself\u001b[0m\u001b[0;34m.\u001b[0m\u001b[0mshutdown\u001b[0m\u001b[0;34m(\u001b[0m\u001b[0mkill_workers\u001b[0m\u001b[0;34m=\u001b[0m\u001b[0mkill_workers\u001b[0m\u001b[0;34m)\u001b[0m\u001b[0;34m\u001b[0m\u001b[0;34m\u001b[0m\u001b[0m\n\u001b[0m\u001b[1;32m     75\u001b[0m         \u001b[0;32mif\u001b[0m \u001b[0mkill_workers\u001b[0m\u001b[0;34m:\u001b[0m\u001b[0;34m\u001b[0m\u001b[0;34m\u001b[0m\u001b[0m\n\u001b[1;32m     76\u001b[0m             \u001b[0;31m# When workers are killed in such a brutal manner, they cannot\u001b[0m\u001b[0;34m\u001b[0m\u001b[0;34m\u001b[0m\u001b[0;34m\u001b[0m\u001b[0m\n",
      "\u001b[0;32m~/opt/anaconda3/envs/nlp_disaster_tweets/lib/python3.9/site-packages/joblib/externals/loky/process_executor.py\u001b[0m in \u001b[0;36mshutdown\u001b[0;34m(self, wait, kill_workers)\u001b[0m\n\u001b[1;32m   1169\u001b[0m \u001b[0;34m\u001b[0m\u001b[0m\n\u001b[1;32m   1170\u001b[0m         \u001b[0;32mif\u001b[0m \u001b[0mexecutor_manager_thread\u001b[0m \u001b[0;32mis\u001b[0m \u001b[0;32mnot\u001b[0m \u001b[0;32mNone\u001b[0m \u001b[0;32mand\u001b[0m \u001b[0mwait\u001b[0m\u001b[0;34m:\u001b[0m\u001b[0;34m\u001b[0m\u001b[0;34m\u001b[0m\u001b[0m\n\u001b[0;32m-> 1171\u001b[0;31m             \u001b[0mexecutor_manager_thread\u001b[0m\u001b[0;34m.\u001b[0m\u001b[0mjoin\u001b[0m\u001b[0;34m(\u001b[0m\u001b[0;34m)\u001b[0m\u001b[0;34m\u001b[0m\u001b[0;34m\u001b[0m\u001b[0m\n\u001b[0m\u001b[1;32m   1172\u001b[0m \u001b[0;34m\u001b[0m\u001b[0m\n\u001b[1;32m   1173\u001b[0m         \u001b[0;31m# To reduce the risk of opening too many files, remove references to\u001b[0m\u001b[0;34m\u001b[0m\u001b[0;34m\u001b[0m\u001b[0;34m\u001b[0m\u001b[0m\n",
      "\u001b[0;32m~/opt/anaconda3/envs/nlp_disaster_tweets/lib/python3.9/threading.py\u001b[0m in \u001b[0;36mjoin\u001b[0;34m(self, timeout)\u001b[0m\n\u001b[1;32m   1031\u001b[0m \u001b[0;34m\u001b[0m\u001b[0m\n\u001b[1;32m   1032\u001b[0m         \u001b[0;32mif\u001b[0m \u001b[0mtimeout\u001b[0m \u001b[0;32mis\u001b[0m \u001b[0;32mNone\u001b[0m\u001b[0;34m:\u001b[0m\u001b[0;34m\u001b[0m\u001b[0;34m\u001b[0m\u001b[0m\n\u001b[0;32m-> 1033\u001b[0;31m             \u001b[0mself\u001b[0m\u001b[0;34m.\u001b[0m\u001b[0m_wait_for_tstate_lock\u001b[0m\u001b[0;34m(\u001b[0m\u001b[0;34m)\u001b[0m\u001b[0;34m\u001b[0m\u001b[0;34m\u001b[0m\u001b[0m\n\u001b[0m\u001b[1;32m   1034\u001b[0m         \u001b[0;32melse\u001b[0m\u001b[0;34m:\u001b[0m\u001b[0;34m\u001b[0m\u001b[0;34m\u001b[0m\u001b[0m\n\u001b[1;32m   1035\u001b[0m             \u001b[0;31m# the behavior of a negative timeout isn't documented, but\u001b[0m\u001b[0;34m\u001b[0m\u001b[0;34m\u001b[0m\u001b[0;34m\u001b[0m\u001b[0m\n",
      "\u001b[0;32m~/opt/anaconda3/envs/nlp_disaster_tweets/lib/python3.9/threading.py\u001b[0m in \u001b[0;36m_wait_for_tstate_lock\u001b[0;34m(self, block, timeout)\u001b[0m\n\u001b[1;32m   1047\u001b[0m         \u001b[0;32mif\u001b[0m \u001b[0mlock\u001b[0m \u001b[0;32mis\u001b[0m \u001b[0;32mNone\u001b[0m\u001b[0;34m:\u001b[0m  \u001b[0;31m# already determined that the C code is done\u001b[0m\u001b[0;34m\u001b[0m\u001b[0;34m\u001b[0m\u001b[0m\n\u001b[1;32m   1048\u001b[0m             \u001b[0;32massert\u001b[0m \u001b[0mself\u001b[0m\u001b[0;34m.\u001b[0m\u001b[0m_is_stopped\u001b[0m\u001b[0;34m\u001b[0m\u001b[0;34m\u001b[0m\u001b[0m\n\u001b[0;32m-> 1049\u001b[0;31m         \u001b[0;32melif\u001b[0m \u001b[0mlock\u001b[0m\u001b[0;34m.\u001b[0m\u001b[0macquire\u001b[0m\u001b[0;34m(\u001b[0m\u001b[0mblock\u001b[0m\u001b[0;34m,\u001b[0m \u001b[0mtimeout\u001b[0m\u001b[0;34m)\u001b[0m\u001b[0;34m:\u001b[0m\u001b[0;34m\u001b[0m\u001b[0;34m\u001b[0m\u001b[0m\n\u001b[0m\u001b[1;32m   1050\u001b[0m             \u001b[0mlock\u001b[0m\u001b[0;34m.\u001b[0m\u001b[0mrelease\u001b[0m\u001b[0;34m(\u001b[0m\u001b[0;34m)\u001b[0m\u001b[0;34m\u001b[0m\u001b[0;34m\u001b[0m\u001b[0m\n\u001b[1;32m   1051\u001b[0m             \u001b[0mself\u001b[0m\u001b[0;34m.\u001b[0m\u001b[0m_stop\u001b[0m\u001b[0;34m(\u001b[0m\u001b[0;34m)\u001b[0m\u001b[0;34m\u001b[0m\u001b[0;34m\u001b[0m\u001b[0m\n",
      "\u001b[0;31mKeyboardInterrupt\u001b[0m: "
     ]
    }
   ],
   "source": [
    "gs_clf = gs_clf.fit(train_data['keyword_unique_cleaned_text'], train_data['target'])"
   ]
  },
  {
   "cell_type": "markdown",
   "metadata": {
    "papermill": {
     "duration": 0.039893,
     "end_time": "2021-04-23T18:51:16.270359",
     "exception": false,
     "start_time": "2021-04-23T18:51:16.230466",
     "status": "completed"
    },
    "tags": []
   },
   "source": [
    "Soufiane:\n",
    "1. Seaborn plot"
   ]
  }
 ],
 "metadata": {
  "kernelspec": {
   "name": "python391jvsc74a57bd0eeaa6f7f9d55900aa89bc3c04a1751ad3ee5030fffb5fb27314dbd7b21d279ee",
   "display_name": "Python 3.9.1 64-bit ('nlp_disaster_tweets': conda)"
  },
  "language_info": {
   "codemirror_mode": {
    "name": "ipython",
    "version": 3
   },
   "file_extension": ".py",
   "mimetype": "text/x-python",
   "name": "python",
   "nbconvert_exporter": "python",
   "pygments_lexer": "ipython3",
   "version": "3.9.1"
  },
  "papermill": {
   "duration": 20.205122,
   "end_time": "2021-04-23T18:51:16.435914",
   "environment_variables": {},
   "exception": null,
   "input_path": "__notebook__.ipynb",
   "output_path": "__notebook__.ipynb",
   "parameters": {},
   "start_time": "2021-04-23T18:50:56.230792",
   "version": "2.1.0"
  },
  "metadata": {
   "interpreter": {
    "hash": "eeaa6f7f9d55900aa89bc3c04a1751ad3ee5030fffb5fb27314dbd7b21d279ee"
   }
  }
 },
 "nbformat": 4,
 "nbformat_minor": 4
}